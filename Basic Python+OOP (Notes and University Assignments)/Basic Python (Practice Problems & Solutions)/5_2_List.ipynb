{
  "nbformat": 4,
  "nbformat_minor": 0,
  "metadata": {
    "colab": {
      "provenance": [],
      "authorship_tag": "ABX9TyPLysF/QKso0Pc44b3SXfeC",
      "include_colab_link": true
    },
    "kernelspec": {
      "name": "python3",
      "display_name": "Python 3"
    },
    "language_info": {
      "name": "python"
    }
  },
  "cells": [
    {
      "cell_type": "markdown",
      "metadata": {
        "id": "view-in-github",
        "colab_type": "text"
      },
      "source": [
        "<a href=\"https://colab.research.google.com/github/ApurbaKumarNath/today-i-learned/blob/main/Basic%20Python%2BOOP%20(Notes%20and%20University%20Assignments)/Basic%20Python%20(Practice%20Problems%20%26%20Solutions)/5_2_List.ipynb\" target=\"_parent\"><img src=\"https://colab.research.google.com/assets/colab-badge.svg\" alt=\"Open In Colab\"/></a>"
      ]
    },
    {
      "cell_type": "markdown",
      "source": [
        "Task 1"
      ],
      "metadata": {
        "id": "AGVwETtXDpCW"
      }
    },
    {
      "cell_type": "code",
      "execution_count": null,
      "metadata": {
        "colab": {
          "base_uri": "https://localhost:8080/"
        },
        "id": "s_4cNyyd5HNO",
        "outputId": "2fa0b3fa-19e2-4b7f-ded0-11d5dba6e711"
      },
      "outputs": [
        {
          "output_type": "stream",
          "name": "stdout",
          "text": [
            "69696969696969\n",
            "\"Numbers in the list: [69696969696969]\"\n",
            "Fucking bitches\n",
            "69696969\n",
            "\"Numbers in the list: [69696969696969, 69696969]\"\n",
            "Fucking bitches\n",
            "696969\n",
            "\"Numbers in the list: [69696969696969, 69696969, 696969]\"\n",
            "Fucking bitches\n",
            "696969\n",
            "\"Numbers in the list: [69696969696969, 69696969, 696969, 696969]\"\n",
            "Fucking bitches\n",
            "69696969\n",
            "\"Numbers in the list: [69696969696969, 69696969, 696969, 696969, 69696969]\"\n",
            "Fucking bitches\n"
          ]
        }
      ],
      "source": [
        "sum = []\n",
        "for i in range(5):\n",
        "  sum.append(int(input()))\n",
        "  print(f'\"Numbers in the list: {sum}\"')"
      ]
    },
    {
      "cell_type": "markdown",
      "source": [
        "Task 2"
      ],
      "metadata": {
        "id": "zcxeP4LnD18e"
      }
    },
    {
      "cell_type": "code",
      "source": [
        "string = input()\n",
        "sum = []\n",
        "string = string.split(', ')\n",
        "\n",
        "if len(string) < 4:\n",
        "  print('Not possible')\n",
        "\n",
        "else:\n",
        "  string = string[2 : len(string)-2]\n",
        "\n",
        "  for i in string:\n",
        "    i = int(i)\n",
        "    sum.append(i)\n",
        "\n",
        "  print(sum)"
      ],
      "metadata": {
        "colab": {
          "base_uri": "https://localhost:8080/"
        },
        "id": "_N6OZCxx8ysV",
        "outputId": "1bc50e6d-2c19-49e7-951e-e55cc3d261e6"
      },
      "execution_count": null,
      "outputs": [
        {
          "output_type": "stream",
          "name": "stdout",
          "text": [
            "11, 12, 13\n",
            "Not possible\n"
          ]
        }
      ]
    },
    {
      "cell_type": "markdown",
      "source": [
        "Task 3"
      ],
      "metadata": {
        "id": "B8BmcLX-D3r_"
      }
    },
    {
      "cell_type": "code",
      "source": [
        "num = []\n",
        "for i in range(5):\n",
        "  num.append(int(input()))\n",
        "print('Printing values from the list in reverse order:')\n",
        "for x in num[-1::-1]:\n",
        "  print(x)"
      ],
      "metadata": {
        "colab": {
          "base_uri": "https://localhost:8080/"
        },
        "id": "VXKBLPqbDYze",
        "outputId": "d4a0f5a0-40ab-4001-a5d5-d6e7044074b2"
      },
      "execution_count": null,
      "outputs": [
        {
          "output_type": "stream",
          "name": "stdout",
          "text": [
            "0\n",
            "1\n",
            "3\n",
            "2\n",
            "3\n",
            "Printing values from the list in reverse order:\n",
            "3\n",
            "2\n",
            "3\n",
            "1\n",
            "0\n"
          ]
        }
      ]
    },
    {
      "cell_type": "markdown",
      "source": [
        "Task 4"
      ],
      "metadata": {
        "id": "Oy9iCX0-GU3O"
      }
    },
    {
      "cell_type": "code",
      "source": [
        "given = [1, 2, 3, 4, 5, 6, 7]\n",
        "result = []\n",
        "\n",
        "for i in given:\n",
        "  i = i**2\n",
        "  result.append(i)\n",
        "print(result)"
      ],
      "metadata": {
        "colab": {
          "base_uri": "https://localhost:8080/"
        },
        "id": "gKpmzSkaGWcW",
        "outputId": "f11d4cf2-ea36-4eb3-cbdc-7912537d2ef7"
      },
      "execution_count": null,
      "outputs": [
        {
          "output_type": "stream",
          "name": "stdout",
          "text": [
            "[1, 4, 9, 16, 25, 36, 49]\n"
          ]
        }
      ]
    },
    {
      "cell_type": "markdown",
      "source": [
        "Task 5"
      ],
      "metadata": {
        "id": "-J3j1B9oJMWu"
      }
    },
    {
      "cell_type": "code",
      "source": [
        "given = [\"hey\", \"there\", \"\", \"what's\", \"\", \"up\", \"\", \"?\"]\n",
        "modified = []\n",
        "print('Original List:', given)\n",
        "for i in given:\n",
        "  if i != '':\n",
        "    modified.append(i)\n",
        "print('Modified List:', modified)"
      ],
      "metadata": {
        "colab": {
          "base_uri": "https://localhost:8080/"
        },
        "id": "XJ8aWdFeJN09",
        "outputId": "a845afb0-2f9d-444e-c52d-35997333c76d"
      },
      "execution_count": null,
      "outputs": [
        {
          "output_type": "stream",
          "name": "stdout",
          "text": [
            "Original List: ['hey', 'there', '', \"what's\", '', 'up', '', '?']\n",
            "Modified List: ['hey', 'there', \"what's\", 'up', '?']\n"
          ]
        }
      ]
    },
    {
      "cell_type": "markdown",
      "source": [
        "Task 6"
      ],
      "metadata": {
        "id": "27YAut4APni2"
      }
    },
    {
      "cell_type": "code",
      "source": [
        "string = input()\n",
        "string = string.split(',')\n",
        "num = []\n",
        "\n",
        "for i in string:\n",
        "  num.append(int(i))\n",
        "max = num[0]\n",
        "index = 0\n",
        "\n",
        "for i in range(len(num)):\n",
        "  if max < num[i]:\n",
        "    max = num[i]\n",
        "    index = i\n",
        "\n",
        "print('My list:', num)\n",
        "print(f'Largest number in the list is {max} which was found at index {index}.')"
      ],
      "metadata": {
        "colab": {
          "base_uri": "https://localhost:8080/"
        },
        "id": "TaFlkOiaPo5P",
        "outputId": "5d3425f6-a23b-4608-87f8-8aa2f9368374"
      },
      "execution_count": null,
      "outputs": [
        {
          "output_type": "stream",
          "name": "stdout",
          "text": [
            "13, 7, 8, 12\n",
            "My list: [13, 7, 8, 12]\n",
            "Largest number in the list is 13 which was found at index 0.\n"
          ]
        }
      ]
    },
    {
      "cell_type": "markdown",
      "source": [
        "Task 7"
      ],
      "metadata": {
        "id": "GdSRcmQuUbEf"
      }
    },
    {
      "cell_type": "code",
      "source": [
        "List_one = [1, 4, 7, 5]\n",
        "List_two = [6, 1, 3, 9]\n",
        "print(List_one[:len(List_one)-1] + List_two)"
      ],
      "metadata": {
        "colab": {
          "base_uri": "https://localhost:8080/"
        },
        "id": "G6asylPsUc3P",
        "outputId": "b9137999-b1ca-484e-cc92-2f0402a2be62"
      },
      "execution_count": null,
      "outputs": [
        {
          "output_type": "stream",
          "name": "stdout",
          "text": [
            "[1, 4, 7, 6, 1, 3, 9]\n",
            "[1, 3, 5, 7, 9, 2, 4, 6, 8]\n"
          ]
        }
      ]
    },
    {
      "cell_type": "markdown",
      "source": [
        "Task 8"
      ],
      "metadata": {
        "id": "fHv5yvZwY8yw"
      }
    },
    {
      "cell_type": "code",
      "source": [
        "list_one = [1, 2, 3, 4, 5, 6, 7, 8, 9]\n",
        "list_two = [10, 11, 12, -13, -14, -15, -16]\n",
        "l = list_one + list_two\n",
        "third = []\n",
        "for i in l:\n",
        "  if i % 2 == 0:\n",
        "    third.append(i)\n",
        "print(third)"
      ],
      "metadata": {
        "colab": {
          "base_uri": "https://localhost:8080/"
        },
        "id": "GMIa5pdAY-On",
        "outputId": "b2a7987d-7690-4ffb-982c-e228fd2da5f9"
      },
      "execution_count": null,
      "outputs": [
        {
          "output_type": "stream",
          "name": "stdout",
          "text": [
            "[2, 4, 6, 8, 10, 12, -14, -16]\n"
          ]
        }
      ]
    },
    {
      "cell_type": "markdown",
      "source": [
        "Task 9"
      ],
      "metadata": {
        "id": "duazgLNkbzMZ"
      }
    },
    {
      "cell_type": "code",
      "source": [
        "string = input()\n",
        "ch = ''\n",
        "li = []\n",
        "mli = []\n",
        "for i in string:\n",
        "  if i != ' ':\n",
        "    ch += i\n",
        "  else:\n",
        "    li.append(int(ch))\n",
        "    ch = ''\n",
        "li.append(int(ch))\n",
        "print('Original list:', li)\n",
        "\n",
        "for x in li:\n",
        "  if x % 2 != 0:\n",
        "    mli.append(x)\n",
        "print('Modified list:', mli)"
      ],
      "metadata": {
        "colab": {
          "base_uri": "https://localhost:8080/"
        },
        "id": "SzGr-Bdfe7Js",
        "outputId": "51d070b5-76db-4b2e-f4d3-4e2e23511365"
      },
      "execution_count": null,
      "outputs": [
        {
          "output_type": "stream",
          "name": "stdout",
          "text": [
            "7 12 4 55 96 2 11 61 33 42\n",
            "Original list: [7, 12, 4, 55, 96, 2, 11, 61, 33, 42]\n",
            "Modified list: [7, 55, 11, 61, 33]\n"
          ]
        }
      ]
    },
    {
      "cell_type": "markdown",
      "source": [
        "Task 10"
      ],
      "metadata": {
        "id": "VaFrw3Pnr3tX"
      }
    },
    {
      "cell_type": "code",
      "source": [
        "string = input()\n",
        "li = string.split(', ')\n",
        "num = []\n",
        "for i in li:\n",
        "  num.append(int(i))\n",
        "print(num)\n",
        "\n",
        "lis = []\n",
        "for x in num:\n",
        "  if x not in lis:\n",
        "    lis.append(x)\n",
        "print(lis)"
      ],
      "metadata": {
        "id": "Zs0kfiCsr5v_",
        "colab": {
          "base_uri": "https://localhost:8080/"
        },
        "outputId": "f054939b-e800-4dce-d544-cde8f58c2421"
      },
      "execution_count": null,
      "outputs": [
        {
          "output_type": "stream",
          "name": "stdout",
          "text": [
            "0, 0, 1, 2, 3, 4, 4, 5, 6, 6, 6, 7, 8, 9, 4, 4\n",
            "[0, 0, 1, 2, 3, 4, 4, 5, 6, 6, 6, 7, 8, 9, 4, 4]\n",
            "[0, 1, 2, 3, 4, 5, 6, 7, 8, 9]\n"
          ]
        }
      ]
    },
    {
      "cell_type": "markdown",
      "source": [
        "Task 11"
      ],
      "metadata": {
        "id": "eEZVP0xCuTns"
      }
    },
    {
      "cell_type": "code",
      "source": [
        "List_one = [1, 4, 3, 2, 6]\n",
        "List_two = [5, 6, 9, 8, 7]\n",
        "flag = False\n",
        "for i in List_one:\n",
        "  if i in List_two:\n",
        "    flag = True\n",
        "print(flag)"
      ],
      "metadata": {
        "colab": {
          "base_uri": "https://localhost:8080/"
        },
        "id": "z_sWtt71uUst",
        "outputId": "0ebbfa5f-051c-4524-a698-3249ac336c95"
      },
      "execution_count": null,
      "outputs": [
        {
          "output_type": "stream",
          "name": "stdout",
          "text": [
            "True\n"
          ]
        }
      ]
    },
    {
      "cell_type": "markdown",
      "source": [
        "Task 16"
      ],
      "metadata": {
        "id": "1x4lLQf8zhBW"
      }
    },
    {
      "cell_type": "code",
      "source": [
        "# My 1st method: get the max value and compare the difference between that with other values to get second max.\n",
        "string = input().split(', ')\n",
        "li = []\n",
        "for i in string:\n",
        "  li.append(int(i))\n",
        "print('My list:', li)\n",
        "\n",
        "max = li[0]\n",
        "for i in range(len(li)):\n",
        "  if max < li[i]:\n",
        "    max = li[i]\n",
        "\n",
        "for x in range(len(li)):\n",
        "  if max > li[x]:\n",
        "    diff = max - li[x]\n",
        "    break\n",
        "\n",
        "for y in range(len(li)):\n",
        "  if max > li[y]:\n",
        "    if diff >= max - li[y]:\n",
        "      diff = max - li[y]\n",
        "      sec = li[y]\n",
        "      index = y\n",
        "\n",
        "print(f'Second largest number in the list is {sec} which was found at index {index}.')"
      ],
      "metadata": {
        "id": "n3qC1c43ziYA",
        "colab": {
          "base_uri": "https://localhost:8080/"
        },
        "outputId": "a3e6bbdb-f3e9-48d3-efc5-99bd1d657cbc"
      },
      "execution_count": null,
      "outputs": [
        {
          "output_type": "stream",
          "name": "stdout",
          "text": [
            "7, 7, 6, 5\n",
            "My list: [7, 7, 6, 5]\n",
            "Second largest number in the list is 7 which was found at index 1.\n"
          ]
        }
      ]
    },
    {
      "cell_type": "code",
      "source": [
        "# 2nd method: get the max and make 2nd list excluding the max value. Then, get the max for 2nd list. That is 2nd max for the 1st list.\n",
        "string = input().split(', ')\n",
        "li = []\n",
        "for i in string:\n",
        "  li.append(int(i))\n",
        "print('My list:', li)\n",
        "\n",
        "max = li[0]\n",
        "for j in range(len(li)):\n",
        "  if max < li[j]:\n",
        "    max = li[j]\n",
        "\n",
        "li2 = li.copy()\n",
        "for x in li:\n",
        "  if x == max:\n",
        "    li2.remove(x)\n",
        "\n",
        "max2 = li2[0]\n",
        "for y in range(len(li2)):\n",
        "  if max2 < li2[y]:\n",
        "    max2 = li2[y]\n",
        "\n",
        "for z in range(len(li)):\n",
        "  if max2 == li[z]:\n",
        "    index = z\n",
        "print(f'Second largest number in the list is {max2} which was found at index {index}.')"
      ],
      "metadata": {
        "colab": {
          "base_uri": "https://localhost:8080/"
        },
        "id": "wBMXs1Vuuhdy",
        "outputId": "ee142842-cc69-475f-d02b-54e4835e9267"
      },
      "execution_count": null,
      "outputs": [
        {
          "output_type": "stream",
          "name": "stdout",
          "text": [
            "7, 7, 6, 5\n",
            "My list: [7, 7, 6, 5]\n",
            "[6, 5]\n",
            "Second largest number in the list is 6 which was found at index 2.\n"
          ]
        }
      ]
    },
    {
      "cell_type": "code",
      "source": [
        "# Friend's given way:\n",
        "user=input(\"Input: \").split(\",\")\n",
        "li=[]\n",
        "for i in user:\n",
        "    li.append(int(i))\n",
        "largest=float('-inf')\n",
        "for i in li:\n",
        "    if i>largest:\n",
        "        second_largest=largest\n",
        "        largest=i\n",
        "    elif second_largest<i:\n",
        "        second_largest=i\n",
        "print(f\"My list: {li}\")\n",
        "print(f\"Second largest number in the list is {second_largest} which was found at index {li.index(second_largest)}.\")"
      ],
      "metadata": {
        "colab": {
          "base_uri": "https://localhost:8080/"
        },
        "id": "rSMCc_C1VReb",
        "outputId": "8caef75a-176d-41c0-c324-f6b7853bc906"
      },
      "execution_count": null,
      "outputs": [
        {
          "output_type": "stream",
          "name": "stdout",
          "text": [
            "Input: 7, 7, 6, 5\n",
            "My list: [7, 7, 6, 5]\n",
            "Second largest number in the list is 7 which was found at index 0.\n"
          ]
        }
      ]
    },
    {
      "cell_type": "markdown",
      "source": [
        "Task 17"
      ],
      "metadata": {
        "id": "MGxt9lzv2CHA"
      }
    },
    {
      "cell_type": "code",
      "source": [
        "string = input().split(', ')\n",
        "li = []\n",
        "for i in string:\n",
        "  li.append(int(i))\n",
        "print('My list:', li)\n",
        "\n",
        "for x in range(5):\n",
        "  if x == 0:\n",
        "    max = li[x]\n",
        "    min = li[x]\n",
        "    maxindex = x\n",
        "    minindex = x\n",
        "  elif max < li[x]:\n",
        "    max = li[x]\n",
        "    maxindex = x\n",
        "  elif min > li[x]:\n",
        "    min = li[x]\n",
        "    minindex = x\n",
        "print(f'Smallest number in the list is {min} which was found at index {minindex}')\n",
        "print(f'Largest number in the list is {max} which was found at index {maxindex}')"
      ],
      "metadata": {
        "colab": {
          "base_uri": "https://localhost:8080/"
        },
        "id": "ftHjOaxe2DWz",
        "outputId": "41a2d0a7-f046-453c-e136-2c39c1eff2ab"
      },
      "execution_count": null,
      "outputs": [
        {
          "output_type": "stream",
          "name": "stdout",
          "text": [
            "7, 13, -5, 10, 6\n",
            "My list: [7, 13, -5, 10, 6]\n",
            "Smallest number in the list is -5 which was found at index 2\n",
            "Largest number in the list is 13 which was found at index 1\n"
          ]
        }
      ]
    },
    {
      "cell_type": "markdown",
      "source": [
        "Task 18"
      ],
      "metadata": {
        "id": "VrBVxrEU5aZV"
      }
    },
    {
      "cell_type": "code",
      "source": [
        "li1 = input().split(', ')\n",
        "li2 = input().split(', ')\n",
        "li = []\n",
        "for i in li1:\n",
        "  if i in li2:\n",
        "    li.append(i)\n",
        "print(li)"
      ],
      "metadata": {
        "colab": {
          "base_uri": "https://localhost:8080/"
        },
        "id": "TA324wHZ5b9i",
        "outputId": "a06eddae-649a-4d3b-8816-ca0af0db1662"
      },
      "execution_count": null,
      "outputs": [
        {
          "output_type": "stream",
          "name": "stdout",
          "text": [
            "1, 3, A, H, P\n",
            "A, G, 1, P, O\n",
            "['1', 'A', 'P']\n"
          ]
        }
      ]
    },
    {
      "cell_type": "markdown",
      "source": [
        "Task 19"
      ],
      "metadata": {
        "id": "ZG1pklzY6aZZ"
      }
    },
    {
      "cell_type": "code",
      "source": [
        "list_one = [1, 2, 2, 4, 5, 5, 7, 99, 200, 303, 70]\n",
        "list_two = [1, 1, 2, 3, 3, 3, 4, 5, 200, 500, -5]\n",
        "li3 = list_one + list_two\n",
        "li = []\n",
        "for i in li3:\n",
        "  if i not in li:\n",
        "    li.append(i)\n",
        "print(li)"
      ],
      "metadata": {
        "colab": {
          "base_uri": "https://localhost:8080/"
        },
        "id": "jcpeQGxA6bxm",
        "outputId": "0e74d726-edac-4420-c059-0119e23c72a6"
      },
      "execution_count": null,
      "outputs": [
        {
          "output_type": "stream",
          "name": "stdout",
          "text": [
            "[1, 2, 4, 5, 7, 99, 200, 303, 70, 3, 500, -5]\n"
          ]
        }
      ]
    },
    {
      "cell_type": "markdown",
      "source": [
        "Task 20"
      ],
      "metadata": {
        "id": "TYcovitL8Smi"
      }
    },
    {
      "cell_type": "code",
      "source": [
        "string = (input().strip('\"')).strip(\"'\")\n",
        "print('Original data:', string)\n",
        "\n",
        "string = ((string.strip()).strip('[')).strip(']')\n",
        "print('After removing square brackets:', string)\n",
        "\n",
        "li = string.split(', ')\n",
        "print('Numbers in string format with extra white spaces:', li)\n",
        "\n",
        "li2 = []\n",
        "for i in li:\n",
        "  li2.append(int(i))\n",
        "print('Final data (numbers in list format):', li2)"
      ],
      "metadata": {
        "colab": {
          "base_uri": "https://localhost:8080/"
        },
        "id": "EtEDVqN68TIe",
        "outputId": "62d32437-e399-45d0-bd97-582634d165a6"
      },
      "execution_count": null,
      "outputs": [
        {
          "output_type": "stream",
          "name": "stdout",
          "text": [
            "\"      [1,   2   ,         3,   50,   4]         '\n",
            "Original data:       [1,   2   ,         3,   50,   4]         \n",
            "After removing square brackets: 1,   2   ,         3,   50,   4\n",
            "Numbers in string format with extra white spaces: ['1', '  2   ', '        3', '  50', '  4']\n",
            "Final data (numbers in list format): [1, 2, 3, 50, 4]\n"
          ]
        }
      ]
    },
    {
      "cell_type": "markdown",
      "source": [
        "Task 21"
      ],
      "metadata": {
        "id": "fcNDA1H8B0pn"
      }
    },
    {
      "cell_type": "code",
      "source": [
        "string = input().split(', ')\n",
        "li = []\n",
        "for i in string:\n",
        "  li.append(int(i))\n",
        "print('Given numbers in list:', li)\n",
        "d = []\n",
        "for x in li:\n",
        "  if x not in d:\n",
        "    d.append(x)\n",
        "print('List without any dupliacte values:', d)"
      ],
      "metadata": {
        "colab": {
          "base_uri": "https://localhost:8080/"
        },
        "id": "4SUlN44YB2LF",
        "outputId": "aa268e28-20cb-46a2-9706-b3599939e02f"
      },
      "execution_count": null,
      "outputs": [
        {
          "output_type": "stream",
          "name": "stdout",
          "text": [
            "7, 7, 7, 1,           0, 3, 3,   55, 9\n",
            "Given numbers in list: [7, 7, 7, 1, 0, 3, 3, 55, 9]\n",
            "List without any dupliacte values: [7, 1, 0, 3, 55, 9]\n"
          ]
        }
      ]
    },
    {
      "cell_type": "code",
      "source": [
        "# Writing just some basic things. No need to see this.\n",
        "user = input().split(', ') # Inputs should be numbers only.\n",
        "# Now if you want only this user list to have the numbers in int, do this:\n",
        "for i in range(len(user)):\n",
        "  user[i] = [int(user[i])] # Let's suppose you want every int in separate lists.\n",
        "print(user)\n",
        "\n",
        "# Now if you want to append in those separate lists, do this:\n",
        "for j in user:\n",
        "  j.append(int(input()))\n",
        "print(user)\n",
        "\n",
        "for x, y in user:\n",
        "  print(x + y)"
      ],
      "metadata": {
        "colab": {
          "base_uri": "https://localhost:8080/"
        },
        "id": "6I9Dw3_99sR1",
        "outputId": "ff843e49-1b4f-4daf-963b-9b4afeb31b60"
      },
      "execution_count": null,
      "outputs": [
        {
          "output_type": "stream",
          "name": "stdout",
          "text": [
            "1, 2, 3\n",
            "[[1], [2], [3]]\n",
            "4\n",
            "5\n",
            "6\n",
            "[[1, 4], [2, 5], [3, 6]]\n",
            "5\n",
            "7\n",
            "9\n"
          ]
        }
      ]
    }
  ]
}