{
  "nbformat": 4,
  "nbformat_minor": 0,
  "metadata": {
    "colab": {
      "provenance": [],
      "authorship_tag": "ABX9TyPygYVocTm8b7Le1Ur6vZ5/",
      "include_colab_link": true
    },
    "kernelspec": {
      "name": "python3",
      "display_name": "Python 3"
    },
    "language_info": {
      "name": "python"
    }
  },
  "cells": [
    {
      "cell_type": "markdown",
      "metadata": {
        "id": "view-in-github",
        "colab_type": "text"
      },
      "source": [
        "<a href=\"https://colab.research.google.com/github/ApurbaKumarNath/today-i-learned/blob/main/Basic%20Python%2BOOP%20(Notes%20and%20University%20Assignments)/Basic%20Python%20(Practice%20Problems%20%26%20Solutions)/Midterm%20%26%20Final/2_5_Lab_Final.ipynb\" target=\"_parent\"><img src=\"https://colab.research.google.com/assets/colab-badge.svg\" alt=\"Open In Colab\"/></a>"
      ]
    },
    {
      "cell_type": "code",
      "execution_count": null,
      "metadata": {
        "colab": {
          "base_uri": "https://localhost:8080/"
        },
        "id": "2v9LEkm2KCU4",
        "outputId": "e0a9cdf6-69a4-4291-e18d-23f0c3ffd300"
      },
      "outputs": [
        {
          "output_type": "stream",
          "name": "stdout",
          "text": [
            "New Course:\n",
            "Title: Invalid Title\n",
            "Code: Invalid Code\n"
          ]
        }
      ],
      "source": [
        "def generate_course(cn):\n",
        "  n = cn.split(' ')\n",
        "  if int(n[0][-1]) % 2 == 0:\n",
        "    code = 'Invalid Code'\n",
        "    title = 'Invalid Title'\n",
        "  else:\n",
        "    code = n[0][0:len(n[0])-1] + str(int(n[0][-1])+ 1)\n",
        "    title = ''\n",
        "    for i in range(len(n[1])):\n",
        "      if i % 2 != 0:\n",
        "        title += chr(ord(n[1][i])+1)\n",
        "      else:\n",
        "        title += n[1][i]\n",
        "  return (code, title)\n",
        "\n",
        "ccn = generate_course('CSE420 Compiler')\n",
        "code, title = ccn\n",
        "print(f'New Course:\\nTitle: {title}\\nCode: {code}')"
      ]
    }
  ]
}