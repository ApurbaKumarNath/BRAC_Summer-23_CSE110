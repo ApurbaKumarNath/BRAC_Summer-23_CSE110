{
  "nbformat": 4,
  "nbformat_minor": 0,
  "metadata": {
    "colab": {
      "provenance": [],
      "authorship_tag": "ABX9TyPvqtmgR3yBa+c9oI27DTKd",
      "include_colab_link": true
    },
    "kernelspec": {
      "name": "python3",
      "display_name": "Python 3"
    },
    "language_info": {
      "name": "python"
    }
  },
  "cells": [
    {
      "cell_type": "markdown",
      "metadata": {
        "id": "view-in-github",
        "colab_type": "text"
      },
      "source": [
        "<a href=\"https://colab.research.google.com/github/ApurbaKumarNath/BRAC_Summer-23_CSE_Lab/blob/main/Assignment_5.ipynb\" target=\"_parent\"><img src=\"https://colab.research.google.com/assets/colab-badge.svg\" alt=\"Open In Colab\"/></a>"
      ]
    },
    {
      "cell_type": "markdown",
      "source": [
        "Task 1"
      ],
      "metadata": {
        "id": "AGVwETtXDpCW"
      }
    },
    {
      "cell_type": "code",
      "execution_count": null,
      "metadata": {
        "colab": {
          "base_uri": "https://localhost:8080/"
        },
        "id": "s_4cNyyd5HNO",
        "outputId": "2fa0b3fa-19e2-4b7f-ded0-11d5dba6e711"
      },
      "outputs": [
        {
          "output_type": "stream",
          "name": "stdout",
          "text": [
            "69696969696969\n",
            "\"Numbers in the list: [69696969696969]\"\n",
            "Fucking bitches\n",
            "69696969\n",
            "\"Numbers in the list: [69696969696969, 69696969]\"\n",
            "Fucking bitches\n",
            "696969\n",
            "\"Numbers in the list: [69696969696969, 69696969, 696969]\"\n",
            "Fucking bitches\n",
            "696969\n",
            "\"Numbers in the list: [69696969696969, 69696969, 696969, 696969]\"\n",
            "Fucking bitches\n",
            "69696969\n",
            "\"Numbers in the list: [69696969696969, 69696969, 696969, 696969, 69696969]\"\n",
            "Fucking bitches\n"
          ]
        }
      ],
      "source": [
        "sum = []\n",
        "for i in range(5):\n",
        "  sum.append(int(input()))\n",
        "  print(f'\"Numbers in the list: {sum}\"')"
      ]
    },
    {
      "cell_type": "markdown",
      "source": [
        "Task 2"
      ],
      "metadata": {
        "id": "zcxeP4LnD18e"
      }
    },
    {
      "cell_type": "code",
      "source": [
        "string = input()\n",
        "sum = []\n",
        "string = string.split(', ')\n",
        "\n",
        "if len(string) < 4:\n",
        "  print('Not possible')\n",
        "\n",
        "else:\n",
        "  string = string[2 : len(string)-2]\n",
        "\n",
        "  for i in string:\n",
        "    i = int(i)\n",
        "    sum.append(i)\n",
        "\n",
        "  print(sum)"
      ],
      "metadata": {
        "colab": {
          "base_uri": "https://localhost:8080/"
        },
        "id": "_N6OZCxx8ysV",
        "outputId": "1bc50e6d-2c19-49e7-951e-e55cc3d261e6"
      },
      "execution_count": null,
      "outputs": [
        {
          "output_type": "stream",
          "name": "stdout",
          "text": [
            "11, 12, 13\n",
            "Not possible\n"
          ]
        }
      ]
    },
    {
      "cell_type": "markdown",
      "source": [
        "Task 3"
      ],
      "metadata": {
        "id": "B8BmcLX-D3r_"
      }
    },
    {
      "cell_type": "code",
      "source": [
        "num = []\n",
        "for i in range(5):\n",
        "  num.append(int(input()))\n",
        "print('Printing values from the list in reverse order:')\n",
        "for x in num[-1::-1]:\n",
        "  print(x)"
      ],
      "metadata": {
        "colab": {
          "base_uri": "https://localhost:8080/"
        },
        "id": "VXKBLPqbDYze",
        "outputId": "d4a0f5a0-40ab-4001-a5d5-d6e7044074b2"
      },
      "execution_count": null,
      "outputs": [
        {
          "output_type": "stream",
          "name": "stdout",
          "text": [
            "0\n",
            "1\n",
            "3\n",
            "2\n",
            "3\n",
            "Printing values from the list in reverse order:\n",
            "3\n",
            "2\n",
            "3\n",
            "1\n",
            "0\n"
          ]
        }
      ]
    },
    {
      "cell_type": "markdown",
      "source": [
        "Task 4"
      ],
      "metadata": {
        "id": "Oy9iCX0-GU3O"
      }
    },
    {
      "cell_type": "code",
      "source": [
        "given = [1, 2, 3, 4, 5, 6, 7]\n",
        "result = []\n",
        "\n",
        "for i in given:\n",
        "  i = i**2\n",
        "  result.append(i)\n",
        "print(result)"
      ],
      "metadata": {
        "colab": {
          "base_uri": "https://localhost:8080/"
        },
        "id": "gKpmzSkaGWcW",
        "outputId": "f11d4cf2-ea36-4eb3-cbdc-7912537d2ef7"
      },
      "execution_count": null,
      "outputs": [
        {
          "output_type": "stream",
          "name": "stdout",
          "text": [
            "[1, 4, 9, 16, 25, 36, 49]\n"
          ]
        }
      ]
    },
    {
      "cell_type": "markdown",
      "source": [
        "Task 5"
      ],
      "metadata": {
        "id": "-J3j1B9oJMWu"
      }
    },
    {
      "cell_type": "code",
      "source": [
        "given = [\"hey\", \"there\", \"\", \"what's\", \"\", \"up\", \"\", \"?\"]\n",
        "modified = []\n",
        "print('Original List:', given)\n",
        "for i in given:\n",
        "  if i != '':\n",
        "    modified.append(i)\n",
        "print('Modified List:', modified)"
      ],
      "metadata": {
        "colab": {
          "base_uri": "https://localhost:8080/"
        },
        "id": "XJ8aWdFeJN09",
        "outputId": "a845afb0-2f9d-444e-c52d-35997333c76d"
      },
      "execution_count": null,
      "outputs": [
        {
          "output_type": "stream",
          "name": "stdout",
          "text": [
            "Original List: ['hey', 'there', '', \"what's\", '', 'up', '', '?']\n",
            "Modified List: ['hey', 'there', \"what's\", 'up', '?']\n"
          ]
        }
      ]
    },
    {
      "cell_type": "markdown",
      "source": [
        "Task 6"
      ],
      "metadata": {
        "id": "27YAut4APni2"
      }
    },
    {
      "cell_type": "code",
      "source": [
        "string = input()\n",
        "string = string.split(',')\n",
        "num = []\n",
        "\n",
        "for i in string:\n",
        "  num.append(int(i))\n",
        "max = num[0]\n",
        "\n",
        "for i in range(len(num)):\n",
        "  if max < num[i]:\n",
        "    max = num[i]\n",
        "    index = i\n",
        "\n",
        "print('My list:', num)\n",
        "print(f'Largest number in the list is {max} which was found at index {index}.')"
      ],
      "metadata": {
        "colab": {
          "base_uri": "https://localhost:8080/"
        },
        "id": "TaFlkOiaPo5P",
        "outputId": "ed96c4a1-0910-4724-fbe9-bedb9ebede88"
      },
      "execution_count": null,
      "outputs": [
        {
          "output_type": "stream",
          "name": "stdout",
          "text": [
            "7,13,2,10,6,-11,0\n",
            "My list: [7, 13, 2, 10, 6, -11, 0]\n",
            "Largest number in the list is 13 which was found at index 1.\n"
          ]
        }
      ]
    },
    {
      "cell_type": "markdown",
      "source": [
        "Task 7"
      ],
      "metadata": {
        "id": "GdSRcmQuUbEf"
      }
    },
    {
      "cell_type": "code",
      "source": [
        "List_one = [1, 4, 7, 5]\n",
        "List_two = [6, 1, 3, 9]\n",
        "print(List_one[:len(List_one)-1] + List_two)"
      ],
      "metadata": {
        "colab": {
          "base_uri": "https://localhost:8080/"
        },
        "id": "G6asylPsUc3P",
        "outputId": "b9137999-b1ca-484e-cc92-2f0402a2be62"
      },
      "execution_count": null,
      "outputs": [
        {
          "output_type": "stream",
          "name": "stdout",
          "text": [
            "[1, 4, 7, 6, 1, 3, 9]\n",
            "[1, 3, 5, 7, 9, 2, 4, 6, 8]\n"
          ]
        }
      ]
    },
    {
      "cell_type": "markdown",
      "source": [
        "Task 8"
      ],
      "metadata": {
        "id": "fHv5yvZwY8yw"
      }
    },
    {
      "cell_type": "code",
      "source": [
        "list_one = [1, 2, 3, 4, 5, 6, 7, 8, 9]\n",
        "list_two = [10, 11, 12, -13, -14, -15, -16]\n",
        "l = list_one + list_two\n",
        "third = []\n",
        "for i in l:\n",
        "  if i % 2 == 0:\n",
        "    third.append(i)\n",
        "print(third)"
      ],
      "metadata": {
        "colab": {
          "base_uri": "https://localhost:8080/"
        },
        "id": "GMIa5pdAY-On",
        "outputId": "b2a7987d-7690-4ffb-982c-e228fd2da5f9"
      },
      "execution_count": null,
      "outputs": [
        {
          "output_type": "stream",
          "name": "stdout",
          "text": [
            "[2, 4, 6, 8, 10, 12, -14, -16]\n"
          ]
        }
      ]
    },
    {
      "cell_type": "markdown",
      "source": [
        "Task 9"
      ],
      "metadata": {
        "id": "duazgLNkbzMZ"
      }
    },
    {
      "cell_type": "code",
      "source": [
        "string = input()\n",
        "ch = ''\n",
        "li = []\n",
        "mli = []\n",
        "for i in string:\n",
        "  if i != ' ':\n",
        "    ch += i\n",
        "  else:\n",
        "    li.append(int(ch))\n",
        "    ch = ''\n",
        "li.append(int(ch))\n",
        "print('Original list:', li)\n",
        "\n",
        "for x in li:\n",
        "  if x % 2 != 0:\n",
        "    mli.append(x)\n",
        "print('Modified list:', mli)"
      ],
      "metadata": {
        "colab": {
          "base_uri": "https://localhost:8080/"
        },
        "id": "SzGr-Bdfe7Js",
        "outputId": "51d070b5-76db-4b2e-f4d3-4e2e23511365"
      },
      "execution_count": null,
      "outputs": [
        {
          "output_type": "stream",
          "name": "stdout",
          "text": [
            "7 12 4 55 96 2 11 61 33 42\n",
            "Original list: [7, 12, 4, 55, 96, 2, 11, 61, 33, 42]\n",
            "Modified list: [7, 55, 11, 61, 33]\n"
          ]
        }
      ]
    },
    {
      "cell_type": "markdown",
      "source": [
        "Task 10"
      ],
      "metadata": {
        "id": "VaFrw3Pnr3tX"
      }
    },
    {
      "cell_type": "code",
      "source": [
        "string = input()\n",
        "li = string.split(', ')\n",
        "print(li)\n",
        "lis = []\n",
        "for i in li:\n",
        "  if i not in lis:\n",
        "    lis.append(i)\n",
        "print(lis)"
      ],
      "metadata": {
        "id": "Zs0kfiCsr5v_",
        "colab": {
          "base_uri": "https://localhost:8080/"
        },
        "outputId": "5b06c70e-6e8b-49cf-ff69-896e011616bd"
      },
      "execution_count": 2,
      "outputs": [
        {
          "output_type": "stream",
          "name": "stdout",
          "text": [
            "0, 0, 1, 2, 3, 4, 4, 5, 6, 6, 6, 7, 8, 9, 4, 4\n",
            "['0', '0', '1', '2', '3', '4', '4', '5', '6', '6', '6', '7', '8', '9', '4', '4']\n",
            "['0', '1', '2', '3', '4', '5', '6', '7', '8', '9']\n"
          ]
        }
      ]
    },
    {
      "cell_type": "markdown",
      "source": [
        "Task 11"
      ],
      "metadata": {
        "id": "eEZVP0xCuTns"
      }
    },
    {
      "cell_type": "code",
      "source": [
        "List_one = [1, 4, 3, 2, 6]\n",
        "List_two = [5, 6, 9, 8, 7]\n",
        "flag = False\n",
        "for i in List_one:\n",
        "  if i in List_two:\n",
        "    flag = True\n",
        "print(flag)"
      ],
      "metadata": {
        "colab": {
          "base_uri": "https://localhost:8080/"
        },
        "id": "z_sWtt71uUst",
        "outputId": "0ebbfa5f-051c-4524-a698-3249ac336c95"
      },
      "execution_count": 5,
      "outputs": [
        {
          "output_type": "stream",
          "name": "stdout",
          "text": [
            "True\n"
          ]
        }
      ]
    },
    {
      "cell_type": "markdown",
      "source": [
        "Task 16"
      ],
      "metadata": {
        "id": "1x4lLQf8zhBW"
      }
    },
    {
      "cell_type": "code",
      "source": [],
      "metadata": {
        "id": "n3qC1c43ziYA"
      },
      "execution_count": null,
      "outputs": []
    }
  ]
}