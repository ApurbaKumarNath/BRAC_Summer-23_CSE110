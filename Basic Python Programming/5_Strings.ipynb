{
  "nbformat": 4,
  "nbformat_minor": 0,
  "metadata": {
    "colab": {
      "provenance": [],
      "authorship_tag": "ABX9TyMApScBKsj4WXmtFNXAtCB5",
      "include_colab_link": true
    },
    "kernelspec": {
      "name": "python3",
      "display_name": "Python 3"
    },
    "language_info": {
      "name": "python"
    }
  },
  "cells": [
    {
      "cell_type": "markdown",
      "metadata": {
        "id": "view-in-github",
        "colab_type": "text"
      },
      "source": [
        "<a href=\"https://colab.research.google.com/github/ApurbaKumarNath/today-i-learned/blob/main/Basic%20Python%20Programming/5_Strings.ipynb\" target=\"_parent\"><img src=\"https://colab.research.google.com/assets/colab-badge.svg\" alt=\"Open In Colab\"/></a>"
      ]
    },
    {
      "cell_type": "code",
      "execution_count": 2,
      "metadata": {
        "colab": {
          "base_uri": "https://localhost:8080/"
        },
        "id": "-ug1rXX9F57A",
        "outputId": "15aecf3d-6334-4bec-f369-2296dc883a4b"
      },
      "outputs": [
        {
          "output_type": "stream",
          "name": "stdout",
          "text": [
            "124\n",
            " Apurbo likes to go around.\n",
            "He is used to studying, and he sometimes wants to die.\n",
            "Sometimes he feels really bored of life.  \n",
            "\n",
            " Apurbo likes to go around.\n",
            "He is used to studying, and he sometimes wants to die.\n",
            "Sometimes he feels really bored of life.  \n",
            "\n",
            " Apurb\n",
            "obrupA \n",
            ".flf \n",
            "\n",
            "0, 1\n",
            "False\n",
            "False\n",
            "False\n",
            "4\n",
            "125\n",
            " apurbo likes to go around.\n",
            "he is used to studying, and he sometimes wants to die.\n",
            "sometimes he feels really bored of life.  \n",
            "\n",
            " apurbo likes to go around.\n",
            "he is used to studying, and he sometimes wants to die.\n",
            "sometimes he feels really bored of life.  \n",
            "\n",
            " APURBO LIKES TO GO AROUND.\n",
            "HE IS USED TO STUDYING, AND HE SOMETIMES WANTS TO DIE.\n",
            "SOMETIMES HE FEELS REALLY BORED OF LIFE.  \n",
            "\n",
            "31\n",
            " Apurba likes to go around.\n",
            "He is used to studying, and he sometimes wants to die.\n",
            "Sometimes he feels really bored of life. \n",
            "Apurbo likes to go around.\n",
            "He is used to studying, and he sometimes wants to die.\n",
            "Sometimes he feels really bored of life.\n",
            "[' Apurb', ' likes t', ' g', ' ar', 'und.\\nHe is used t', ' studying, and he s', 'metimes wants t', ' die.\\nS', 'metimes he feels really b', 'red ', 'f life. ']\n",
            "['Apurbo', 'likes', 'to', 'go', 'around.', 'He', 'is', 'used', 'to', 'studying,', 'and', 'he', 'sometimes', 'wants', 'to', 'die.', 'Sometimes', 'he', 'feels', 'really', 'bored', 'of', 'life.']\n",
            "23\n",
            "('', 's', 'ubscribe')\n",
            "False\n",
            "True\n",
            "True\n",
            "Yes, 'life' is present in the text.\n",
            "No, 'God' is not present in the text.\n"
          ]
        }
      ],
      "source": [
        "x= ''' Apurbo likes to go around.\n",
        "He is used to studying, and he sometimes wants to die.\n",
        "Sometimes he feels really bored of life. '''\n",
        "\n",
        "print(len(x)) # This shows the length of the text.\n",
        "'''\n",
        "Number system with strings: (You're gonna learn slicing here.)\n",
        "In Strings,\n",
        "0 1 2 3 4 5 6\n",
        "S t r i n g s\n",
        "Here, if you use x[1:3], python always skips the last value. So, it will show: tr\n",
        "\n",
        "Now, if you use minus(-), 0 won't exist, and it'll count backwards like this:\n",
        "-1 -2 -3 -4 -5 -6 -7\n",
        " s  g  n  i  r  t  S\n",
        "If you don't input a value and keep it like this: x[::], by default it'll count left to right like this: x[0:last number:1].\n",
        "x[Start:End:Step] this is the formula.\n",
        "\n",
        "And if it is x[::-1], it'll count from right to left.\n",
        "So, x[6:4] won't show a value (won't show error) because it counts from left to right, and you gave no value to the right. Instead, you entered a value which is at the left.\n",
        "But x[6:4:-1] is possible because it counts from right to left.\n",
        "\n",
        "Now, if you use x[::2], it'll count from left to right and take every 2nd element.\n",
        "x[::-3] means it'll count from right and take every 3rd element.\n",
        "'''\n",
        "print(x[:], '\\n')\n",
        "print(x[::], '\\n')\n",
        "print(x[:6])\n",
        "print(x[-118::-1])\n",
        "print(x[-2:-9:-2], '\\n')\n",
        "\n",
        "# turning a list into a str:\n",
        "print(str([0, 1])[1:-1])\n",
        "\n",
        "# Now see some nice methods: (To check more, see: https://www.w3schools.com/python/python_ref_string.asp )\n",
        "\n",
        "print(x.isalnum()) # This checks if the str is alphanumeric(meaning alphabet letter (a-z) and numbers (0-9)) or not.\n",
        "print(x.isalpha()) # This checks if all the characters are alphabet letters (a-z).\n",
        "print(x.endswith('ife.')) # Checks if the str ends with the letters I've given here.\n",
        "print(x.count('a')) # Checks how many 'a's are in the str.\n",
        "print(x.count('')) # Counts how many letters are there, but it adds 1 more to the count. For example: For 'Y', answer is: 2.\n",
        "print(x.capitalize(), '\\n') # This capitalizes only the 1st letter of the text. But I've already capitalized that.\n",
        "print(x.lower(), '\\n') # This will convert the str into lowercase letters.\n",
        "print(x.upper(), '\\n') # This will convert the str into uppercase letters.\n",
        "print(x.find('is')) # This will show where the word 'is' is by showing me the position number of the str.\n",
        "print(x.replace('Apurbo', 'Apurba'))\n",
        "print(x.strip()) # This method removes any whitespace from the beginning or the end.\n",
        "b=x.split('o')\n",
        "print(b) # This method splits the string into substrings if it finds instances of the separator. Here, 'o' is set as a separator, so, it will be removed.\n",
        "print(x.split()) # Here spaces were detected as separators, so, all spaces were removed, and substrings were created.\n",
        "print(len(x.split())) # Now you will be able to see how many words you wrote.\n",
        "print('subscribe'.partition('s'))\n",
        "\n",
        "# To check if a certain phrase or character is present in a string, we can use the keyword in:\n",
        "print('Apurba' in x)\n",
        "print('Apurbo' in x)\n",
        "print('God' not in x)\n",
        "\n",
        "# Now see some if-else functions:\n",
        "if 'life' in x:\n",
        "    print(\"Yes, 'life' is present in the text.\")\n",
        "if 'God' not in x:\n",
        "    print(\"No, 'God' is not present in the text.\")"
      ]
    },
    {
      "cell_type": "code",
      "source": [
        "# Now see some looping functions:\n",
        "for p in 'Rock':\n",
        "    print(p, end = ' ')\n",
        "for y in 'Yo', 'Yeah', 'Boom!':\n",
        "    print(y, end = ' ')\n",
        "for z in '''Nice strings!\n",
        "Very nice!''':\n",
        "    print(z, end = ' ')\n",
        "\n",
        "print()"
      ],
      "metadata": {
        "colab": {
          "base_uri": "https://localhost:8080/"
        },
        "id": "1crjIg9fi_-a",
        "outputId": "14afeae0-f913-42e0-979a-42d69dfbe77e"
      },
      "execution_count": 8,
      "outputs": [
        {
          "output_type": "stream",
          "name": "stdout",
          "text": [
            "R o c k Yo Yeah Boom! N i c e   s t r i n g s ! \n",
            " V e r y   n i c e ! \n"
          ]
        }
      ]
    },
    {
      "cell_type": "code",
      "source": [
        "# Now learn the format() method. We can combine strings and numbers by using this method!\n",
        "q= 20\n",
        "print('My age is: {}'.format(q))\n",
        "\n",
        "jsc= 5.00\n",
        "ssc= 4.83\n",
        "hsc= '5.00(Golden)'\n",
        "result= \"I achieved gpa {:.2f} in jsc, {} in ssc, and {} in hsc examination.\"\n",
        "print(result.format(jsc, ssc, hsc))\n",
        "\n",
        "price= 2.550\n",
        "pencil_pen= 3\n",
        "rubber= 1\n",
        "r= \"I wanna buy {1} pencils, {2} rubber, and {1} {0:.3f}$ pens.\" # You can use index numbers {0} to be sure the arguments are placed in the correct placeholders.\n",
        "print(r.format(price, pencil_pen, rubber))\n",
        "\n",
        "s= 'My name is {name}; I am {age} years old. My height is {height}.'\n",
        "print(s.format(name= 'Apurba', age=20, height= \"5'7\\\"\"))"
      ],
      "metadata": {
        "colab": {
          "base_uri": "https://localhost:8080/"
        },
        "id": "V1EYueJAjmxI",
        "outputId": "e595d0d4-c13a-4563-9e32-0f503ba4d9ea"
      },
      "execution_count": 7,
      "outputs": [
        {
          "output_type": "stream",
          "name": "stdout",
          "text": [
            "My age is: 20\n",
            "I achieved gpa 5.00 in jsc, 4.83 in ssc, and 5.00(Golden) in hsc examination.\n",
            "I wanna buy 3 pencils, 1 rubber, and 3 2.550$ pens.\n",
            "My name is Apurba; I am 20 years old. My height is 5'7\".\n"
          ]
        }
      ]
    }
  ]
}