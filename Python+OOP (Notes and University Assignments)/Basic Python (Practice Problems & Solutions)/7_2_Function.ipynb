{
  "nbformat": 4,
  "nbformat_minor": 0,
  "metadata": {
    "colab": {
      "provenance": [],
      "authorship_tag": "ABX9TyNUsYqxKhtOYl1AoSb+PnQ2",
      "include_colab_link": true
    },
    "kernelspec": {
      "name": "python3",
      "display_name": "Python 3"
    },
    "language_info": {
      "name": "python"
    }
  },
  "cells": [
    {
      "cell_type": "markdown",
      "metadata": {
        "id": "view-in-github",
        "colab_type": "text"
      },
      "source": [
        "<a href=\"https://colab.research.google.com/github/ApurbaKumarNath/today-i-learned/blob/main/Basic%20Python%2BOOP%20(Notes%20and%20University%20Assignments)/Basic%20Python%20(Practice%20Problems%20%26%20Solutions)/7_2_Function.ipynb\" target=\"_parent\"><img src=\"https://colab.research.google.com/assets/colab-badge.svg\" alt=\"Open In Colab\"/></a>"
      ]
    },
    {
      "cell_type": "markdown",
      "source": [
        "Task 1"
      ],
      "metadata": {
        "id": "DeuJQ_XbGbyu"
      }
    },
    {
      "cell_type": "code",
      "execution_count": null,
      "metadata": {
        "colab": {
          "base_uri": "https://localhost:8080/"
        },
        "id": "osbP6DU6E1yx",
        "outputId": "cd8b16db-d000-4da9-cbdf-d9114f5c67a8"
      },
      "outputs": [
        {
          "output_type": "stream",
          "name": "stdout",
          "text": [
            "odd!!\n"
          ]
        }
      ],
      "source": [
        "def even_checker(num):\n",
        "  if num % 2 == 0:\n",
        "    print('even!!')\n",
        "  else:\n",
        "    print('odd!!')\n",
        "even_checker(21)"
      ]
    },
    {
      "cell_type": "markdown",
      "source": [
        "Task 2"
      ],
      "metadata": {
        "id": "HBG9TDujIRWU"
      }
    },
    {
      "cell_type": "code",
      "source": [
        "def fibonacci(num):\n",
        "  fst = 0\n",
        "  snd = 1\n",
        "  trd = fst + snd\n",
        "  print(fst, snd, trd, end = ' ')\n",
        "\n",
        "  for i in range(num):\n",
        "      fst = snd\n",
        "      snd = trd\n",
        "      trd = fst + snd\n",
        "      if trd <= num:\n",
        "        print(trd, end = ' ')\n",
        "fibonacci(10)\n"
      ],
      "metadata": {
        "colab": {
          "base_uri": "https://localhost:8080/"
        },
        "id": "ybPfmt1wISy0",
        "outputId": "96d4793d-9594-4041-c1a5-064ede21f297"
      },
      "execution_count": null,
      "outputs": [
        {
          "output_type": "stream",
          "name": "stdout",
          "text": [
            "0 1 1 2 3 5 8 "
          ]
        }
      ]
    },
    {
      "cell_type": "code",
      "source": [
        "def fibonacci(num):\n",
        "  n1 = 0\n",
        "  n2 = 1\n",
        "  while n1 <= num:\n",
        "    print(n1, end = ' ')\n",
        "    nth = n1 + n2\n",
        "    n1 = n2\n",
        "    n2 = nth\n",
        "fibonacci(10)"
      ],
      "metadata": {
        "colab": {
          "base_uri": "https://localhost:8080/"
        },
        "id": "s1_GyixmRr0n",
        "outputId": "6007290a-d52e-444e-a8c0-634b3b58f08b"
      },
      "execution_count": null,
      "outputs": [
        {
          "output_type": "stream",
          "name": "stdout",
          "text": [
            "0 1 1 2 3 5 8 "
          ]
        }
      ]
    },
    {
      "cell_type": "markdown",
      "source": [
        "Task 3"
      ],
      "metadata": {
        "id": "4VeB91WvLB3c"
      }
    },
    {
      "cell_type": "code",
      "source": [
        "def foo_moo(num):\n",
        "  if num % 2 == 0 and num % 3 == 0:\n",
        "    return 'FooMoo'\n",
        "  elif num % 2 == 0:\n",
        "    return 'Foo'\n",
        "  elif num % 3 == 0:\n",
        "    return 'Moo'\n",
        "  else:\n",
        "    return 'Boo'\n",
        "print(foo_moo(6))"
      ],
      "metadata": {
        "colab": {
          "base_uri": "https://localhost:8080/"
        },
        "id": "Embwl-wTLDAM",
        "outputId": "76d1a3c9-39a9-49bd-b614-408206cd8093"
      },
      "execution_count": null,
      "outputs": [
        {
          "output_type": "stream",
          "name": "stdout",
          "text": [
            "FooMoo\n"
          ]
        }
      ]
    },
    {
      "cell_type": "markdown",
      "source": [
        "Task 4"
      ],
      "metadata": {
        "id": "htLRdLA_MMnx"
      }
    },
    {
      "cell_type": "code",
      "source": [
        "def f(letter):\n",
        "  upper = 0\n",
        "  lower = 0\n",
        "  for i in letter:\n",
        "    if 64 < ord(i) < 91:\n",
        "      upper += 1\n",
        "    elif 96 < ord(i) < 123:\n",
        "      lower += 1\n",
        "  print('No. of Uppercase characters :', upper)\n",
        "  print('No. of Lowercase Characters:', lower)\n",
        "f('HaRRy PotteR')"
      ],
      "metadata": {
        "colab": {
          "base_uri": "https://localhost:8080/"
        },
        "id": "p2AH6PU-MOJo",
        "outputId": "88032ac8-6e8b-4e21-f31e-ac1ddbe7ce9c"
      },
      "execution_count": null,
      "outputs": [
        {
          "output_type": "stream",
          "name": "stdout",
          "text": [
            "No. of Uppercase characters : 5\n",
            "No. of Lowercase Characters: 6\n"
          ]
        }
      ]
    },
    {
      "cell_type": "markdown",
      "source": [
        "Task 5"
      ],
      "metadata": {
        "id": "UU-EwkTiOjoJ"
      }
    },
    {
      "cell_type": "code",
      "source": [
        "age = int(input())\n",
        "salary = int(input())\n",
        "job = input().lower()\n",
        "def calculate_tax(age, salary, job):\n",
        "  if age < 18 or job == 'president' or salary < 10000:\n",
        "    return 0\n",
        "  elif 10000 <= salary <= 20000:\n",
        "    return (5/100)*salary\n",
        "  else:\n",
        "    return salary / 10\n",
        "print(calculate_tax(age, salary, job))"
      ],
      "metadata": {
        "colab": {
          "base_uri": "https://localhost:8080/"
        },
        "id": "01qm6arFOk85",
        "outputId": "ffa85472-9e39-40a8-bdff-29885cfd17f7"
      },
      "execution_count": null,
      "outputs": [
        {
          "name": "stdout",
          "output_type": "stream",
          "text": [
            "21\n",
            "1233000\n",
            "assi mamage\n"
          ]
        },
        {
          "output_type": "execute_result",
          "data": {
            "text/plain": [
              "123300.0"
            ]
          },
          "metadata": {},
          "execution_count": 29
        }
      ]
    },
    {
      "cell_type": "markdown",
      "source": [
        "Task 6"
      ],
      "metadata": {
        "id": "dgl34YgyUv50"
      }
    },
    {
      "cell_type": "code",
      "source": [
        "num = int(input())\n",
        "def day(num):\n",
        "  a = num//365\n",
        "  b = num % 365\n",
        "  c = b // 30\n",
        "  d = b % 30\n",
        "\n",
        "  print(f'{a} years, {c} months and {d} days')\n",
        "day(num)"
      ],
      "metadata": {
        "colab": {
          "base_uri": "https://localhost:8080/"
        },
        "id": "StzQJ60OUx2s",
        "outputId": "16148284-cc0f-47b7-fadd-a792bac08568"
      },
      "execution_count": null,
      "outputs": [
        {
          "output_type": "stream",
          "name": "stdout",
          "text": [
            "31\n",
            "0 years, 1 months and 1 days\n"
          ]
        }
      ]
    },
    {
      "cell_type": "code",
      "source": [
        "a = (4330//365)\n",
        "b = 4330 % 365\n",
        "c = b // 30\n",
        "d = b % 30\n",
        "print(a, c, d)"
      ],
      "metadata": {
        "colab": {
          "base_uri": "https://localhost:8080/"
        },
        "id": "t9PaW2SHYfIg",
        "outputId": "5ed068aa-7528-43c5-c637-b221469da8bd"
      },
      "execution_count": null,
      "outputs": [
        {
          "output_type": "stream",
          "name": "stdout",
          "text": [
            "11 10 15\n"
          ]
        }
      ]
    },
    {
      "cell_type": "markdown",
      "source": [
        "Task 7"
      ],
      "metadata": {
        "id": "pmoKZdF9bWPm"
      }
    },
    {
      "cell_type": "code",
      "source": [
        "def show_palindrome(n):\n",
        "  s = ''\n",
        "  for i in range(1, n+1):\n",
        "    s += str(i)\n",
        "  for x in range(n-1, 0, -1):\n",
        "    s += str(x)\n",
        "  return s\n",
        "print(show_palindrome(3))"
      ],
      "metadata": {
        "colab": {
          "base_uri": "https://localhost:8080/"
        },
        "id": "oB1UCBDFbXg2",
        "outputId": "3b705121-4e3f-4251-cb90-f808d6dfd50c"
      },
      "execution_count": null,
      "outputs": [
        {
          "output_type": "stream",
          "name": "stdout",
          "text": [
            "12321\n"
          ]
        }
      ]
    },
    {
      "cell_type": "markdown",
      "source": [
        "Task 8"
      ],
      "metadata": {
        "id": "lGa7Ff0rff2L"
      }
    },
    {
      "cell_type": "code",
      "source": [
        "def show_palindromic_triangle(n):\n",
        "  s = ''\n",
        "  for i in range(1, n+1):\n",
        "    s = ' '*(n-i) + show_palindrome(i)\n",
        "    # for x in range(1, i+1):\n",
        "    #   s += str(x)\n",
        "    # for y in range(i-1,0,-1):\n",
        "    #   s += str(y)\n",
        "\n",
        "    print(s)\n",
        "\n",
        "show_palindromic_triangle(4)"
      ],
      "metadata": {
        "colab": {
          "base_uri": "https://localhost:8080/"
        },
        "id": "F_C2jhg8kW22",
        "outputId": "8a73985b-5b6e-4aad-98c0-75259f3a3f94"
      },
      "execution_count": null,
      "outputs": [
        {
          "output_type": "stream",
          "name": "stdout",
          "text": [
            "   1\n",
            "  121\n",
            " 12321\n",
            "1234321\n"
          ]
        }
      ]
    },
    {
      "cell_type": "code",
      "source": [
        "def show_palindromic_triangle(n):\n",
        "  for i in range(1, n+1):\n",
        "    print(' '*(n-i), end = '')\n",
        "    for x in range(1, i+1):\n",
        "      print(x, end = '')\n",
        "    for y in range(i-1,0,-1):\n",
        "      print(y, end = '')\n",
        "    print()\n",
        "\n",
        "show_palindromic_triangle(5)"
      ],
      "metadata": {
        "colab": {
          "base_uri": "https://localhost:8080/"
        },
        "id": "Re3kapO3fhhj",
        "outputId": "521ec47c-3ef5-4fb5-ab40-f2f51cc26a84"
      },
      "execution_count": null,
      "outputs": [
        {
          "output_type": "stream",
          "name": "stdout",
          "text": [
            "    1\n",
            "   121\n",
            "  12321\n",
            " 1234321\n",
            "123454321\n"
          ]
        }
      ]
    },
    {
      "cell_type": "markdown",
      "source": [
        "Task 9"
      ],
      "metadata": {
        "id": "_IrJBfWUrh6O"
      }
    },
    {
      "cell_type": "code",
      "source": [
        "import math\n",
        "def area_circumference_generator(r):\n",
        "  area = math.pi*r**2\n",
        "  circumference = 2 * math.pi*r\n",
        "  return (area, circumference)\n",
        "result = area_circumference_generator(1)\n",
        "area, cir = result\n",
        "print(result)\n",
        "print(f'Area of the circle is {area} and circumference is {cir}')"
      ],
      "metadata": {
        "id": "S9-C-t1LQr1s",
        "colab": {
          "base_uri": "https://localhost:8080/"
        },
        "outputId": "9f8e100e-b3f7-41a3-cbcb-dfa0b21a5070"
      },
      "execution_count": null,
      "outputs": [
        {
          "output_type": "stream",
          "name": "stdout",
          "text": [
            "(3.141592653589793, 6.283185307179586)\n",
            "Area of the circle is 3.141592653589793 and circumference is 6.283185307179586\n"
          ]
        }
      ]
    },
    {
      "cell_type": "code",
      "source": [
        "import math\n",
        "def area_circumference_generator(radius):\n",
        "  global area\n",
        "  area = math.pi*radius**2\n",
        "  global cir\n",
        "  cir = 2*math.pi*radius\n",
        "  return (area, cir)\n",
        "\n",
        "print(area_circumference_generator(1))\n",
        "print(f'Area of the circle is {area} and circumference is {cir}')"
      ],
      "metadata": {
        "id": "desbCAD-rkFX",
        "colab": {
          "base_uri": "https://localhost:8080/"
        },
        "outputId": "a3384a84-475d-4b4f-a5b9-db21f3c55929"
      },
      "execution_count": null,
      "outputs": [
        {
          "output_type": "stream",
          "name": "stdout",
          "text": [
            "(3.141592653589793, 6.283185307179586)\n",
            "Area of the circle is 3.141592653589793 and circumference is 6.283185307179586\n"
          ]
        }
      ]
    },
    {
      "cell_type": "markdown",
      "source": [
        "Task 10"
      ],
      "metadata": {
        "id": "Sgs2DAOGM27W"
      }
    },
    {
      "cell_type": "code",
      "source": [
        "def make_square(tup):\n",
        "  dic = {}\n",
        "  for i in range(tup[0], tup[1]+1):\n",
        "    dic[i] = i**2\n",
        "  return dic\n",
        "print(make_square((1, 3)))"
      ],
      "metadata": {
        "colab": {
          "base_uri": "https://localhost:8080/"
        },
        "id": "RB8yQMDYM4kM",
        "outputId": "8e73925f-0bc3-43fe-c622-7b366074f7d3"
      },
      "execution_count": null,
      "outputs": [
        {
          "output_type": "stream",
          "name": "stdout",
          "text": [
            "{1: 1, 2: 4, 3: 9}\n"
          ]
        }
      ]
    },
    {
      "cell_type": "markdown",
      "source": [
        "Task 11"
      ],
      "metadata": {
        "id": "x34ZkvMZQRdk"
      }
    },
    {
      "cell_type": "code",
      "source": [
        "def rem_duplicate(t):\n",
        "  tup = []\n",
        "  for i in t:\n",
        "    if i not in tup:\n",
        "      tup.append(i)\n",
        "  tup = tuple(tup)\n",
        "  return(tup)\n",
        "print(rem_duplicate((1,1,1,2,3,4,5,6,6,6,6,4,0,0,0)))"
      ],
      "metadata": {
        "id": "iJX9vW_FUXay",
        "colab": {
          "base_uri": "https://localhost:8080/"
        },
        "outputId": "04603112-7293-421e-8b2d-ee27507802dd"
      },
      "execution_count": null,
      "outputs": [
        {
          "output_type": "stream",
          "name": "stdout",
          "text": [
            "(1, 2, 3, 4, 5, 6, 0)\n"
          ]
        }
      ]
    },
    {
      "cell_type": "markdown",
      "source": [
        "Task 12"
      ],
      "metadata": {
        "id": "f-qocDclTRL7"
      }
    },
    {
      "cell_type": "code",
      "source": [
        "def f(li):\n",
        "  new = []\n",
        "  rem = 0\n",
        "  for i in li:\n",
        "    if i not in new:\n",
        "      new.append(i)\n",
        "    else:\n",
        "      if new.count(i)< 2:\n",
        "        new.append(i)\n",
        "      else:\n",
        "        rem = rem + 1\n",
        "  print('Removed:', rem)\n",
        "  return new\n",
        "print(f([1, 2, 3, 3, 3, 3, 4, 5, 8, 8]))"
      ],
      "metadata": {
        "colab": {
          "base_uri": "https://localhost:8080/"
        },
        "id": "3FK5d-4BdLRI",
        "outputId": "2527e2b3-1acf-422e-efb7-ae76c2619f7f"
      },
      "execution_count": null,
      "outputs": [
        {
          "output_type": "stream",
          "name": "stdout",
          "text": [
            "Removed: 2\n",
            "[1, 2, 3, 3, 4, 5, 8, 8]\n"
          ]
        }
      ]
    },
    {
      "cell_type": "code",
      "source": [
        "# I did it this way. We're not allowed to use remove()\n",
        "def f(li):\n",
        "  rem = 0\n",
        "  for i in li:\n",
        "    if li.count(i)>2:\n",
        "      li.remove(i)\n",
        "      rem += 1\n",
        "  print('Removed', rem)\n",
        "  return li\n",
        "print(f([1, 2, 3, 3, 3, 3, 4, 5, 8, 8]))"
      ],
      "metadata": {
        "colab": {
          "base_uri": "https://localhost:8080/"
        },
        "id": "E668x4B2TSSc",
        "outputId": "9bbbe3e4-e3ae-49ed-ea14-c8ffe64eeba4"
      },
      "execution_count": null,
      "outputs": [
        {
          "output_type": "stream",
          "name": "stdout",
          "text": [
            "Removed 2\n",
            "[1, 2, 3, 3, 4, 5, 8, 8]\n"
          ]
        }
      ]
    },
    {
      "cell_type": "markdown",
      "source": [
        "Task 13"
      ],
      "metadata": {
        "id": "KHQBr8F5d-6S"
      }
    },
    {
      "cell_type": "code",
      "execution_count": null,
      "metadata": {
        "id": "sh7YQRv_5D8v",
        "outputId": "8ce5e1f3-c2f9-48fe-cdac-b8be0c7b27e2",
        "colab": {
          "base_uri": "https://localhost:8080/"
        }
      },
      "outputs": [
        {
          "output_type": "stream",
          "name": "stdout",
          "text": [
            "*\n",
            "2\n",
            "3\n",
            "6.0\n"
          ]
        }
      ],
      "source": [
        "def basic_calc(operator, first, second):\n",
        "    if(operator == \"+\"):\n",
        "        return first + second\n",
        "\n",
        "    elif(operator == \"-\"):\n",
        "        return first - second\n",
        "\n",
        "    elif(operator == \"/\"):\n",
        "        return first / second\n",
        "\n",
        "    elif(operator == \"*\"):\n",
        "        return first * second\n",
        "\n",
        "operator = input()\n",
        "first = float(input())\n",
        "second = float(input())\n",
        "\n",
        "print(basic_calc(operator, first, second))"
      ]
    },
    {
      "cell_type": "markdown",
      "source": [
        "Task 14"
      ],
      "metadata": {
        "id": "SFo3D3jwgJPm"
      }
    },
    {
      "cell_type": "code",
      "execution_count": null,
      "metadata": {
        "outputId": "f533c33e-6ceb-47a2-a14f-8db89e913888",
        "colab": {
          "base_uri": "https://localhost:8080/"
        },
        "id": "AH_CYWZMhcyZ"
      },
      "outputs": [
        {
          "output_type": "stream",
          "name": "stdout",
          "text": [
            "I love programming\n",
            "3\n",
            "I lveprgrmmngo oai\n"
          ]
        }
      ],
      "source": [
        "def char_remover(sentence, position):\n",
        "    new = sentence[0]\n",
        "    rem = \"\"\n",
        "\n",
        "    for index in range(1, len(sentence)):\n",
        "        if index % position != 0:\n",
        "            new += sentence[index]\n",
        "        else:\n",
        "            rem += sentence[index]\n",
        "\n",
        "    return new + rem\n",
        "\n",
        "sentence = input()\n",
        "position = int(input())\n",
        "\n",
        "print(char_remover(sentence, position))"
      ]
    },
    {
      "cell_type": "markdown",
      "source": [
        "Task 15"
      ],
      "metadata": {
        "id": "JaJLyKLrk81x"
      }
    },
    {
      "cell_type": "code",
      "source": [
        "li = []\n",
        "for i in range(0, int(input('Number of items in list: '))):\n",
        "  li.append(input())\n",
        "\n",
        "def f(order_items, location = 'Dhanmondi'):\n",
        "  total = 0\n",
        "  dic = {'rice': 105, 'potato': 20, 'chicken':250, 'beef':510, 'oil': 85}\n",
        "\n",
        "  for i in order_items:\n",
        "    total += dic[i]\n",
        "  if location == 'Dhanmondi':\n",
        "    total += 30\n",
        "  else:\n",
        "    total += 70\n",
        "  return total\n",
        "\n",
        "f(li, 'Mohakhali')"
      ],
      "metadata": {
        "colab": {
          "base_uri": "https://localhost:8080/"
        },
        "id": "48YKdHOegvYN",
        "outputId": "0fda6121-b7c3-4e9a-a85c-028d9564cf3e"
      },
      "execution_count": null,
      "outputs": [
        {
          "name": "stdout",
          "output_type": "stream",
          "text": [
            "Number of items in list: 2\n",
            "rice\n",
            "chicken\n"
          ]
        },
        {
          "output_type": "execute_result",
          "data": {
            "text/plain": [
              "425"
            ]
          },
          "metadata": {},
          "execution_count": 7
        }
      ]
    },
    {
      "cell_type": "code",
      "source": [
        "'''def f(x = 2, y):\n",
        "  return x*y\n",
        "print(f(1, 8))'''"
      ],
      "metadata": {
        "colab": {
          "base_uri": "https://localhost:8080/",
          "height": 35
        },
        "id": "1T92WMH9nsiU",
        "outputId": "3729f6df-2aaf-405b-ba55-e2713483acc0"
      },
      "execution_count": null,
      "outputs": [
        {
          "output_type": "execute_result",
          "data": {
            "text/plain": [
              "'def f(x = 2, y):\\n  return x*y\\nprint(f(1, 8))'"
            ],
            "application/vnd.google.colaboratory.intrinsic+json": {
              "type": "string"
            }
          },
          "metadata": {},
          "execution_count": 43
        }
      ]
    },
    {
      "cell_type": "markdown",
      "source": [
        "Task 16"
      ],
      "metadata": {
        "id": "fp-jzH0VUZjP"
      }
    },
    {
      "cell_type": "code",
      "source": [
        "def splitting_money(amount):\n",
        "  li = [500, 100, 50, 20, 10, 5, 2, 1]\n",
        "  s = ''\n",
        "  for i in li:\n",
        "    if amount >= i:\n",
        "      s += f'{i} Taka: {amount // i} note(s)\\n'\n",
        "      amount = amount % i\n",
        "\n",
        "  return s\n",
        "print(splitting_money(int(input())))"
      ],
      "metadata": {
        "id": "tBoqXie5UdRO",
        "colab": {
          "base_uri": "https://localhost:8080/"
        },
        "outputId": "b3ecf036-8fcb-4d30-8569-2bb3afc04a20"
      },
      "execution_count": null,
      "outputs": [
        {
          "output_type": "stream",
          "name": "stdout",
          "text": [
            "1234\n",
            "500 Taka: 2 note(s)\n",
            "100 Taka: 2 note(s)\n",
            "20 Taka: 1 note(s)\n",
            "10 Taka: 1 note(s)\n",
            "2 Taka: 2 note(s)\n",
            "\n"
          ]
        }
      ]
    },
    {
      "cell_type": "markdown",
      "source": [
        "Task 17"
      ],
      "metadata": {
        "id": "fskcaKAcOCGs"
      }
    },
    {
      "cell_type": "code",
      "source": [
        "def remove_odd(li):\n",
        "  lis = []\n",
        "  for i in li:\n",
        "    if i % 2 == 0:\n",
        "      lis.append(i)\n",
        "  return lis\n",
        "print(remove_odd ([11,2,3,4,5,2,0,5,3]))"
      ],
      "metadata": {
        "colab": {
          "base_uri": "https://localhost:8080/"
        },
        "id": "UwzVTv3xOEH3",
        "outputId": "59309fa7-ff0d-4e11-f86e-d30e7c187d9f"
      },
      "execution_count": null,
      "outputs": [
        {
          "output_type": "stream",
          "name": "stdout",
          "text": [
            "[2, 4, 2, 0]\n"
          ]
        }
      ]
    },
    {
      "cell_type": "markdown",
      "source": [
        "Task 18"
      ],
      "metadata": {
        "id": "DLgdkRKKOxJ9"
      }
    },
    {
      "cell_type": "code",
      "source": [
        "def divisible(starting, ending, divisor1, divisor2):\n",
        "  sum = 0\n",
        "  for i in range(starting, ending):\n",
        "    if i % divisor1 == 0 and i % divisor2 == 0:\n",
        "      pass\n",
        "    elif i % divisor1 == 0:\n",
        "      sum += i\n",
        "    elif i % divisor2 == 0:\n",
        "      sum += i\n",
        "  return sum\n",
        "print(divisible(int(input()), int(input()), int(input()), int(input())))"
      ],
      "metadata": {
        "colab": {
          "base_uri": "https://localhost:8080/"
        },
        "id": "64J4Fz28Oyqb",
        "outputId": "5e87d47c-9b65-4ca5-afc0-2a613ce55f94"
      },
      "execution_count": null,
      "outputs": [
        {
          "output_type": "stream",
          "name": "stdout",
          "text": [
            "5\n",
            "100\n",
            "3\n",
            "4\n",
            "2012\n"
          ]
        }
      ]
    },
    {
      "cell_type": "markdown",
      "source": [
        "Task 19"
      ],
      "metadata": {
        "id": "gOvgBUc-VMXj"
      }
    },
    {
      "cell_type": "code",
      "source": [
        "def str_checker(s):\n",
        "  result = 5\n",
        "  for i in range(97, 107):\n",
        "    if chr(i) not in s:\n",
        "      result = 6\n",
        "      break\n",
        "  return result\n",
        "mul = str_checker(input().lower())\n",
        "\n",
        "print('PSG will win the Champions League this season\\n' * mul)"
      ],
      "metadata": {
        "colab": {
          "base_uri": "https://localhost:8080/"
        },
        "id": "3UsUGkAOVOEN",
        "outputId": "8a6a8ccc-86ad-4fab-bd1c-d9a272770b32"
      },
      "execution_count": null,
      "outputs": [
        {
          "output_type": "stream",
          "name": "stdout",
          "text": [
            "A black jackal is hunting a full grown deer\n",
            "PSG will win the Champions League this season\n",
            "PSG will win the Champions League this season\n",
            "PSG will win the Champions League this season\n",
            "PSG will win the Champions League this season\n",
            "PSG will win the Champions League this season\n",
            "\n"
          ]
        }
      ]
    },
    {
      "cell_type": "markdown",
      "source": [
        "Task 20"
      ],
      "metadata": {
        "id": "-8y9XNbi1fj-"
      }
    },
    {
      "cell_type": "code",
      "source": [
        "def individul_bonus_calculation(name, earning, score, percent):\n",
        "  extra = 0\n",
        "  if score > 30: extra = 10000\n",
        "  elif 20 <= score <= 30: extra = 5000\n",
        "  bonus = score * (percent / 100 * earning) + extra\n",
        "  print(f'{name} earned a bonus of {int(bonus)} Taka for {score} goals.')\n",
        "individul_bonus_calculation('Luis', 80000, 25, 10)"
      ],
      "metadata": {
        "colab": {
          "base_uri": "https://localhost:8080/"
        },
        "id": "J1BOkZtU1hM8",
        "outputId": "ea8dc495-6564-43bf-cded-a85387211946"
      },
      "execution_count": null,
      "outputs": [
        {
          "output_type": "stream",
          "name": "stdout",
          "text": [
            "Luis earned a bonus of 205000 Taka for 25 goals.\n"
          ]
        }
      ]
    },
    {
      "cell_type": "markdown",
      "source": [
        "Task 21"
      ],
      "metadata": {
        "id": "Z-ER8mXj4aos"
      }
    },
    {
      "cell_type": "code",
      "source": [
        "def cal_bonus(*args):\n",
        "  i = 0\n",
        "  while i < len(args):\n",
        "    a = args[i]\n",
        "    b = args[i+1]\n",
        "    c = args[i+2]\n",
        "    d = args[i+3]\n",
        "    individul_bonus_calculation(a, b, c, d)\n",
        "    i += 4\n",
        "cal_bonus(\"Neymar\", 1200000, 30, 10, \"Jamal\", 700000, 19, 5)"
      ],
      "metadata": {
        "colab": {
          "base_uri": "https://localhost:8080/"
        },
        "id": "OQZft2Do4b6L",
        "outputId": "fb1f6808-9c54-4f67-adc1-a1d41f3f31a6"
      },
      "execution_count": null,
      "outputs": [
        {
          "output_type": "stream",
          "name": "stdout",
          "text": [
            "Neymar earned a bonus of 3605000 Taka for 30 goals.\n",
            "Jamal earned a bonus of 665000 Taka for 19 goals.\n"
          ]
        }
      ]
    }
  ]
}