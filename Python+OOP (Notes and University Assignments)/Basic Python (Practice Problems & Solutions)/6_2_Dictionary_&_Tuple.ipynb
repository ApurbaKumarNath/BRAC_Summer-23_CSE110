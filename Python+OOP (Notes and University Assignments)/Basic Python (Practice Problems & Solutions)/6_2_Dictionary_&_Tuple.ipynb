{
  "nbformat": 4,
  "nbformat_minor": 0,
  "metadata": {
    "colab": {
      "provenance": [],
      "authorship_tag": "ABX9TyPxsNkaMB1Xz2/sTmtl45kF",
      "include_colab_link": true
    },
    "kernelspec": {
      "name": "python3",
      "display_name": "Python 3"
    },
    "language_info": {
      "name": "python"
    }
  },
  "cells": [
    {
      "cell_type": "markdown",
      "metadata": {
        "id": "view-in-github",
        "colab_type": "text"
      },
      "source": [
        "<a href=\"https://colab.research.google.com/github/ApurbaKumarNath/python-oop/blob/main/Python%2BOOP%20(Notes%20and%20University%20Assignments)/Basic%20Python%20(Practice%20Problems%20%26%20Solutions)/6_2_Dictionary_%26_Tuple.ipynb\" target=\"_parent\"><img src=\"https://colab.research.google.com/assets/colab-badge.svg\" alt=\"Open In Colab\"/></a>"
      ]
    },
    {
      "cell_type": "markdown",
      "source": [
        "Task 1"
      ],
      "metadata": {
        "id": "lGwy1DBxMBPa"
      }
    },
    {
      "cell_type": "code",
      "execution_count": null,
      "metadata": {
        "colab": {
          "base_uri": "https://localhost:8080/"
        },
        "id": "bBEGMNqi09lF",
        "outputId": "aa47b226-59b8-449a-8ef6-62018785a837"
      },
      "outputs": [
        {
          "output_type": "stream",
          "name": "stdout",
          "text": [
            "400\n"
          ]
        }
      ],
      "source": [
        "a_tuple = (\"The Institute\", (\"Best Mystery & Thriller\", \"The Silent Patient\", 68821), 75717,\n",
        "[1, 2, 3, 400, 5, 6, 7], (\"Best Fiction\", \"The Testaments\", 98291))\n",
        "print(a_tuple[3][3])"
      ]
    },
    {
      "cell_type": "markdown",
      "source": [
        "Task 2"
      ],
      "metadata": {
        "id": "VRBJUWAvMC4o"
      }
    },
    {
      "cell_type": "code",
      "source": [
        "given = (10, 20, 24, 25, 26, 35, 70)\n",
        "print(given[2:len(given)-2])"
      ],
      "metadata": {
        "colab": {
          "base_uri": "https://localhost:8080/"
        },
        "id": "eSH_oeSvMEG4",
        "outputId": "4c3bc412-744e-43b1-e9cb-1fc2c45a3a1d"
      },
      "execution_count": null,
      "outputs": [
        {
          "output_type": "stream",
          "name": "stdout",
          "text": [
            "(24, 25, 26)\n"
          ]
        }
      ]
    },
    {
      "cell_type": "markdown",
      "source": [
        "Task 3"
      ],
      "metadata": {
        "id": "NZ_P567yMn4v"
      }
    },
    {
      "cell_type": "code",
      "source": [
        "book_info = (\n",
        "(\"Best Mystery & Thriller\",\"The Silent Patient\",68,821),\n",
        "(\"Best Horror\",\"The Institute\",75,717),\n",
        "(\"Best History & Biography\",\"The five\",31,783 ),\n",
        "(\"Best Fiction\",\"The Testaments\",98,291)\n",
        ")\n",
        "print(len(book_info))\n",
        "for i in book_info:\n",
        "  print(i)"
      ],
      "metadata": {
        "colab": {
          "base_uri": "https://localhost:8080/"
        },
        "id": "Ag20GRI2MpI3",
        "outputId": "c8ce7260-2326-4b6d-dcdd-a78aabe50aef"
      },
      "execution_count": null,
      "outputs": [
        {
          "output_type": "stream",
          "name": "stdout",
          "text": [
            "4\n",
            "('Best Mystery & Thriller', 'The Silent Patient', 68, 821)\n",
            "('Best Horror', 'The Institute', 75, 717)\n",
            "('Best History & Biography', 'The five', 31, 783)\n",
            "('Best Fiction', 'The Testaments', 98, 291)\n"
          ]
        }
      ]
    },
    {
      "cell_type": "markdown",
      "source": [
        "Task 4"
      ],
      "metadata": {
        "id": "6Iikh-5RNX6g"
      }
    },
    {
      "cell_type": "code",
      "source": [
        "book_info = (\n",
        "(\"Best Mystery & Thriller\",\"The Silent Patient\",68821),\n",
        "(\"Best Horror\",\"The Institute\",75717),\n",
        "(\"Best History & Biography\",\"The five\",31783 ),\n",
        "(\"Best Fiction\",\"The Testaments\",98291)\n",
        ")\n",
        "for i in book_info:\n",
        "  x, y, z = i\n",
        "  print(f\"{y} won the '{x}' category with {z} votes\")"
      ],
      "metadata": {
        "colab": {
          "base_uri": "https://localhost:8080/"
        },
        "id": "NOxwBGftNZfn",
        "outputId": "037ad775-49a7-4e3b-ce56-f59ba86e27aa"
      },
      "execution_count": null,
      "outputs": [
        {
          "output_type": "stream",
          "name": "stdout",
          "text": [
            "The Silent Patient won the 'Best Mystery & Thriller' category with 68821 votes\n",
            "The Institute won the 'Best Horror' category with 75717 votes\n",
            "The five won the 'Best History & Biography' category with 31783 votes\n",
            "The Testaments won the 'Best Fiction' category with 98291 votes\n"
          ]
        }
      ]
    },
    {
      "cell_type": "markdown",
      "source": [
        "Task 5"
      ],
      "metadata": {
        "id": "edjV4ScOOctw"
      }
    },
    {
      "cell_type": "code",
      "source": [
        "given = (10, 8, 5, 2, 10, 15, 10, 8, 5, 8, 8, 2)\n",
        "user = int(input())\n",
        "num = 0\n",
        "for i in given:\n",
        "  if i == user:\n",
        "    num += 1\n",
        "print(f'{user} appears {num} times in the tuple')"
      ],
      "metadata": {
        "colab": {
          "base_uri": "https://localhost:8080/"
        },
        "id": "tqqNNJCyOeSY",
        "outputId": "d8e29768-efb6-4f39-becd-43b1f199efed"
      },
      "execution_count": null,
      "outputs": [
        {
          "output_type": "stream",
          "name": "stdout",
          "text": [
            "8\n",
            "8 appears 4 times in the tuple\n"
          ]
        }
      ]
    },
    {
      "cell_type": "markdown",
      "source": [
        "Task 6"
      ],
      "metadata": {
        "id": "kKoAP06CRIsP"
      }
    },
    {
      "cell_type": "code",
      "source": [
        "given = ('a', 'b', 'c', 'd', 'e', 'f', 'g', 'h')\n",
        "li = list(given)\n",
        "tup = []\n",
        "for i in range(-1, -len(li)-1, -1):\n",
        "  tup.append(li[i])\n",
        "print(tuple(tup))"
      ],
      "metadata": {
        "colab": {
          "base_uri": "https://localhost:8080/"
        },
        "id": "FLVQF0y6YzRB",
        "outputId": "2ad69659-bce9-4f81-8ebb-5ff7e4695aea"
      },
      "execution_count": null,
      "outputs": [
        {
          "output_type": "stream",
          "name": "stdout",
          "text": [
            "('h', 'g', 'f', 'e', 'd', 'c', 'b', 'a')\n"
          ]
        }
      ]
    },
    {
      "cell_type": "markdown",
      "source": [
        "Task 7"
      ],
      "metadata": {
        "id": "LELO3icQSW-u"
      }
    },
    {
      "cell_type": "code",
      "source": [
        "dic1 = {'Harry':15, 'Draco':8, 'Nevil':19}\n",
        "dic2 = {'Ginie':18, 'Luna': 14}\n",
        "marks = {}\n",
        "for i, j in dic1.items():\n",
        "  marks[i] = j\n",
        "for x, y in dic2.items():\n",
        "  marks[x]= y\n",
        "print(marks)"
      ],
      "metadata": {
        "colab": {
          "base_uri": "https://localhost:8080/"
        },
        "id": "wub_AXH_SYlV",
        "outputId": "20d5ef3e-3af6-4820-e5a3-cd182329f97f"
      },
      "execution_count": null,
      "outputs": [
        {
          "output_type": "stream",
          "name": "stdout",
          "text": [
            "{'Harry': 15, 'Draco': 8, 'Nevil': 19, 'Ginie': 18, 'Luna': 14}\n"
          ]
        }
      ]
    },
    {
      "cell_type": "markdown",
      "source": [
        "Task 8"
      ],
      "metadata": {
        "id": "pdd_zV2MeVMZ"
      }
    },
    {
      "cell_type": "code",
      "source": [
        "user = input().split(', ')  # Input: Jon:100, Dan:200, Rob:30 ; user= ['Jon:100', 'Dan:200', 'Rob:300']\n",
        "li = []\n",
        "dic = {}\n",
        "sum = 0\n",
        "count = 0\n",
        "for i in user:\n",
        "  li.append(i.split(':'))   # i.split = ['Jon', '100']\n",
        "\n",
        "for x, y in li:             #li = [['Jon', '100'], ['Dan', '200'], ['Rob', 300']]\n",
        "  dic[x] = int(y)           #dic= {'Jon': 100, 'Dan', 200, 'Rob', 300}\n",
        "  sum += int(y)\n",
        "  count += 1\n",
        "print(sum//count)"
      ],
      "metadata": {
        "colab": {
          "base_uri": "https://localhost:8080/"
        },
        "id": "aP5lgWWSfrwh",
        "outputId": "c2bfb3ec-cde1-4ac6-e675-9aeda06100a6"
      },
      "execution_count": null,
      "outputs": [
        {
          "output_type": "stream",
          "name": "stdout",
          "text": [
            "Jon:100, Dan:200, Rob:30, Ned:110\n",
            "110\n",
            "{'Jon': 100, 'Dan': 200, 'Rob': 30, 'Ned': 110}\n"
          ]
        }
      ]
    },
    {
      "cell_type": "code",
      "source": [
        "# Doing the same task in one loop using list unpacking:\n",
        "user = input().split(', ')  # Input: Jon:100, Dan:200, Rob:30 ; user= ['Jon:100', 'Dan:200', 'Rob:300']\n",
        "dic = {}\n",
        "sum = 0\n",
        "count = 0\n",
        "for i in user:\n",
        "  x, y = i.split(':')       # x= 'Jon', y= '100'\n",
        "  dic[x] = int(y)\n",
        "  sum += int(y)\n",
        "  count += 1\n",
        "print(sum //count)"
      ],
      "metadata": {
        "colab": {
          "base_uri": "https://localhost:8080/"
        },
        "id": "VwOJoR8tzn1I",
        "outputId": "44d5a279-7a71-400b-d1de-f010add6c93a"
      },
      "execution_count": null,
      "outputs": [
        {
          "output_type": "stream",
          "name": "stdout",
          "text": [
            "Jon:100, Dan:200, Rob:30, Ned:110\n",
            "110\n"
          ]
        }
      ]
    },
    {
      "cell_type": "code",
      "source": [
        "# Using Method/Hint- 2 from the question:\n",
        "dic = {}\n",
        "sum = 0\n",
        "count = 0\n",
        "for i in range(int(input('Amount of items: '))):\n",
        "  key = input()\n",
        "  value = int(input())\n",
        "  dic[key] = value\n",
        "  sum += value\n",
        "  count += 1\n",
        "print(sum//count)"
      ],
      "metadata": {
        "id": "N96s0aXX2uUT",
        "colab": {
          "base_uri": "https://localhost:8080/"
        },
        "outputId": "414b5db0-8310-4427-c07a-c67964929160"
      },
      "execution_count": null,
      "outputs": [
        {
          "output_type": "stream",
          "name": "stdout",
          "text": [
            "Amount of items: 3\n",
            "Jon\n",
            "100\n",
            "Dan\n",
            "200\n",
            "Rob\n",
            "30\n",
            "110\n"
          ]
        }
      ]
    },
    {
      "cell_type": "markdown",
      "source": [
        "Task 9"
      ],
      "metadata": {
        "id": "Xb_f5bKVvnvd"
      }
    },
    {
      "cell_type": "code",
      "source": [
        "exam_marks = {'Cierra Vega': 175, 'Alden Cantrell': 200, 'Kierra Gentry': 165, 'Pierre Cox': 190}\n",
        "user = int(input())\n",
        "new = exam_marks.copy()\n",
        "for i in exam_marks.keys():\n",
        "  if exam_marks[i] < user:\n",
        "    del new[i]\n",
        "print(new)"
      ],
      "metadata": {
        "colab": {
          "base_uri": "https://localhost:8080/"
        },
        "id": "Fv_8PMF9vppT",
        "outputId": "08578a20-afc6-4940-f03b-57438c24172a"
      },
      "execution_count": null,
      "outputs": [
        {
          "output_type": "stream",
          "name": "stdout",
          "text": [
            "190\n",
            "{'Alden Cantrell': 200, 'Pierre Cox': 190}\n"
          ]
        }
      ]
    },
    {
      "cell_type": "code",
      "source": [
        "exam_marks = {'Cierra Vega': 175, 'Alden Cantrell': 200, 'Kierra Gentry': 165, 'Pierre Cox': 190}\n",
        "user = int(input())\n",
        "new = {}\n",
        "for i, j in exam_marks.items():\n",
        "  if j >= user:\n",
        "    new[i] = j\n",
        "print(new)"
      ],
      "metadata": {
        "colab": {
          "base_uri": "https://localhost:8080/"
        },
        "id": "WpIIGhkjWl6G",
        "outputId": "81109222-2116-4456-fd2a-ea5b529426d0"
      },
      "execution_count": null,
      "outputs": [
        {
          "output_type": "stream",
          "name": "stdout",
          "text": [
            "190\n",
            "{'Alden Cantrell': 200, 'Pierre Cox': 190}\n"
          ]
        }
      ]
    },
    {
      "cell_type": "markdown",
      "source": [
        "Task 10"
      ],
      "metadata": {
        "id": "Y0ZBXgZdYwEq"
      }
    },
    {
      "cell_type": "code",
      "source": [
        "given = {'sci fi': 12, 'mystery': 15, 'horror': 8, 'mythology': 10, 'young_adult': 4, 'adventure':14}\n",
        "\n",
        "for i, j in given.items():\n",
        "  key = i\n",
        "  max = j\n",
        "  break\n",
        "\n",
        "for x, y in given.items():\n",
        "  if max < y:\n",
        "    max = y\n",
        "    key = x\n",
        "\n",
        "print(f\"The highest selling book genre is '{key}' and the number of books sold are {max}.\")"
      ],
      "metadata": {
        "colab": {
          "base_uri": "https://localhost:8080/"
        },
        "id": "kCHe0SqtYxji",
        "outputId": "06b15a89-15b3-416c-c191-4118bba71d70"
      },
      "execution_count": null,
      "outputs": [
        {
          "output_type": "stream",
          "name": "stdout",
          "text": [
            "The highest selling book genre is 'mystery' and the number of books sold are 15.\n"
          ]
        }
      ]
    },
    {
      "cell_type": "markdown",
      "source": [
        "Task 11"
      ],
      "metadata": {
        "id": "e9c-5MnqklNI"
      }
    },
    {
      "cell_type": "code",
      "source": [
        "in1 = (input().lower()).strip('\"')\n",
        "dic = {}\n",
        "for i in in1:\n",
        "  if i != ' ':\n",
        "    if i in dic.keys():\n",
        "      dic[i] = dic[i] + 1\n",
        "    else:\n",
        "      dic[i] = 1\n",
        "print(dic)"
      ],
      "metadata": {
        "colab": {
          "base_uri": "https://localhost:8080/"
        },
        "id": "b1mfek93kmhI",
        "outputId": "da2b9412-a06a-4090-fd83-0823c912350a"
      },
      "execution_count": null,
      "outputs": [
        {
          "output_type": "stream",
          "name": "stdout",
          "text": [
            "\"Python programming is fun\"\n",
            "{'p': 2, 'y': 1, 't': 1, 'h': 1, 'o': 2, 'n': 3, 'r': 2, 'g': 2, 'a': 1, 'm': 2, 'i': 2, 's': 1, 'f': 1, 'u': 1}\n"
          ]
        }
      ]
    },
    {
      "cell_type": "markdown",
      "source": [
        "Task 12"
      ],
      "metadata": {
        "id": "GwIasEKi3FpB"
      }
    },
    {
      "cell_type": "code",
      "source": [
        "dict_1 = {'A': [1, 2, 3], 'b': ['1', '2'], \"c\": [4, 5, 6, 7]}\n",
        "total = 0\n",
        "for i in dict_1.values():\n",
        "  for j in i:\n",
        "    total += 1\n",
        "print(total)"
      ],
      "metadata": {
        "colab": {
          "base_uri": "https://localhost:8080/"
        },
        "id": "FlIAoI-Z3Hea",
        "outputId": "06f710c5-54dc-40e7-c10e-fe48872b7abe"
      },
      "execution_count": null,
      "outputs": [
        {
          "output_type": "stream",
          "name": "stdout",
          "text": [
            "9\n"
          ]
        }
      ]
    },
    {
      "cell_type": "markdown",
      "source": [
        "Task 13"
      ],
      "metadata": {
        "id": "p7jBXkTjEZQ7"
      }
    },
    {
      "cell_type": "code",
      "source": [
        "list_1 = [(\"a\", 1), (\"b\", 2), (\"a\", 3), (\"b\", 1), (\"a\", 2), (\"c\", 1)]\n",
        "dic = {}\n",
        "key = []\n",
        "val = []\n",
        "for i, j in list_1:\n",
        "  if i not in key:\n",
        "    key.append(i)\n",
        "\n",
        "for z in key:\n",
        "  for x, y in list_1:\n",
        "    if x == z:\n",
        "      val.append(y)\n",
        "      dic[x] = val\n",
        "  val = []\n",
        "print(dic)"
      ],
      "metadata": {
        "colab": {
          "base_uri": "https://localhost:8080/"
        },
        "id": "Zr-x0UySEa26",
        "outputId": "182e584a-45a4-48c1-c47c-e1fd38fb3a75"
      },
      "execution_count": null,
      "outputs": [
        {
          "output_type": "stream",
          "name": "stdout",
          "text": [
            "{'a': [1, 3, 2], 'b': [2, 1], 'c': [1]}\n"
          ]
        }
      ]
    },
    {
      "cell_type": "code",
      "source": [
        "x = [(\"a\", 1), (\"b\", 2), (\"a\", 3), (\"b\", 1), (\"a\", 2), (\"c\", 1)]\n",
        "mydict={}\n",
        "for i, j in x:\n",
        "  if i not in mydict.keys():\n",
        "    mydict[i]=[j]\n",
        "  else:\n",
        "    mydict[i].append(j)   # mydict[i] = [1, 3, 2]\n",
        "print(mydict)"
      ],
      "metadata": {
        "colab": {
          "base_uri": "https://localhost:8080/"
        },
        "id": "YM7zGwZmsVhK",
        "outputId": "4e825fd6-10e0-42cf-dcc3-a873f0e3dbe8"
      },
      "execution_count": null,
      "outputs": [
        {
          "output_type": "stream",
          "name": "stdout",
          "text": [
            "{'a': [1, 3, 2], 'b': [2, 1], 'c': [1]}\n"
          ]
        }
      ]
    },
    {
      "cell_type": "markdown",
      "source": [
        "Task 15"
      ],
      "metadata": {
        "id": "USlXBEEiUSsd"
      }
    },
    {
      "cell_type": "code",
      "source": [
        "given = [(2, 3), (4, 5), (6, 7), (2, 8)]\n",
        "new = []\n",
        "for i,j in given:\n",
        "    new.append(i*j)\n",
        "print(new)"
      ],
      "metadata": {
        "id": "QjAiaYPoSIdo",
        "colab": {
          "base_uri": "https://localhost:8080/"
        },
        "outputId": "3c8ff9d5-bc55-4f53-950c-a2f779e9c9f9"
      },
      "execution_count": null,
      "outputs": [
        {
          "output_type": "stream",
          "name": "stdout",
          "text": [
            "[6, 20, 42, 16]\n"
          ]
        }
      ]
    },
    {
      "cell_type": "markdown",
      "source": [
        "Task 16"
      ],
      "metadata": {
        "id": "KXg3IwwXzK3A"
      }
    },
    {
      "cell_type": "code",
      "source": [
        "a_tuple = ( [1, 2, 3], [4, 5, 6], [7, 8, 9], [10, 11, 12])\n",
        "j = input()\n",
        "for i in a_tuple:\n",
        "    i[2] = j\n",
        "print(a_tuple)"
      ],
      "metadata": {
        "id": "Sw5OhWLIzOGx",
        "colab": {
          "base_uri": "https://localhost:8080/"
        },
        "outputId": "5fa8ab0f-d7f3-4f7f-ab23-50c042eb8366"
      },
      "execution_count": null,
      "outputs": [
        {
          "output_type": "stream",
          "name": "stdout",
          "text": [
            "1000\n",
            "([1, 2, '1000'], [4, 5, '1000'], [7, 8, '1000'], [10, 11, '1000'])\n"
          ]
        }
      ]
    },
    {
      "cell_type": "markdown",
      "source": [
        "Task 17"
      ],
      "metadata": {
        "id": "ZMDQL7AWYjXW"
      }
    },
    {
      "cell_type": "code",
      "source": [
        "my_dictionary = {'c1':'Red', 'c2':'Green', 'c3':None, 'd4':'Blue', 'a5':None}\n",
        "dic = {}\n",
        "for i, j in my_dictionary.items():\n",
        "  if j != None:\n",
        "    dic[i] = j\n",
        "print(dic)"
      ],
      "metadata": {
        "colab": {
          "base_uri": "https://localhost:8080/"
        },
        "id": "Qi69jNZNYlFU",
        "outputId": "61afc3b8-d55b-4415-fdaa-33b64d073d3c"
      },
      "execution_count": null,
      "outputs": [
        {
          "output_type": "stream",
          "name": "stdout",
          "text": [
            "{'c1': 'Red', 'c2': 'Green', 'd4': 'Blue'}\n"
          ]
        }
      ]
    },
    {
      "cell_type": "code",
      "source": [
        "'''li = [1,2, 3]\n",
        "for i in li:\n",
        "  li.append(1)\n",
        "print(li)'''\n",
        "# Learning experience: if you loop in a list, inside loop you shouldn't edit the list you are looping.\n",
        "\n",
        "c = 55\n",
        "def f(a, b, c):\n",
        "  return c*5\n",
        "f(1, 2, c = 4)  # In this case, c = 4. It'll ignore the c = 55."
      ],
      "metadata": {
        "colab": {
          "base_uri": "https://localhost:8080/"
        },
        "id": "3cN7USxxbEIt",
        "outputId": "e61ac009-23ce-4195-fe54-c4971988fd76"
      },
      "execution_count": null,
      "outputs": [
        {
          "output_type": "execute_result",
          "data": {
            "text/plain": [
              "20"
            ]
          },
          "metadata": {},
          "execution_count": 2
        }
      ]
    },
    {
      "cell_type": "markdown",
      "source": [
        "Task 18"
      ],
      "metadata": {
        "id": "9C_HLPY5b7Gu"
      }
    },
    {
      "cell_type": "code",
      "source": [
        "dict_1 = {'a' : 6, 'b' : 7, 'c' : 9, 'd' : 8, 'e' : 11, 'f' : 12, 'g' : 13}\n",
        "dic = {}\n",
        "for i in range(int(input()), int(input())):\n",
        "  for x, y in dict_1.items():\n",
        "    if i == y:\n",
        "      dic[x] = y\n",
        "print(dic)"
      ],
      "metadata": {
        "id": "Bv0orfHbb_7x",
        "colab": {
          "base_uri": "https://localhost:8080/"
        },
        "outputId": "8f84448c-07db-456b-a077-0a3bb3f837d0"
      },
      "execution_count": null,
      "outputs": [
        {
          "output_type": "stream",
          "name": "stdout",
          "text": [
            "9\n",
            "12\n",
            "{'c': 9, 'e': 11}\n"
          ]
        }
      ]
    },
    {
      "cell_type": "markdown",
      "source": [
        "Task 19"
      ],
      "metadata": {
        "id": "lHmrVaBAuwjd"
      }
    },
    {
      "cell_type": "code",
      "source": [
        "given = [(20, 80), (31, 80), (1, 22), (88, 11), (27, 11)]\n",
        "dic = {}\n",
        "for i, j in given:\n",
        "  if j in dic:\n",
        "    dic[j] += [(i, j)]\n",
        "  else:\n",
        "    dic[j] = [(i, j)]\n",
        "print(dic)"
      ],
      "metadata": {
        "colab": {
          "base_uri": "https://localhost:8080/"
        },
        "id": "-0UPaTIOuxo-",
        "outputId": "f5c85c59-8907-4343-c50d-d8189182d5b1"
      },
      "execution_count": null,
      "outputs": [
        {
          "output_type": "stream",
          "name": "stdout",
          "text": [
            "{80: [(20, 80), (31, 80)], 22: [(1, 22)], 11: [(88, 11), (27, 11)]}\n"
          ]
        }
      ]
    },
    {
      "cell_type": "markdown",
      "source": [
        "Task 20"
      ],
      "metadata": {
        "id": "joAvijPayACK"
      }
    },
    {
      "cell_type": "code",
      "source": [
        "input1 = input().split(' ')\n",
        "for stop in range(len(input1)):\n",
        "  input1[stop] = input1[stop].strip('.')\n",
        "in1 = []\n",
        "for duplicate in input1:\n",
        "  if duplicate not in in1:\n",
        "    in1.append(duplicate)\n",
        "input2 = []\n",
        "for i in range(int(input('Number of special characters: '))):\n",
        "  input2.append(input())\n",
        "\n",
        "dic = {}\n",
        "sum = 0\n",
        "for x in in1:\n",
        "  for y in x:\n",
        "    sum += ord(y)\n",
        "    calc_index = sum % len(input2)\n",
        "  sum = 0\n",
        "  for z in range(len(input2)):\n",
        "    if z == calc_index:\n",
        "      if input2[z] not in dic.keys():\n",
        "        dic[input2[z]] = [x]\n",
        "      else:\n",
        "        dic[input2[z]].append(x)\n",
        "\n",
        "print('Words in the given String:', input1)\n",
        "print(dic)"
      ],
      "metadata": {
        "id": "0odJNvQ3yBmd",
        "colab": {
          "base_uri": "https://localhost:8080/"
        },
        "outputId": "c4abc12f-7ec1-418c-ba94-f81e72ea6f02"
      },
      "execution_count": null,
      "outputs": [
        {
          "output_type": "stream",
          "name": "stdout",
          "text": [
            "The secret of getting ahead is getting started.\n",
            "Number of special characters: 5\n",
            "-\n",
            "=\n",
            "+\n",
            "*\n",
            "%\n",
            "Words in the given String: ['The', 'secret', 'of', 'getting', 'ahead', 'is', 'getting', 'started']\n",
            "{'%': ['The', 'getting', 'ahead', 'started'], '=': ['secret'], '*': ['of'], '-': ['is']}\n"
          ]
        }
      ]
    }
  ]
}