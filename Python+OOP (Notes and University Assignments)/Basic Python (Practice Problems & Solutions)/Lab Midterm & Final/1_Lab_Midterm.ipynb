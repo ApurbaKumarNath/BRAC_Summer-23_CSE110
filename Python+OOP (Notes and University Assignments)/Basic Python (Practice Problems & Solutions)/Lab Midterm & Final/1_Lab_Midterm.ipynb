{
  "nbformat": 4,
  "nbformat_minor": 0,
  "metadata": {
    "colab": {
      "provenance": [],
      "authorship_tag": "ABX9TyONwzfVMWUN6uoIBU0TIJ9G",
      "include_colab_link": true
    },
    "kernelspec": {
      "name": "python3",
      "display_name": "Python 3"
    },
    "language_info": {
      "name": "python"
    }
  },
  "cells": [
    {
      "cell_type": "markdown",
      "metadata": {
        "id": "view-in-github",
        "colab_type": "text"
      },
      "source": [
        "<a href=\"https://colab.research.google.com/github/ApurbaKumarNath/today-i-learned/blob/main/Basic%20Python%2BOOP%20(Notes%20and%20University%20Assignments)/Basic%20Python%20(Practice%20Problems%20%26%20Solutions)/Midterm%20%26%20Final/1_Lab_Midterm.ipynb\" target=\"_parent\"><img src=\"https://colab.research.google.com/assets/colab-badge.svg\" alt=\"Open In Colab\"/></a>"
      ]
    },
    {
      "cell_type": "code",
      "execution_count": null,
      "metadata": {
        "colab": {
          "base_uri": "https://localhost:8080/"
        },
        "id": "K4A8JMRHBsSL",
        "outputId": "fee102b8-16f7-4c43-9bb2-60ce5dd120a8"
      },
      "outputs": [
        {
          "output_type": "stream",
          "name": "stdout",
          "text": [
            "CSE110SLAck\n",
            "dt494948tmdl"
          ]
        }
      ],
      "source": [
        "# I don't have the question\n",
        "s = input()\n",
        "for i in s:\n",
        "  if i == 'a' or i == 'e' or i == 'o' or i == 'u' or i == 'i' or i == 'A' or i == 'E' or i == 'O' or i == 'U' or i == 'I':\n",
        "    continue\n",
        "  elif i == '0' or i == '1' or i == '2' or i == '3' or i == '4' or i == '5' or i == '6' or i == '7' or i == '8' or i == '9':\n",
        "    print(ord(i), end = '')\n",
        "  else:\n",
        "    if 65 <= ord(i) <= 89:\n",
        "      print(chr(ord(chr(ord(i) + 32))+1), end = '')\n",
        "    else:\n",
        "      print(chr(ord(i) + 1), end = '')"
      ]
    }
  ]
}