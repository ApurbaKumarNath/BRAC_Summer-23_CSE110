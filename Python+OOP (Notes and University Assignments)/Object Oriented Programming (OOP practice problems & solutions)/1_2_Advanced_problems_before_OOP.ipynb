{
  "nbformat": 4,
  "nbformat_minor": 0,
  "metadata": {
    "colab": {
      "provenance": [],
      "authorship_tag": "ABX9TyOEin3n9X4tO6umm+F+0nTf",
      "include_colab_link": true
    },
    "kernelspec": {
      "name": "python3",
      "display_name": "Python 3"
    },
    "language_info": {
      "name": "python"
    }
  },
  "cells": [
    {
      "cell_type": "markdown",
      "metadata": {
        "id": "view-in-github",
        "colab_type": "text"
      },
      "source": [
        "<a href=\"https://colab.research.google.com/github/ApurbaKumarNath/python-oop/blob/main/Python%2BOOP%20(Notes%20and%20University%20Assignments)/Object%20Oriented%20Programming%20(OOP%20practice%20problems%20%26%20solutions)/1_2_Advanced_problems_before_OOP.ipynb\" target=\"_parent\"><img src=\"https://colab.research.google.com/assets/colab-badge.svg\" alt=\"Open In Colab\"/></a>"
      ]
    },
    {
      "cell_type": "markdown",
      "source": [
        "# String"
      ],
      "metadata": {
        "id": "EeWpGvDyG9xR"
      }
    },
    {
      "cell_type": "markdown",
      "source": [
        "1"
      ],
      "metadata": {
        "id": "o164D0I5G4Dh"
      }
    },
    {
      "cell_type": "code",
      "execution_count": null,
      "metadata": {
        "colab": {
          "base_uri": "https://localhost:8080/"
        },
        "id": "Jdaxcf2ED2XF",
        "outputId": "2faafd3e-e80a-4c62-af5d-394286ae9a48"
      },
      "outputs": [
        {
          "output_type": "stream",
          "name": "stdout",
          "text": [
            "ApplE\n",
            "apple\n"
          ]
        }
      ],
      "source": [
        "# Way number 1\n",
        "given = input()\n",
        "upper_count = 0\n",
        "lower_count = 0\n",
        "out = ''\n",
        "for character in given:\n",
        "  if 64 < ord(character) < 91:\n",
        "    upper_count += 1\n",
        "  elif 96 < ord(character) < 123:\n",
        "    lower_count += 1\n",
        "\n",
        "# Counting is done. Now, making upper or lower without using .upper() or .lower():\n",
        "if upper_count > lower_count:\n",
        "  for ch in given:\n",
        "    if 64 < ord(ch) < 91:\n",
        "      out += ch\n",
        "    else:\n",
        "      out += chr(ord(ch) - 32)\n",
        "\n",
        "else:\n",
        "  for ch in given:\n",
        "    if 96 < ord(ch) < 123:\n",
        "      out += ch\n",
        "    else:\n",
        "      out += chr(ord(ch) + 32)\n",
        "print(out)"
      ]
    },
    {
      "cell_type": "code",
      "source": [
        "# Way number 2. I made a custom function here for upper and lower.\n",
        "def make_up_low(string, upper = False, lower = False):\n",
        "  if upper == True:\n",
        "    out = ''\n",
        "    for ch in string:\n",
        "      if 96 < ord(ch) < 123:\n",
        "        out += chr(ord(ch) - 32)\n",
        "      else:\n",
        "        out += ch\n",
        "    return out\n",
        "\n",
        "  elif lower == True:\n",
        "    out = ''\n",
        "    for ch in string:\n",
        "      if 64 < ord(ch) < 91:\n",
        "        out += chr(ord(ch) + 32)\n",
        "      else:\n",
        "        out += ch\n",
        "    return out\n",
        "\n",
        "\n",
        "given = input()\n",
        "upper_count = 0\n",
        "lower_count = 0\n",
        "for character in given:\n",
        "  if 64 < ord(character) < 91:\n",
        "    upper_count += 1\n",
        "  elif 96 < ord(character) < 123:\n",
        "    lower_count += 1\n",
        "\n",
        "if upper_count > lower_count:\n",
        "  print(make_up_low(given, upper = True))\n",
        "\n",
        "else:\n",
        "  print(make_up_low(given, lower = True))"
      ],
      "metadata": {
        "colab": {
          "base_uri": "https://localhost:8080/"
        },
        "id": "hvqP68QHAFoY",
        "outputId": "d0614def-05ef-48e4-e9df-d443fd2ceec6"
      },
      "execution_count": null,
      "outputs": [
        {
          "output_type": "stream",
          "name": "stdout",
          "text": [
            "BaNaNa\n",
            "banana\n"
          ]
        }
      ]
    },
    {
      "cell_type": "markdown",
      "source": [
        "2"
      ],
      "metadata": {
        "id": "19k9Eu4sHB85"
      }
    },
    {
      "cell_type": "code",
      "source": [
        "nums = '0123456789'\n",
        "num_checker = str_checker = False\n",
        "given = input()\n",
        "\n",
        "for ch in given:\n",
        "  if ch in nums:\n",
        "    num_checker = True\n",
        "  elif 64 < ord(ch) < 91 or 96 < ord(ch) < 123:\n",
        "    str_checker = True\n",
        "\n",
        "if num_checker == True and str_checker == True:\n",
        "  print('MIXED')\n",
        "elif num_checker == True:\n",
        "  print('NUMBER')\n",
        "else:\n",
        "  print('WORD')"
      ],
      "metadata": {
        "colab": {
          "base_uri": "https://localhost:8080/"
        },
        "id": "A42T8XTSturD",
        "outputId": "9bdc6a18-2682-4b46-dfe8-fd4b79b1ee0d"
      },
      "execution_count": null,
      "outputs": [
        {
          "output_type": "stream",
          "name": "stdout",
          "text": [
            "11\n",
            "NUMBER\n"
          ]
        }
      ]
    },
    {
      "cell_type": "markdown",
      "source": [
        "3"
      ],
      "metadata": {
        "id": "otT_LpZWev9f"
      }
    },
    {
      "cell_type": "code",
      "source": [
        "s = '' # s = sum of the characters needed\n",
        "given = input()\n",
        "flag = False\n",
        "\n",
        "for c in given: # c is for every character,\n",
        "  if flag == True:\n",
        "    if 64 < ord(c) < 91: # for checking the last uppercase letter\n",
        "      break\n",
        "    else:\n",
        "      s += c\n",
        "  elif 64 < ord(c) < 91: # for checking the first uppercase letter\n",
        "    flag = True\n",
        "\n",
        "if s == '': # s = '' if --> consequent uppercase letters\n",
        "  print('BLANK')\n",
        "else:\n",
        "  print(s)"
      ],
      "metadata": {
        "colab": {
          "base_uri": "https://localhost:8080/"
        },
        "id": "hHvH2j1FexS7",
        "outputId": "0c3850ca-7334-4bed-e3cd-c917f595bc01"
      },
      "execution_count": null,
      "outputs": [
        {
          "output_type": "stream",
          "name": "stdout",
          "text": [
            "baNgladEsh\n",
            "glad\n"
          ]
        }
      ]
    },
    {
      "cell_type": "code",
      "source": [
        "# Another way:\n",
        "given = input()\n",
        "\n",
        "for c in range(len(given)):\n",
        "  if 64 < ord(given[c]) < 91:\n",
        "    start = c + 1\n",
        "    break\n",
        "\n",
        "for c in range(start, len(given)):\n",
        "  if 64 < ord(given[c]) < 91:\n",
        "    end = c\n",
        "    break\n",
        "\n",
        "if given[start:end] == '':\n",
        "  print('BLANK')\n",
        "else:\n",
        "  print(given[start:end])"
      ],
      "metadata": {
        "colab": {
          "base_uri": "https://localhost:8080/"
        },
        "id": "UNakno-DmHwV",
        "outputId": "094c25e9-289e-44c7-f4a5-04da0a392726"
      },
      "execution_count": null,
      "outputs": [
        {
          "output_type": "stream",
          "name": "stdout",
          "text": [
            "baNgladEsh\n",
            "glad\n"
          ]
        }
      ]
    },
    {
      "cell_type": "markdown",
      "source": [
        "4"
      ],
      "metadata": {
        "id": "nlFuMlEGLSN8"
      }
    },
    {
      "cell_type": "code",
      "source": [
        "given = input() # user input\n",
        "word1 = ''\n",
        "word2 = ''\n",
        "out = ''\n",
        "findComma = False\n",
        "for ch in given: # to separate words\n",
        "  if ch != ',':\n",
        "    if findComma == False: #Before finding ',' ***findComma == False is important. Cz after finding ',', next ch are not commas.\n",
        "      word1 += ch # word1 = letters before ','                # So, if it's not used, letters after ',' will be added in word1.***\n",
        "  else:\n",
        "    findComma = True # Found ','\n",
        "  if findComma == True:\n",
        "    if ch != ' ': # After finding ',', it skips ' '\n",
        "      word2 += ch\n",
        "\n",
        "for c in word1: # character from 1st string\n",
        "  if c in word2: # finding common in 2nd string\n",
        "    out += c\n",
        "for ch in word2:\n",
        "  if ch in word1: # again common from 2nd in 1st str\n",
        "    out += ch\n",
        "if out == '':\n",
        "  out = 'Nothing in common.'\n",
        "print(out)"
      ],
      "metadata": {
        "colab": {
          "base_uri": "https://localhost:8080/"
        },
        "id": "3Xka6kFxzD12",
        "outputId": "85a1a69a-6168-4f65-becd-7c3020888d22"
      },
      "execution_count": null,
      "outputs": [
        {
          "output_type": "stream",
          "name": "stdout",
          "text": [
            "harry, hermione\n",
            "hrrhr\n"
          ]
        }
      ]
    },
    {
      "cell_type": "code",
      "source": [
        "# Cannot use list to solve string problems. So, I was not allowed to do this way.\n",
        "given1, given2 = input().split(', ') # list unpacking\n",
        "out = ''\n",
        "for c in given1: # character from 1st string\n",
        "  if c in given2: # finding common in 2nd string\n",
        "    out += c\n",
        "for ch in given2:\n",
        "  if ch in given1: # again common from 2nd in 1st str\n",
        "    out += ch\n",
        "if out == '':\n",
        "  out = 'Nothing in common.'\n",
        "print(out)"
      ],
      "metadata": {
        "colab": {
          "base_uri": "https://localhost:8080/"
        },
        "id": "z-eh1w69LRV9",
        "outputId": "b476d11c-08d4-420c-e469-cb453135c467"
      },
      "execution_count": null,
      "outputs": [
        {
          "output_type": "stream",
          "name": "stdout",
          "text": [
            "dean, tom\n",
            "Nothing in common.\n"
          ]
        }
      ]
    },
    {
      "cell_type": "markdown",
      "source": [
        "5"
      ],
      "metadata": {
        "id": "wqzcSZl0jYwN"
      }
    },
    {
      "cell_type": "code",
      "source": [
        "given = input()\n",
        "nums = '0123456789'\n",
        "special = '_$#@'\n",
        "l_check = u_check = n_check = s_check = False\n",
        "\n",
        "for c in given:\n",
        "  if 64 < ord(c) < 91:\n",
        "    u_check = True\n",
        "  elif 96 < ord(c) < 123:\n",
        "    l_check = True\n",
        "  elif c in nums:\n",
        "    n_check = True\n",
        "  elif c in special:\n",
        "    s_check = True\n",
        "\n",
        "out = ''\n",
        "if l_check == u_check == n_check == s_check == True:\n",
        "  out = 'OK'\n",
        "if l_check == False:\n",
        "  out += 'Lowercase Missing'\n",
        "if u_check == False:\n",
        "  if out == '':\n",
        "    out += 'Uppercase Missing'\n",
        "  else:\n",
        "    out += ', Uppercase Missing'\n",
        "if n_check == False:\n",
        "  if out == '':\n",
        "    out += 'Digit Missing'\n",
        "  else:\n",
        "    out += ', Digit Missing'\n",
        "if s_check == False:\n",
        "  if out == '':\n",
        "    out += 'Special Missing'\n",
        "  else:\n",
        "    out += ', Special Missing'\n",
        "\n",
        "print(out)"
      ],
      "metadata": {
        "colab": {
          "base_uri": "https://localhost:8080/"
        },
        "id": "se6bQD94jZS5",
        "outputId": "64b046a2-40c3-40dc-8a61-e42a873cb10d"
      },
      "execution_count": null,
      "outputs": [
        {
          "output_type": "stream",
          "name": "stdout",
          "text": [
            "OhMyBR@CU20\n",
            "OK\n"
          ]
        }
      ]
    },
    {
      "cell_type": "code",
      "source": [
        "# Trying in a different way\n",
        "given = input()\n",
        "nums = '0123456789'\n",
        "special = '_$#@'\n",
        "l_check = u_check = n_check = s_check = False\n",
        "\n",
        "for c in given:\n",
        "  if 64 < ord(c) < 91:\n",
        "    u_check = True\n",
        "  elif 96 < ord(c) < 123:\n",
        "    l_check = True\n",
        "  elif c in nums:\n",
        "    n_check = True\n",
        "  elif c in special:\n",
        "    s_check = True\n",
        "\n",
        "dic = {l_check:'Lowercase Missing', u_check: 'Uppercase Missing', n_check: 'Digit Missing', s_check: 'Special Missing'}\n",
        "li2 = ['Uppercase Missing', ]\n",
        "out = ''\n"
      ],
      "metadata": {
        "colab": {
          "base_uri": "https://localhost:8080/"
        },
        "outputId": "64b046a2-40c3-40dc-8a61-e42a873cb10d",
        "id": "aOzM9yEQXTIx"
      },
      "execution_count": null,
      "outputs": [
        {
          "output_type": "stream",
          "name": "stdout",
          "text": [
            "OhMyBR@CU20\n",
            "OK\n"
          ]
        }
      ]
    },
    {
      "cell_type": "markdown",
      "source": [
        "# List"
      ],
      "metadata": {
        "id": "a5qZWqPIRn6h"
      }
    },
    {
      "cell_type": "markdown",
      "source": [
        "1"
      ],
      "metadata": {
        "id": "QVR_fLbRRquY"
      }
    },
    {
      "cell_type": "code",
      "source": [
        "li = []\n",
        "while True:\n",
        "  i = input()\n",
        "  if i == 'STOP':\n",
        "    break\n",
        "  else:\n",
        "    li.append(int(i))\n",
        "\n",
        "alreadyChecked = [] # For storing values that are already printed\n",
        "for num in li:\n",
        "  if num in alreadyChecked:\n",
        "    continue   # So, it skips the value that is already checked\n",
        "  alreadyChecked.append(num)\n",
        "  specific = num\n",
        "  count = 0 # Resetting count for every num\n",
        "  for checking in li:\n",
        "    if checking == specific:\n",
        "      count += 1\n",
        "  print(f'{specific} - {count} times')"
      ],
      "metadata": {
        "id": "mMTZEY_yq-6w",
        "colab": {
          "base_uri": "https://localhost:8080/"
        },
        "outputId": "07e06e19-5c23-48b3-89d8-ea72e7d09630"
      },
      "execution_count": null,
      "outputs": [
        {
          "output_type": "stream",
          "name": "stdout",
          "text": [
            "10\n",
            "20\n",
            "20\n",
            "30\n",
            "10\n",
            "50\n",
            "90\n",
            "STOP\n",
            "10 - 2 times\n",
            "20 - 2 times\n",
            "30 - 1 times\n",
            "50 - 1 times\n",
            "90 - 1 times\n"
          ]
        }
      ]
    },
    {
      "cell_type": "code",
      "source": [
        "# Another way: taking an unique list\n",
        "li = []\n",
        "while True:\n",
        "  i = input()\n",
        "  if i == 'STOP':\n",
        "    break\n",
        "  else:\n",
        "    li.append(int(i))\n",
        "\n",
        "unique = []\n",
        "for j in li:\n",
        "  if j not in unique:\n",
        "    unique.append(j)\n",
        "\n",
        "count = 0\n",
        "for k in unique:\n",
        "  for specific in li:\n",
        "    if specific == k:\n",
        "      count += 1\n",
        "  print(f'{k} - {count} times')\n",
        "  count = 0"
      ],
      "metadata": {
        "colab": {
          "base_uri": "https://localhost:8080/"
        },
        "id": "jqT1bA1_RqAZ",
        "outputId": "bc2d3a34-8723-48df-9bea-991c9ce8e226"
      },
      "execution_count": null,
      "outputs": [
        {
          "output_type": "stream",
          "name": "stdout",
          "text": [
            "10\n",
            "20\n",
            "20\n",
            "30\n",
            "10\n",
            "50\n",
            "90\n",
            "STOP\n",
            "10 - 2 times\n",
            "20 - 2 times\n",
            "30 - 1 times\n",
            "50 - 1 times\n",
            "90 - 1 times\n"
          ]
        }
      ]
    },
    {
      "cell_type": "markdown",
      "source": [
        "2"
      ],
      "metadata": {
        "id": "9re1twGPMZaX"
      }
    },
    {
      "cell_type": "code",
      "source": [
        "#custom split function: can return in ints or floats if wanted.\n",
        "def custom_split(inp, by = ' ', ints = False, floats = False):\n",
        "  word = ''\n",
        "  li = []\n",
        "\n",
        "  def f():\n",
        "    if ints == False and floats == False:\n",
        "      li.append(word)\n",
        "    elif ints == True:\n",
        "      li.append(int(word))\n",
        "    elif floats == True:\n",
        "      li.append(float(word))\n",
        "\n",
        "  for ch in inp:\n",
        "    if ch in by:\n",
        "      if word == '':\n",
        "        continue\n",
        "      f()\n",
        "      word = ''\n",
        "    else:\n",
        "      word += ch\n",
        "\n",
        "  f()\n",
        "  return li"
      ],
      "metadata": {
        "id": "4487gL6QoVz3"
      },
      "execution_count": null,
      "outputs": []
    },
    {
      "cell_type": "code",
      "source": [
        "nested = []\n",
        "for i in range(int(input('Number of lists: '))):\n",
        "  inp = custom_split(input(), ints = True)\n",
        "  nested.append(inp)\n",
        "\n",
        "def list_sum(oneList): # Returns the sum of the values of inner lists\n",
        "  sum = 0\n",
        "  for number in oneList:\n",
        "    sum += number\n",
        "  return sum\n",
        "\n",
        "max_list = nested[0]\n",
        "max = list_sum(nested[0])\n",
        "\n",
        "for lis in nested: # lis = inner list in nested\n",
        "  if list_sum(lis) > max:\n",
        "    max = list_sum(lis)\n",
        "    max_list = lis\n",
        "\n",
        "print(max)\n",
        "print(max_list)"
      ],
      "metadata": {
        "colab": {
          "base_uri": "https://localhost:8080/"
        },
        "id": "Nzxo1UW4MaQn",
        "outputId": "66de3433-9ab0-4951-84bb-507abda91c24"
      },
      "execution_count": null,
      "outputs": [
        {
          "output_type": "stream",
          "name": "stdout",
          "text": [
            "Number of lists: 2\n",
            "5\n",
            "1 1 1\n",
            "5\n",
            "[5]\n"
          ]
        }
      ]
    },
    {
      "cell_type": "markdown",
      "source": [
        "3"
      ],
      "metadata": {
        "id": "uNlSmKh8Z0zB"
      }
    },
    {
      "cell_type": "code",
      "source": [
        "outer = custom_split(input(), ints = True) # Multiplier\n",
        "inner = custom_split(input(), ints = True) # Will be multiplied\n",
        "mul = [] # Holds all multiplied values\n",
        "\n",
        "for j in outer:\n",
        "  for k in inner:\n",
        "    mul.append(j * k)\n",
        "\n",
        "print(mul)"
      ],
      "metadata": {
        "colab": {
          "base_uri": "https://localhost:8080/"
        },
        "id": "47seLcLRZ2PY",
        "outputId": "4ccda59c-4224-483f-a54a-da0f18888c89"
      },
      "execution_count": null,
      "outputs": [
        {
          "output_type": "stream",
          "name": "stdout",
          "text": [
            "2 3 6\n",
            "3 4 5\n",
            "[6, 8, 10, 9, 12, 15, 18, 24, 30]\n"
          ]
        }
      ]
    },
    {
      "cell_type": "markdown",
      "source": [
        "4"
      ],
      "metadata": {
        "id": "rQAHvv7DYeqx"
      }
    },
    {
      "cell_type": "code",
      "source": [
        "nested = []\n",
        "while True:\n",
        "  i = input()\n",
        "  if i == 'STOP':\n",
        "    break\n",
        "  else:\n",
        "    innerList = custom_split(i, ints = True)\n",
        "    nested.append(innerList)\n",
        "\n",
        "def differ(li): # returns a list with difference values, e.g [2, 1, 4, 6, 10] = [1, 3, 2, 4]\n",
        "  diff = []\n",
        "  for i in range(len(li) - 1):\n",
        "    d = li[i] - li[i + 1]\n",
        "    if d >= 0:\n",
        "      diff.append(d)\n",
        "    else:\n",
        "      diff.append(-d)\n",
        "  return diff\n",
        "\n",
        "for lis in nested:\n",
        "  flag = True\n",
        "  for n in range(1, len(lis) - 1): # 1 to N - 1\n",
        "    if n not in differ(lis):\n",
        "      flag = False\n",
        "      print('Not UB Jumper')\n",
        "      break\n",
        "  if flag == True:\n",
        "    print('UB Jumper')"
      ],
      "metadata": {
        "id": "ref7BSE4t2jq",
        "colab": {
          "base_uri": "https://localhost:8080/"
        },
        "outputId": "f70ac380-0e1c-4d8c-c3d8-2350b57e3c44"
      },
      "execution_count": null,
      "outputs": [
        {
          "output_type": "stream",
          "name": "stdout",
          "text": [
            "1 4 2 3\n",
            "2 1 4 6 10\n",
            "1 4 2 -1 6\n",
            "STOP\n",
            "UB Jumper\n",
            "UB Jumper\n",
            "Not UB Jumper\n"
          ]
        }
      ]
    },
    {
      "cell_type": "markdown",
      "source": [
        "5"
      ],
      "metadata": {
        "id": "wZK7UjbGHuvS"
      }
    },
    {
      "cell_type": "code",
      "source": [
        "n, k = custom_split(input(), ints = True)   # n = number of people, k = numbers of times must participate\n",
        "person = custom_split(input(), ints = True)  # person = the times per person has already participated\n",
        "\n",
        "formable = []\n",
        "for ap in person: # ap = times already participated before\n",
        "  if ap + k < 6: # max participation must be <= 5\n",
        "    formable.append(ap + k) # forming list with eligible participants\n",
        "\n",
        "print(len(formable)//3)  # Amount of groups possible"
      ],
      "metadata": {
        "colab": {
          "base_uri": "https://localhost:8080/"
        },
        "id": "k47hzy5LHviD",
        "outputId": "7445f3e5-ea1e-47f0-efc5-665b827321f2"
      },
      "execution_count": null,
      "outputs": [
        {
          "output_type": "stream",
          "name": "stdout",
          "text": [
            "6 5\n",
            "0 0 0 0 0\n",
            "1\n"
          ]
        }
      ]
    },
    {
      "cell_type": "markdown",
      "source": [
        "# Dictionary & Tuple"
      ],
      "metadata": {
        "id": "q-AESojSitDH"
      }
    },
    {
      "cell_type": "markdown",
      "source": [
        "1"
      ],
      "metadata": {
        "id": "UC4mnl4EkX5k"
      }
    },
    {
      "cell_type": "code",
      "source": [
        "def dict_creator(inp, ints = False):\n",
        "  li = custom_split(inp, by = ':, ')\n",
        "  dic = {}\n",
        "  for idx in range(0, len(li) - 1, 2):\n",
        "    if ints == False:\n",
        "      dic[li[idx]] = li[idx + 1]\n",
        "    elif ints == True:\n",
        "      dic[li[idx]] = int(li[idx + 1])\n",
        "  return dic"
      ],
      "metadata": {
        "id": "GnWpsyAk86fF"
      },
      "execution_count": null,
      "outputs": []
    },
    {
      "cell_type": "code",
      "source": [
        "dict1 = dict_creator(input(), ints = True)\n",
        "dict2 = dict_creator(input(), ints = True)\n",
        "\n",
        "d = {}\n",
        "for key in dict1:\n",
        "  d[key] = dict1[key]\n",
        "  for k in dict2:\n",
        "    if key == k:\n",
        "      d[key] += dict2[k]\n",
        "\n",
        "for key in dict2:\n",
        "  if key not in dict1.keys():\n",
        "    d[key] = dict2[key]\n",
        "\n",
        "print(d)\n",
        "\n",
        "li = []\n",
        "for item in d.values():\n",
        "  if item not in li:\n",
        "    li.append(item)\n",
        "\n",
        "for times in range(len(li)):\n",
        "  for idx in range(0, len(li) - times - 1):\n",
        "    if li[idx] > li[idx + 1]:\n",
        "      li[idx], li[idx+1] = li[idx+1], li[idx]\n",
        "print('Values:', tuple(li))"
      ],
      "metadata": {
        "id": "vSz-YYFpiyJe",
        "colab": {
          "base_uri": "https://localhost:8080/"
        },
        "outputId": "2598a9b2-9262-450e-f214-65d1c12f664b"
      },
      "execution_count": null,
      "outputs": [
        {
          "output_type": "stream",
          "name": "stdout",
          "text": [
            "a: 100, b: 100, c: 200, d: 300\n",
            "a: 300, b: 200, d: 400, e: 200\n",
            "{'a': 400, 'b': 300, 'c': 200, 'd': 700, 'e': 200}\n",
            "Values: (200, 300, 400, 700)\n"
          ]
        }
      ]
    },
    {
      "cell_type": "code",
      "source": [
        "# Another way: .get()\n",
        "dict1 = dict_creator(input(), ints = True)\n",
        "dict2 = dict_creator(input(), ints = True)\n",
        "\n",
        "d = {}\n",
        "tempLis = [] # unique list with the keys\n",
        "\n",
        "for key in dict1:\n",
        "  tempLis.append(key)\n",
        "for key in dict2:\n",
        "  if key not in dict1:\n",
        "    tempLis.append(key)\n",
        "\n",
        "for key in tempLis:\n",
        "  d[key] = dict1.get(key, 0) + dict2.get(key, 0)\n",
        "print(d)\n",
        "\n",
        "li = [] # unique list with values\n",
        "for item in d.values():\n",
        "  if item not in li:\n",
        "    li.append(item)\n",
        "\n",
        "for i in range(len(li)):\n",
        "  for j in range(0, len(li) - i - 1):\n",
        "    if li[j] > li[j + 1]:\n",
        "      li[j], li[j+1] = li[j+1], li[j]\n",
        "print('Values:', tuple(li))"
      ],
      "metadata": {
        "id": "S3rT2cDirEhf",
        "colab": {
          "base_uri": "https://localhost:8080/"
        },
        "outputId": "b3775476-6512-4caa-d390-1c0319f78d5c"
      },
      "execution_count": null,
      "outputs": [
        {
          "output_type": "stream",
          "name": "stdout",
          "text": [
            "a: 100, b: 100, c: 200, d: 300\n",
            "a: 300, b: 200, d: 400, e: 200\n",
            "{'a': 400, 'b': 300, 'c': 200, 'd': 700, 'e': 200}\n",
            "Values: (200, 300, 400, 700)\n"
          ]
        }
      ]
    },
    {
      "cell_type": "markdown",
      "source": [
        "2"
      ],
      "metadata": {
        "id": "xSM3_UzWi7E0"
      }
    },
    {
      "cell_type": "code",
      "source": [
        "dic = {}\n",
        "while True:\n",
        "  key = input()\n",
        "  if key == 'STOP':\n",
        "    break\n",
        "  else:\n",
        "    if key in dic:\n",
        "     dic[key] += 1\n",
        "    else:\n",
        "     dic[key] = 1\n",
        "\n",
        "for key, val in dic.items():\n",
        "  print(f'{key} - {val} times')"
      ],
      "metadata": {
        "colab": {
          "base_uri": "https://localhost:8080/"
        },
        "id": "AI9dp-F3i7jT",
        "outputId": "3557925a-5baa-4743-fa1e-ef091112f858"
      },
      "execution_count": null,
      "outputs": [
        {
          "output_type": "stream",
          "name": "stdout",
          "text": [
            "10\n",
            "20\n",
            "20\n",
            "30\n",
            "10\n",
            "50\n",
            "90\n",
            "STOP\n",
            "10 - 2 times\n",
            "20 - 2 times\n",
            "30 - 1 times\n",
            "50 - 1 times\n",
            "90 - 1 times\n"
          ]
        }
      ]
    },
    {
      "cell_type": "markdown",
      "source": [
        "3"
      ],
      "metadata": {
        "id": "30u8QVHkk3xD"
      }
    },
    {
      "cell_type": "code",
      "source": [
        "d1 = dict_creator(input())\n",
        "d = {}\n",
        "\n",
        "for key, val in d1.items():\n",
        "  if val in d:\n",
        "    d[val] += [key]\n",
        "  else:\n",
        "    d[val] = [key]\n",
        "print(d)"
      ],
      "metadata": {
        "id": "270dlVQkk4pi",
        "colab": {
          "base_uri": "https://localhost:8080/"
        },
        "outputId": "e5b0ab49-02ce-49a3-e810-87ae13013825"
      },
      "execution_count": null,
      "outputs": [
        {
          "output_type": "stream",
          "name": "stdout",
          "text": [
            "key1 : value1, key2 : value2, key3 : value1\n",
            "{'value1': ['key1', 'key3'], 'value2': ['key2']}\n"
          ]
        }
      ]
    },
    {
      "cell_type": "markdown",
      "source": [
        "4"
      ],
      "metadata": {
        "id": "bc2T0vrv00_b"
      }
    },
    {
      "cell_type": "code",
      "source": [
        "d = {'1': '.,?!:', '2': 'ABC', '3': 'DEF', '4': 'GHI', '5': 'JKL',\n",
        "     '6': 'MNO', '7': 'PQRS', '8': 'TUV', '9': 'WXYZ', '0': ' '}\n",
        "\n",
        "inp = input()\n",
        "upp_inp = '' # For making the input uppercase\n",
        "for ch in inp:\n",
        "  if 96 < ord(ch) < 123:\n",
        "    upp_inp += chr(ord(ch) - 32)\n",
        "  else:\n",
        "    upp_inp += ch\n",
        "\n",
        "def mul(value, letter): # Gets how many times the key should be multiplied\n",
        "  count = 0\n",
        "  for ch in value:\n",
        "    if ch == letter:\n",
        "      count += 1\n",
        "      break\n",
        "    else:\n",
        "      count += 1\n",
        "  return count\n",
        "\n",
        "for letter in upp_inp:\n",
        "  for key, val in d.items():\n",
        "    if letter in val:\n",
        "      print(key*mul(val, letter), end = '')"
      ],
      "metadata": {
        "colab": {
          "base_uri": "https://localhost:8080/"
        },
        "id": "OjsJXh8n01rp",
        "outputId": "c36d8b0a-05ed-460f-d1ad-b23bb7d2f0fd"
      },
      "execution_count": null,
      "outputs": [
        {
          "output_type": "stream",
          "name": "stdout",
          "text": [
            "Hello, World!\n",
            "4433555555666110966677755531111"
          ]
        }
      ]
    }
  ]
}