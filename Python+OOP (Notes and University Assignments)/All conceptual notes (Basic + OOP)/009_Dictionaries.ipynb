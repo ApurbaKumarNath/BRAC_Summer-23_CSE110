{
  "nbformat": 4,
  "nbformat_minor": 0,
  "metadata": {
    "colab": {
      "provenance": [],
      "authorship_tag": "ABX9TyP/xlfz8jQdZseBQpsfAYJP",
      "include_colab_link": true
    },
    "kernelspec": {
      "name": "python3",
      "display_name": "Python 3"
    },
    "language_info": {
      "name": "python"
    }
  },
  "cells": [
    {
      "cell_type": "markdown",
      "metadata": {
        "id": "view-in-github",
        "colab_type": "text"
      },
      "source": [
        "<a href=\"https://colab.research.google.com/github/ApurbaKumarNath/python-oop/blob/main/Python%2BOOP%20(Notes%20and%20University%20Assignments)/All%20conceptual%20notes%20(Basic%20%2B%20OOP)/009_Dictionaries.ipynb\" target=\"_parent\"><img src=\"https://colab.research.google.com/assets/colab-badge.svg\" alt=\"Open In Colab\"/></a>"
      ]
    },
    {
      "cell_type": "markdown",
      "source": [
        "```\n",
        "Dictionary = {key:value}\n",
        "A dictionary is a data structure/collection which is ordered*, changeable and do not allow duplicates.\n",
        "Dictionary keys can be Strings, booleans, numbers, and tuples; values can be of any data type.\n",
        "\n",
        "Remember one thing: in sets and dictionaries, 0 = False and 1 = True\n",
        "```"
      ],
      "metadata": {
        "id": "lG2m307msw5h"
      }
    },
    {
      "cell_type": "markdown",
      "source": [
        "To see dictionary methods, check:\n",
        "\n",
        "https://www.w3schools.com/python/python_dictionaries_methods.asp\n",
        "\n",
        "To see array methods, check:\n",
        "\n",
        "https://www.w3schools.com/python/python_arrays.asp"
      ],
      "metadata": {
        "id": "0T_1HRqRr_X6"
      }
    },
    {
      "cell_type": "code",
      "execution_count": null,
      "metadata": {
        "colab": {
          "base_uri": "https://localhost:8080/"
        },
        "id": "llEYvZLvFKHW",
        "outputId": "0f47b2d1-44cc-4769-cb5f-a123c999ccd1"
      },
      "outputs": [
        {
          "output_type": "stream",
          "name": "stdout",
          "text": [
            "{1: True, False: 0, 'C': 10, 'D': 'Dad', ('tuple', 1): [100, 0, {1, 2}, ('a', 'b')]}\n",
            "True\n",
            "-----------------------------------------------------------------\n",
            "{1: ('abc', ''), False: {'V', 'G'}} and the length is: 2 and the type: <class 'dict'>\n",
            "{'name': 'Apurba', 'age': '18+'}\n"
          ]
        }
      ],
      "source": [
        "types = {\n",
        "    1: True,\n",
        "    False: 0,\n",
        "    \"C\": 10,\n",
        "    'D': 'Dad',\n",
        "    ('tuple', 1): [100, 0, {1, 2}, ('a', 'b')],\n",
        "\n",
        "}\n",
        "\n",
        "print(types)\n",
        "print(types[1])\n",
        "print('-----------------------------------------------------------------')\n",
        "\n",
        "wrong = {\n",
        "    #[1, 2] : {1, 2, 3},\n",
        "    #{1, 2, 3}: {2, 3, 'N'},\n",
        "    #{1: 2, 3: 4}: {2, 3, 'N'}, # dictionaries, lists & sets aren't allowed to be keys\n",
        "    1: [4, 3, 'A'],\n",
        "    True: ('abc', ''), # 1 = True; so, the latter one is taken.\n",
        "    False: {'G', 'V'} # 0 = False\n",
        "}\n",
        "\n",
        "print(wrong, 'and the length is:', len(wrong), 'and the type:', type(wrong)) # Dictionaries cannot have two items with the same key. Here, 1 = True.\n",
        "\n",
        "construct = dict(name = \"Apurba\", age = '18+'); print(construct)"
      ]
    },
    {
      "cell_type": "code",
      "source": [
        "#Access Dictionary Items:\n",
        "types = {\n",
        "    1: True,\n",
        "    False: 0,\n",
        "    \"C\": 10,\n",
        "    'D': 'Dad',\n",
        "    ('tuple', 1): [100, 0, {1, 2}, ('a', 'b')],\n",
        "\n",
        "}\n",
        "\n",
        "\n",
        "print(types.get('D'), types.get(1, 'FF'), types.get(2, 'FF')) #using .get() # .get(1, 'FF') means get(1) for this dict. # .get(2, 'FF') means if 2 != key: show 'FF'\n",
        "print(types.keys()) #Using .keys()\n",
        "print(types.values()) #Using values\n",
        "print(types.items()) #Using .items() # Will look like tuples in a list.\n",
        "\n",
        "print(\"Checking if 10 exists in types:\", 10 in types) # Didn't work because 10 is not a key."
      ],
      "metadata": {
        "colab": {
          "base_uri": "https://localhost:8080/"
        },
        "id": "-ateuJIUwuNR",
        "outputId": "8122d732-a93c-43b9-96de-bab8a9dc7a44"
      },
      "execution_count": null,
      "outputs": [
        {
          "output_type": "stream",
          "name": "stdout",
          "text": [
            "Dad True FF\n",
            "dict_keys([1, False, 'C', 'D', ('tuple', 1)])\n",
            "dict_values([True, 0, 10, 'Dad', [100, 0, {1, 2}, ('a', 'b')]])\n",
            "dict_items([(1, True), (False, 0), ('C', 10), ('D', 'Dad'), (('tuple', 1), [100, 0, {1, 2}, ('a', 'b')])])\n",
            "Checking if 10 exists in types: False\n"
          ]
        }
      ]
    },
    {
      "cell_type": "code",
      "source": [
        "# Another basic concept:\n",
        "f = 1\n",
        "#str_1 = 'abc'; str_1[f] = 'd'; print(str_1) # TypeError: 'str' object does not support item assignment\n",
        "\n",
        "#tuple_1 = (0, 1); tuple_1[f] = 2; print(tuple_1) #TypeError: 'tuple' object does not support item assignment\n",
        "\n",
        "#set_1 = {0, 1}; set_1[f] = 2; print(set_1) # TypeError: 'set' object does not support item assignment\n",
        "\n",
        "list_1 = [0, 1]; list_1[f] = 2; print(list_1) # This works.\n",
        "\n",
        "dict_1 = {0: 0, 'c': 1}; dict_1[f] = 2; print(dict_1) # This also works."
      ],
      "metadata": {
        "colab": {
          "base_uri": "https://localhost:8080/"
        },
        "id": "c6CVfuqsrQ4J",
        "outputId": "3f0a51f3-9222-4e99-9148-f867ae316ad1"
      },
      "execution_count": null,
      "outputs": [
        {
          "output_type": "stream",
          "name": "stdout",
          "text": [
            "[0, 2]\n",
            "{0: 0, 'c': 1, 1: 2}\n"
          ]
        }
      ]
    },
    {
      "cell_type": "code",
      "source": [
        "#Change Dictionary Items:\n",
        "changing = {\n",
        "    'Rui': 'Fish',\n",
        "    'Apurbo': 'Human'\n",
        "}\n",
        "changing['Rui'] = \"Fi..\"\n",
        "print(changing['Rui'])\n",
        "changing.update({'Apurbo': 'Meta_Human'})\n",
        "print(changing['Apurbo'])"
      ],
      "metadata": {
        "id": "3FU84rwqzE4-",
        "colab": {
          "base_uri": "https://localhost:8080/"
        },
        "outputId": "354321da-5d5b-447b-a9c8-0d3cf8f6ed87"
      },
      "execution_count": null,
      "outputs": [
        {
          "output_type": "stream",
          "name": "stdout",
          "text": [
            "Fi..\n",
            "Meta_Human\n"
          ]
        }
      ]
    },
    {
      "cell_type": "code",
      "source": [
        "#Add Dictionary Items:\n",
        "changing = {\n",
        "    'Rui': 'Fish',\n",
        "    'Apurbo': 'Human'\n",
        "}\n",
        "\n",
        "changing['chicken'] = ['Food', 'Tasty']\n",
        "print(changing)\n",
        "changing['chicken'].append('Fried') # changing['chicken'] was = ['Food', 'Tasty']; now it's changed.\n",
        "print(changing)\n",
        "print('--------------------------------------------------------------------------')\n",
        "\n",
        "\n",
        "print(changing.get(1, ['Apurba', 'the', 'great!', 'XD'])) # Will only print the list. Won't add anything in the dict.\n",
        "var = changing.get(1, ['Apurba', 'the', 'great!', 'XD'])\n",
        "print(var) # Prints the same thing.\n",
        "# changing.get(1, ['Apurba', 'the', 'great!', 'XD']) doing this won't add anything in the dict.\n",
        "print(changing)\n",
        "print('--------------------------------------------------------------------------')\n",
        "\n",
        "changing.update({5:'Chill!'})\n",
        "print(changing)"
      ],
      "metadata": {
        "id": "r2z_foxAzxY2",
        "colab": {
          "base_uri": "https://localhost:8080/"
        },
        "outputId": "16d18ad0-56d3-481f-9941-a93575262130"
      },
      "execution_count": null,
      "outputs": [
        {
          "output_type": "stream",
          "name": "stdout",
          "text": [
            "{'Rui': 'Fish', 'Apurbo': 'Human', 'chicken': ['Food', 'Tasty']}\n",
            "{'Rui': 'Fish', 'Apurbo': 'Human', 'chicken': ['Food', 'Tasty', 'Fried']}\n",
            "--------------------------------------------------------------------------\n",
            "['Apurba', 'the', 'great!', 'XD']\n",
            "['Apurba', 'the', 'great!', 'XD']\n",
            "{'Rui': 'Fish', 'Apurbo': 'Human', 'chicken': ['Food', 'Tasty', 'Fried']}\n",
            "--------------------------------------------------------------------------\n",
            "{'Rui': 'Fish', 'Apurbo': 'Human', 'chicken': ['Food', 'Tasty', 'Fried'], 5: 'Chill!'}\n",
            "{1: 2, 3: 4, 5: 6, 7: 8}\n",
            "[(1, 2), (3, 4), (5, 6), (7, 8)]\n",
            "{1: 2, 3: 4, 5: 6, 7: 8}\n"
          ]
        }
      ]
    },
    {
      "cell_type": "code",
      "source": [
        "# Add 2 dictionaries:\n",
        "li1 = {1: 2, 3: 4}\n",
        "li2 = {5: 6, 7: 8}\n",
        "li1.update(li2)\n",
        "print(li1)\n",
        "\n",
        "#Another way:\n",
        "li1 = {1: 2, 3: 4}\n",
        "li2 = {5: 6, 7: 8}\n",
        "#list_1 = li1.items() + li2.items() #TypeError: unsupported operand type(s) for +: 'dict_items' and 'dict_items'\n",
        "list_1 = list(li1.items()) + list(li2.items())\n",
        "print(list_1)\n",
        "dict_1 = dict(list_1)\n",
        "print(dict_1)\n",
        "print('--------------------------------------------------------------------------')\n",
        "\n",
        "# Now, know the basics:\n",
        "#Adding strings work:\n",
        "str_1 = 'abc'\n",
        "str_2 = 'def'\n",
        "str_3 = 'ghi'\n",
        "str_1 += str_2 + str_3\n",
        "print(str_1)\n",
        "\n",
        "# Adding lists work:\n",
        "list_1 = [1, 2, 3]\n",
        "list_2 = [4, 5, 6]\n",
        "list_3 = [7, 8, 9]\n",
        "list_1 += list_2 + list_3\n",
        "print(list_1)\n",
        "\n",
        "# Adding tuples work:\n",
        "tuple_1 = (1, 2, 3)\n",
        "tuple_2 = (4, 5, 6)\n",
        "tuple_3 = (7, 8, 9)\n",
        "tuple_1 += tuple_2 + tuple_3\n",
        "print(tuple_1)\n",
        "\n",
        "# But adding sets:\n",
        "set_1 = {1, 2, 3}\n",
        "set_2 = {4, 5, 6}\n",
        "set_3 = {7, 8, 9}\n",
        "#set_1 += set_2 + set_3 # TypeError\n",
        "\n",
        "# The correct way to add sets:\n",
        "set_1 = set_1.union(set_2, set_3)\n",
        "print(set_1)\n",
        "print('--------------------------------------------------------------------------')\n",
        "\n",
        "# But using + operator for dictionaries:\n",
        "dict_1 = {1: 2, 3: 4}\n",
        "dict_2 = {5: 6, 7: 8}\n",
        "#dict_1 += dict_2 # TypeError: unsupported operand type(s) for +=: 'dict' and 'dict'\n",
        "\n",
        "# Want to add the keys from dictionaries like a list:\n",
        "#list_1 = dict_1.keys() + dict_2.keys() # TypeError: unsupported operand type(s) for +: 'dict_keys' and 'dict_keys'\n",
        "list_1 = list(dict_1.keys()) + list(dict_2.keys())\n",
        "print(list_1)\n",
        "\n",
        "# for the values:\n",
        "#list_1 = dict_1.values() + dict_2.values() # TypeError: unsupported operand type(s) for +: 'dict_values' and 'dict_values'\n",
        "list_1 = list(dict_1.values()) + list(dict_2.values())\n",
        "print(list_1)"
      ],
      "metadata": {
        "colab": {
          "base_uri": "https://localhost:8080/"
        },
        "id": "mx0JIGz_Fhi-",
        "outputId": "e8e23d61-d027-4379-ade4-90c7dff53445"
      },
      "execution_count": null,
      "outputs": [
        {
          "output_type": "stream",
          "name": "stdout",
          "text": [
            "{1: 2, 3: 4, 5: 6, 7: 8}\n",
            "[(1, 2), (3, 4), (5, 6), (7, 8)]\n",
            "{1: 2, 3: 4, 5: 6, 7: 8}\n",
            "--------------------------------------------------------------------------\n",
            "abcdefghi\n",
            "[1, 2, 3, 4, 5, 6, 7, 8, 9]\n",
            "(1, 2, 3, 4, 5, 6, 7, 8, 9)\n",
            "{1, 2, 3, 4, 5, 6, 7, 8, 9}\n",
            "--------------------------------------------------------------------------\n",
            "[1, 3, 5, 7]\n",
            "[2, 4, 6, 8]\n"
          ]
        }
      ]
    },
    {
      "cell_type": "code",
      "source": [
        "#Remove Dictionary Items:\n",
        "changing = {\n",
        "    'Rui': 'Fish',\n",
        "    'Apurbo': 'Human',\n",
        "    5: 'Chill!',\n",
        "    'chicken': ['Food', 'Tasty', 'Fried'],\n",
        "    6: {'a', 'b', 'c'}\n",
        "}\n",
        "changing.pop(5)\n",
        "print(changing)\n",
        "#you need atleast one argument for using pop in dictionaries. changing.pop() shows error. changing.pop(0,1) is okay to use. It can take more than one argument.\n",
        "print('--------------------------------------------------------------------------')\n",
        "\n",
        "changing.popitem()\n",
        "print(changing) # The popitem() method removes the last item.\n",
        "var2 = changing.popitem() # var2 = last item in a tuple.\n",
        "print(var2)\n",
        "print('--------------------------------------------------------------------------')\n",
        "# del keyword can also delete the dictionary completely: #del changing\n",
        "\n",
        "print(changing)\n",
        "changing.clear() # The clear() method empties the dictionary.\n",
        "print(changing)"
      ],
      "metadata": {
        "id": "eDu9Qq8nz5Um",
        "colab": {
          "base_uri": "https://localhost:8080/"
        },
        "outputId": "20128079-81e2-405d-b8da-e65263db14f9"
      },
      "execution_count": null,
      "outputs": [
        {
          "output_type": "stream",
          "name": "stdout",
          "text": [
            "{'Rui': 'Fish', 'Apurbo': 'Human', 'chicken': ['Food', 'Tasty', 'Fried'], 6: {'a', 'b', 'c'}}\n",
            "--------------------------------------------------------------------------\n",
            "{'Rui': 'Fish', 'Apurbo': 'Human', 'chicken': ['Food', 'Tasty', 'Fried']}\n",
            "('chicken', ['Food', 'Tasty', 'Fried'])\n",
            "--------------------------------------------------------------------------\n",
            "{'Rui': 'Fish', 'Apurbo': 'Human'}\n",
            "{}\n"
          ]
        }
      ]
    },
    {
      "cell_type": "code",
      "source": [
        "#Loop Dictionaries:\n",
        "types = {\n",
        "    1: True,\n",
        "    False: 0,\n",
        "    \"C\": 10,\n",
        "    'D': 'Dad',\n",
        "    ('tuple', 1): [100, 0, {1, 2}, ('a', 'b')],\n",
        "\n",
        "}\n",
        "\n",
        "for x in types:\n",
        "    print(x, end = ' ') # Only loops keys.\n",
        "print()\n",
        "\n",
        "for x in types.keys():\n",
        "    print(x, end = ' ')\n",
        "else:\n",
        "  print('same')\n",
        "\n",
        "for x in types:\n",
        "    print(types[x], end = ' ') # Only loops values.\n",
        "print()\n",
        "\n",
        "for x in types.values():\n",
        "    print(x, end = ' ')\n",
        "else:\n",
        "  print('same')\n",
        "print('--------------------------------------------------------------------------')\n",
        "for x, y in types.items():\n",
        "    print(x, '=', y) # Loops both keys and values.\n",
        "print('--------------------------------------------------------------------------')\n",
        "\n",
        "#Remove items using for loop:\n",
        "for x in types.copy(): # Don't use for x in types\n",
        "    if x == 'D':\n",
        "        types.pop(x)\n",
        "print(types)\n",
        "\n",
        "# you can also use dict(types) for removing:\n",
        "for x in dict(types):\n",
        "    if type(x) == tuple:\n",
        "        types.pop(x)\n",
        "print(types)\n",
        "\n",
        "# you cannot use .keys() or .values() or .items for this:\n",
        "#for x in types.keys(): #RuntimeError: dictionary changed size during iteration\n",
        "\n",
        "#for x in types.values(): #RuntimeError: dictionary changed size during iteration\n",
        "\n",
        "#for x, y in types.items(): #RuntimeError: dictionary changed size during iteration\n",
        "\n",
        "# A way to use .keys() or .values() or .items is making a list:\n",
        "for x, y in list(types.items()):\n",
        "    if type(x) == bool:\n",
        "        types.pop(x)\n",
        "print(types)"
      ],
      "metadata": {
        "id": "DunwCSID0N8o",
        "colab": {
          "base_uri": "https://localhost:8080/"
        },
        "outputId": "8a87d279-624b-4363-c8d0-2ad5ad3ce181"
      },
      "execution_count": null,
      "outputs": [
        {
          "output_type": "stream",
          "name": "stdout",
          "text": [
            "1 False C D ('tuple', 1) \n",
            "1 False C D ('tuple', 1) same\n",
            "True 0 10 Dad [100, 0, {1, 2}, ('a', 'b')] \n",
            "True 0 10 Dad [100, 0, {1, 2}, ('a', 'b')] same\n",
            "--------------------------------------------------------------------------\n",
            "1 = True\n",
            "False = 0\n",
            "C = 10\n",
            "D = Dad\n",
            "('tuple', 1) = [100, 0, {1, 2}, ('a', 'b')]\n",
            "--------------------------------------------------------------------------\n",
            "{1: True, False: 0, 'C': 10, ('tuple', 1): [100, 0, {1, 2}, ('a', 'b')]}\n",
            "{1: True, False: 0, 'C': 10}\n",
            "{1: True, 'C': 10}\n"
          ]
        }
      ]
    },
    {
      "cell_type": "code",
      "source": [
        "#Copy Dictionaries:\n",
        "'''You should not copy a dictionary like: dict2 = dict1,\n",
        "   here: dict2 will only be a reference to dict1,\n",
        "   and changes made in dict2 will automatically also be made in dict1.'''\n",
        "wrong = {1: [4, 3, 'A'],\n",
        "    True: ('abc', ''), # 1 = True; so, the latter one is taken.\n",
        "    False: {'G', 'V'} # 0 = False\n",
        "}\n",
        "\n",
        "right = wrong.copy()\n",
        "print(right[0])\n",
        "\n",
        "#Another way of copying:\n",
        "copy = dict(right)\n",
        "print(copy)"
      ],
      "metadata": {
        "id": "udggbi5A0cAJ",
        "colab": {
          "base_uri": "https://localhost:8080/"
        },
        "outputId": "d84c8a7d-0e10-4f95-9d40-81429390744c"
      },
      "execution_count": null,
      "outputs": [
        {
          "output_type": "stream",
          "name": "stdout",
          "text": [
            "{'V', 'G'}\n",
            "{1: ('abc', ''), False: {'V', 'G'}}\n"
          ]
        }
      ]
    },
    {
      "cell_type": "code",
      "source": [
        "#Nested dictionaries:\n",
        "numbers = {\n",
        "    'num1': {\n",
        "        'a': \"10\",\n",
        "        'b': '11',\n",
        "        'c': '12'\n",
        "    },\n",
        "\n",
        "    'num2': {\n",
        "        'd': 10,\n",
        "        'e': 11,\n",
        "        'f': 12\n",
        "    },\n",
        "\n",
        "    'num3' : {\n",
        "        'g': 100,\n",
        "        'h': 101,\n",
        "        'i': 102\n",
        "    }\n",
        "}\n",
        "\n",
        "print('Now I want \"a\":', numbers['num1']['a'])\n",
        "\n",
        "# Use this way if you don't want to make a nested dictionary:\n",
        "num4 = {\n",
        "    'ab': \"10\",\n",
        "    'bc': '11',\n",
        "    'ca': '12'\n",
        "}\n",
        "\n",
        "num5 = {\n",
        "    'da': 10,\n",
        "    'eb': 11,\n",
        "    'fc': 12\n",
        "}\n",
        "\n",
        "num6 = {\n",
        "    'ga': 100,\n",
        "    'hb': 101,\n",
        "    'ic': 102\n",
        "}\n",
        "\n",
        "mynumbers = {\n",
        "    'num4': num4,\n",
        "    'num5': num5,\n",
        "    'num6': num6  # Don't forget to keep the variables at the right side.\n",
        "}\n",
        "\n",
        "print(mynumbers['num6']['ga']) # Now it'll print exactly like a nested dictionary."
      ],
      "metadata": {
        "id": "DOblL3kV0nzE",
        "colab": {
          "base_uri": "https://localhost:8080/"
        },
        "outputId": "6444bd6f-6e84-4518-b113-a77a53cb8de2"
      },
      "execution_count": null,
      "outputs": [
        {
          "output_type": "stream",
          "name": "stdout",
          "text": [
            "Now I want \"a\": 10\n",
            "100\n"
          ]
        }
      ]
    }
  ]
}