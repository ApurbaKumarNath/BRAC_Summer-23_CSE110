{
  "nbformat": 4,
  "nbformat_minor": 0,
  "metadata": {
    "colab": {
      "provenance": [],
      "authorship_tag": "ABX9TyNkrfcvXWTWdtlTx9U/gdna",
      "include_colab_link": true
    },
    "kernelspec": {
      "name": "python3",
      "display_name": "Python 3"
    },
    "language_info": {
      "name": "python"
    }
  },
  "cells": [
    {
      "cell_type": "markdown",
      "metadata": {
        "id": "view-in-github",
        "colab_type": "text"
      },
      "source": [
        "<a href=\"https://colab.research.google.com/github/ApurbaKumarNath/python-oop/blob/main/Python%2BOOP%20(Notes%20and%20University%20Assignments)/All%20conceptual%20notes%20(Basic%20%2B%20OOP)/3_If_Else_Elif.ipynb\" target=\"_parent\"><img src=\"https://colab.research.google.com/assets/colab-badge.svg\" alt=\"Open In Colab\"/></a>"
      ]
    },
    {
      "cell_type": "code",
      "source": [
        "if True:\n",
        "  print('Code will run.')\n",
        "if False:\n",
        "  print('Code will not run.')\n",
        "else:\n",
        "  print('Code is now running because of (if False).')\n",
        "\n",
        "if type(5) == int:\n",
        "  print('haha')\n",
        "\n",
        "if type(str) == type:\n",
        "  print('Wow')\n",
        "\n",
        "if type(list()) == list:\n",
        "  print('Damn! this also works.')\n",
        "\n",
        "if list() == []:\n",
        "  print('You know this works.')"
      ],
      "metadata": {
        "colab": {
          "base_uri": "https://localhost:8080/"
        },
        "id": "oEpvIaN-_e6y",
        "outputId": "3914b780-dcb4-4a92-b7a8-36f2562f3b9a"
      },
      "execution_count": null,
      "outputs": [
        {
          "output_type": "stream",
          "name": "stdout",
          "text": [
            "Code will run.\n",
            "Code is now running because of (if False).\n",
            "haha\n",
            "Wow\n",
            "Damn! this also works.\n",
            "You know this works.\n"
          ]
        }
      ]
    },
    {
      "cell_type": "code",
      "source": [
        "if 33 <= 32:\n",
        "    print('You are a fool.')\n",
        "elif 33 != 32:   # The elif keyword is Python's way of saying \"if the previous conditions were not true, then try this condition\".\n",
        "    print(\"You are right.\")\n",
        "else:\n",
        "    print('This will not even be printed.')\n",
        "print('-------------------------------------------------------------------------')\n",
        "\n",
        "x = 30\n",
        "if 0 > -x < 5: # 0 > x and x < 5\n",
        "  print(x)\n",
        "if 0 < x > 5:\n",
        "  print(x)"
      ],
      "metadata": {
        "colab": {
          "base_uri": "https://localhost:8080/"
        },
        "id": "5SX1_WLncERy",
        "outputId": "3f43e31e-58e4-49cc-f5a0-9cf5b429009a"
      },
      "execution_count": 2,
      "outputs": [
        {
          "output_type": "stream",
          "name": "stdout",
          "text": [
            "You are right.\n",
            "-------------------------------------------------------------------------\n",
            "30\n",
            "30\n"
          ]
        }
      ]
    },
    {
      "cell_type": "code",
      "source": [
        "# Short hand if-else:\n",
        "if 1<=2: print(\"One line code.\")\n",
        "\n",
        "print(\"Right!\") if 3 == 30-27 else print('Oops!') # This technique is known as Ternary Operators, or Conditional Expressions.\n",
        "\n",
        "# If you want to use elif in one line, you have write it this way:\n",
        "print(404) if 1 == 100 else print('OK') if 3==3 else print('Wrong!') # You can't write elif here. Only use else."
      ],
      "metadata": {
        "colab": {
          "base_uri": "https://localhost:8080/"
        },
        "id": "sDdKptcScToX",
        "outputId": "c21e199f-845c-4c1c-cb3b-1fcc24cf56a3"
      },
      "execution_count": null,
      "outputs": [
        {
          "output_type": "stream",
          "name": "stdout",
          "text": [
            "One line code.\n",
            "Right!\n",
            "OK\n"
          ]
        }
      ]
    },
    {
      "cell_type": "code",
      "source": [
        "# And Or Not logical operators.\n",
        "if 33<34 and 44>12:\n",
        "    print(\"Both conditions need to be true.\") # And keyword.\n",
        "\n",
        "if 1<2 or 2<1:\n",
        "    print('Only one condition needs to be true.') # Or keyword.\n",
        "\n",
        "if not 1>12:\n",
        "    print(\"It reversed the statement.\") # Not keyword."
      ],
      "metadata": {
        "colab": {
          "base_uri": "https://localhost:8080/"
        },
        "id": "zWume8RxcYn-",
        "outputId": "fd0744cc-5ee8-4a46-a783-80aa74c5a10f"
      },
      "execution_count": null,
      "outputs": [
        {
          "output_type": "stream",
          "name": "stdout",
          "text": [
            "Both conditions need to be true.\n",
            "Only one condition needs to be true.\n",
            "It reversed the statement.\n"
          ]
        }
      ]
    },
    {
      "cell_type": "code",
      "source": [
        "# Nested If:\n",
        "x = 15\n",
        "if x>10:\n",
        "    print('X is above 10', end=\" \")\n",
        "    if x> 14:\n",
        "        print('and 14.')\n",
        "else:\n",
        "    print(\"Nothing.\")"
      ],
      "metadata": {
        "colab": {
          "base_uri": "https://localhost:8080/"
        },
        "id": "DHxfRm6_cb-O",
        "outputId": "fd0c3beb-c002-4e7d-e370-4d6d24eeed45"
      },
      "execution_count": null,
      "outputs": [
        {
          "output_type": "stream",
          "name": "stdout",
          "text": [
            "X is above 10 and 14.\n"
          ]
        }
      ]
    },
    {
      "cell_type": "code",
      "source": [
        "# The pass statement:\n",
        "if 1>2:\n",
        "    pass\n",
        "\n",
        "# How pass statement actually works:\n",
        "if 2<3:\n",
        "    pass\n",
        "elif 3<55:\n",
        "    print('c')\n",
        "else:\n",
        "    print('r')\n",
        "# Guess what it'll do. It'll ignore elif and else. Nothing will be printed."
      ],
      "metadata": {
        "id": "9qG6nPK6chme"
      },
      "execution_count": null,
      "outputs": []
    }
  ]
}