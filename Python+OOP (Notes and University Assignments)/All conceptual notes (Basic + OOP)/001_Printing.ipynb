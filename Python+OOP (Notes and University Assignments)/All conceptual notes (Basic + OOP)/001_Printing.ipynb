{
  "nbformat": 4,
  "nbformat_minor": 0,
  "metadata": {
    "colab": {
      "provenance": [],
      "authorship_tag": "ABX9TyNLNQwtk5UjdQwItXf75jX/",
      "include_colab_link": true
    },
    "kernelspec": {
      "name": "python3",
      "display_name": "Python 3"
    },
    "language_info": {
      "name": "python"
    }
  },
  "cells": [
    {
      "cell_type": "markdown",
      "metadata": {
        "id": "view-in-github",
        "colab_type": "text"
      },
      "source": [
        "<a href=\"https://colab.research.google.com/github/ApurbaKumarNath/python-oop/blob/main/Python%2BOOP%20(Notes%20and%20University%20Assignments)/All%20conceptual%20notes%20(Basic%20%2B%20OOP)/001_Printing.ipynb\" target=\"_parent\"><img src=\"https://colab.research.google.com/assets/colab-badge.svg\" alt=\"Open In Colab\"/></a>"
      ]
    },
    {
      "cell_type": "code",
      "execution_count": null,
      "metadata": {
        "colab": {
          "base_uri": "https://localhost:8080/"
        },
        "id": "oASMM-5o61O5",
        "outputId": "3494681b-ebe4-4f12-c689-158cc8538a6d"
      },
      "outputs": [
        {
          "output_type": "stream",
          "name": "stdout",
          "text": [
            "My first code is \"great\" and 'amazing'!\n",
            "And this is my second printing line.\n"
          ]
        }
      ],
      "source": [
        "# This is a comment\n",
        "'''This is a multi-line string'''\n",
        "print(\"My first code\", 'is \"great\"' + ''' and 'amazing'!'''); print('And this is my second printing line.')"
      ]
    },
    {
      "cell_type": "code",
      "source": [
        "# Check out escape characters - https://www.w3schools.com/python/gloss_python_escape_characters.asp\n",
        "\n",
        "print('\\'Quotation after a \\(forward-slash sign) is considered as a normal character.\\' ')\n",
        "\n",
        "print('\\n\\ is the escape character.\\nAnd it has various uses.\\tLike this: \\\\n and \\\\t')\n",
        "\n",
        "print('Hello\\\n",
        "      \\nWorld')"
      ],
      "metadata": {
        "colab": {
          "base_uri": "https://localhost:8080/"
        },
        "id": "Zpurv4NH8yQG",
        "outputId": "661a8d3f-9ea7-4ab9-ff64-3f79840d1543"
      },
      "execution_count": null,
      "outputs": [
        {
          "output_type": "stream",
          "name": "stdout",
          "text": [
            "'Quotation after a \\(forward-slash sign) is considered as a normal character.' \n",
            "\n",
            "\\ is the escape character.\n",
            "And it has various uses.\tLike this: \\n and \\t\n",
            "Hello      \n",
            "World\n"
          ]
        }
      ]
    },
    {
      "cell_type": "code",
      "source": [
        "print(\"Next line will come after a tab.\", end=\" \\t\")\n",
        "print('Next line will come with a new line.')\n",
        "print('Here is the new line.')"
      ],
      "metadata": {
        "colab": {
          "base_uri": "https://localhost:8080/"
        },
        "id": "SkJocamm-pYs",
        "outputId": "1f39d2eb-e8c8-43db-fc08-38976b82bce0"
      },
      "execution_count": null,
      "outputs": [
        {
          "output_type": "stream",
          "name": "stdout",
          "text": [
            "Next line will come after a tab. \tNext line will come with a new line.\n",
            "Here is the new line.\n"
          ]
        }
      ]
    },
    {
      "cell_type": "code",
      "source": [
        "# sep defines the use of commas.\n",
        "print('I ', ' a boy, and I ', ' great!', sep = 'am')"
      ],
      "metadata": {
        "colab": {
          "base_uri": "https://localhost:8080/"
        },
        "id": "v5f-6Pd2ArU3",
        "outputId": "ce92b2a3-cb9d-4333-8415-6c0ea3daadf1"
      },
      "execution_count": null,
      "outputs": [
        {
          "output_type": "stream",
          "name": "stdout",
          "text": [
            "I am a boy, and I am great!\n"
          ]
        }
      ]
    },
    {
      "cell_type": "code",
      "source": [
        "# f-string\n",
        "a = 'Like'\n",
        "b = f'This has many uses. {a} this:\\nSee! a new line can be created in f-string variable.'\n",
        "print(b, '\\nWhich can also be done just by the usual way.')\n",
        "c = 'Printing new line.\\nWithout f-string.'\n",
        "print(c)\n",
        "a = 1\n",
        "b = 2\n",
        "print('This is a similar type of formatting: {} + {}'.format(a, b))"
      ],
      "metadata": {
        "colab": {
          "base_uri": "https://localhost:8080/"
        },
        "id": "r_-8Nb5tBbe5",
        "outputId": "a433e53b-e70f-460d-ad21-4200efe0b9a9"
      },
      "execution_count": null,
      "outputs": [
        {
          "output_type": "stream",
          "name": "stdout",
          "text": [
            "This has many uses. Like this:\n",
            "See! a new line can be created in f-string variable. \n",
            "Which can also be done just by the usual way.\n",
            "Printing new line.\n",
            "Without f-string.\n",
            "This is a similar type of formatting: 1 + 2\n"
          ]
        }
      ]
    },
    {
      "cell_type": "code",
      "source": [
        "# r-string\n",
        "# If you wanna show \\n or \\t, use raw string literal = r\"\".\n",
        "# Here backslashes \\ are treated as literal characters instead of having special meaning as escape characters.\n",
        "# {} don't work like they do in f\"\".\n",
        "print(r\"C:\\Users\\John\\Documents\\file.txt and \\n \\t {M} m[0]\")"
      ],
      "metadata": {
        "colab": {
          "base_uri": "https://localhost:8080/"
        },
        "id": "uwzV0OU-C4sK",
        "outputId": "911303a0-1b77-4ea5-f6a8-07c079cf472a"
      },
      "execution_count": null,
      "outputs": [
        {
          "output_type": "stream",
          "name": "stdout",
          "text": [
            "C:\\Users\\John\\Documents\\file.txt and \\n \\t {M} m[0]\n"
          ]
        }
      ]
    },
    {
      "cell_type": "code",
      "source": [
        "help(print)"
      ],
      "metadata": {
        "colab": {
          "base_uri": "https://localhost:8080/"
        },
        "id": "L4FYgeQSEJAi",
        "outputId": "d28a0180-683d-4157-912b-e51ce18ba566"
      },
      "execution_count": null,
      "outputs": [
        {
          "output_type": "stream",
          "name": "stdout",
          "text": [
            "Help on built-in function print in module builtins:\n",
            "\n",
            "print(...)\n",
            "    print(value, ..., sep=' ', end='\\n', file=sys.stdout, flush=False)\n",
            "    \n",
            "    Prints the values to a stream, or to sys.stdout by default.\n",
            "    Optional keyword arguments:\n",
            "    file:  a file-like object (stream); defaults to the current sys.stdout.\n",
            "    sep:   string inserted between values, default a space.\n",
            "    end:   string appended after the last value, default a newline.\n",
            "    flush: whether to forcibly flush the stream.\n",
            "\n"
          ]
        }
      ]
    },
    {
      "cell_type": "code",
      "source": [
        "print(\"\"\"\n",
        "##             #############     ###     ########    ##           ##            ##############     #######                   ######     #######     ## ##       #############\n",
        "##             ##              ##   ##   ##    ##    ## ##        ##                  ##         ##       ##               ##         ##       ##   ##    ##    ##\n",
        "##             ##             ##     ##  ##    ##    ##   ##      ##                  ##        ##         ##            ##          ##         ##  ##      ##  ##\n",
        "##             ########       #########  ##   ##     ##     ##    ##                  ##        ##         ##            ##          ##         ##  ##      ##  ########\n",
        "##             ##             ##     ##  ##    ##    ##       ##  ##                  ##        ##         ##            ##          ##         ##  ##      ##  ##\n",
        "##             ##             ##     ##  ##     ##   ##         ## #                  ##         ##       ##               ##         ##       ##   ##    ##    ##\n",
        "#############  #############  ##     ##  ##      ##  ##           ##                  ##           #######                   ######     #######     ## ##       #############\n",
        "\"\"\")"
      ],
      "metadata": {
        "colab": {
          "base_uri": "https://localhost:8080/"
        },
        "id": "yTk73E-qEMBo",
        "outputId": "49433e26-0fc4-4610-adb1-599d54c22ab4"
      },
      "execution_count": null,
      "outputs": [
        {
          "output_type": "stream",
          "name": "stdout",
          "text": [
            "\n",
            "##             #############     ###     ########    ##           ##            ##############     #######                   ######     #######     ## ##       #############\n",
            "##             ##              ##   ##   ##    ##    ## ##        ##                  ##         ##       ##               ##         ##       ##   ##    ##    ##\n",
            "##             ##             ##     ##  ##    ##    ##   ##      ##                  ##        ##         ##            ##          ##         ##  ##      ##  ##\n",
            "##             ########       #########  ##   ##     ##     ##    ##                  ##        ##         ##            ##          ##         ##  ##      ##  ########\n",
            "##             ##             ##     ##  ##    ##    ##       ##  ##                  ##        ##         ##            ##          ##         ##  ##      ##  ##\n",
            "##             ##             ##     ##  ##     ##   ##         ## #                  ##         ##       ##               ##         ##       ##   ##    ##    ##\n",
            "#############  #############  ##     ##  ##      ##  ##           ##                  ##           #######                   ######     #######     ## ##       #############\n",
            "\n"
          ]
        }
      ]
    }
  ]
}