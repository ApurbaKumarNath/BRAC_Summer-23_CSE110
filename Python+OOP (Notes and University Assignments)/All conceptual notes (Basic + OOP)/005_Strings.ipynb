{
  "nbformat": 4,
  "nbformat_minor": 0,
  "metadata": {
    "colab": {
      "provenance": [],
      "authorship_tag": "ABX9TyPnwBn6UFqQGDhRIVz+2/NW",
      "include_colab_link": true
    },
    "kernelspec": {
      "name": "python3",
      "display_name": "Python 3"
    },
    "language_info": {
      "name": "python"
    }
  },
  "cells": [
    {
      "cell_type": "markdown",
      "metadata": {
        "id": "view-in-github",
        "colab_type": "text"
      },
      "source": [
        "<a href=\"https://colab.research.google.com/github/ApurbaKumarNath/python-oop/blob/main/Python%2BOOP%20(Notes%20and%20University%20Assignments)/All%20conceptual%20notes%20(Basic%20%2B%20OOP)/005_Strings.ipynb\" target=\"_parent\"><img src=\"https://colab.research.google.com/assets/colab-badge.svg\" alt=\"Open In Colab\"/></a>"
      ]
    },
    {
      "cell_type": "code",
      "execution_count": 1,
      "metadata": {
        "colab": {
          "base_uri": "https://localhost:8080/"
        },
        "id": "-ug1rXX9F57A",
        "outputId": "e150e01b-ab52-4b73-a9e7-ecfaac1edc38"
      },
      "outputs": [
        {
          "output_type": "stream",
          "name": "stdout",
          "text": [
            "124\n",
            "0, 1\n",
            "yes\n",
            "no\n",
            "no\n",
            "no\n"
          ]
        }
      ],
      "source": [
        "x= ''' Apurbo likes to go around.\n",
        "He is used to studying, and he sometimes wants to die.\n",
        "Sometimes he feels really bored of life. '''\n",
        "\n",
        "print(len(x)) # This shows the length of the text.\n",
        "\n",
        "# turning a list into a str:\n",
        "print(str([0, 1])[1:-1])\n",
        "\n",
        "ff = '[1, 2]'\n",
        "f0 = ''\n",
        "\n",
        "if ff:\n",
        "  print('yes')\n",
        "else:\n",
        "  print('no')\n",
        "\n",
        "if f0:\n",
        "  print('yes')\n",
        "else:\n",
        "  print('no')\n",
        "\n",
        "if len(f0) > 0:\n",
        "  print('yes')\n",
        "else:\n",
        "  print('no')\n",
        "\n",
        "for i in f0:\n",
        "  print(i)\n",
        "else:\n",
        "  print('no')"
      ]
    },
    {
      "cell_type": "markdown",
      "source": [
        "**`Learn slicing:`**\n",
        "\n",
        "```\n",
        "Indexing with strings:\n",
        "\n",
        "In Strings,\n",
        "\n",
        "0 1 2 3 4 5 6\n",
        "\n",
        "S t r i n g s\n",
        "\n",
        "Here, if you use x[1 : 3], python always skips the last index (here, 3rd). So, it prints: tr\n",
        "```\n",
        "\n",
        "```\n",
        "Now, if you use minus( - ), it counts backwards like this:\n",
        "\n",
        "-1 -2 -3 -4 -5 -6 -7\n",
        "\n",
        " s  g  n  i  r  t  S\n",
        "```\n",
        "\n",
        "```\n",
        "If you don't input a value and keep it like this: x[ : : ], by default it'll count left to right like this:\n",
        "\n",
        "x[ 0 : last number (excluded) : 1]\n",
        "\n",
        "x[ Start(Inclusive) : End (Exclusive) : Step ] ==> this is the formula.\n",
        "```\n",
        "\n",
        "```\n",
        "And if it is x[ : : -1], it'll count from right to left.\n",
        "\n",
        "So, x[ 6 : 4 ] won't show a value (won't show error) because it counts from left to right.\n",
        "Here, it cannot go 6 to 4 (forward). (Common sense).\n",
        "\n",
        "But x[ 6 : 4 : -1 ] means going (backwards); now it counts from right to left.\n",
        "```\n",
        "\n",
        "```\n",
        "If you use x[ : : 2 ], it'll count from left to right and take every 2nd element.\n",
        "\n",
        "x[ : : -3 ] means it'll count from right and take every 3rd element.\n",
        "```"
      ],
      "metadata": {
        "id": "EgupaOMtV5Uo"
      }
    },
    {
      "cell_type": "code",
      "source": [
        "x= ''' Apurbo likes to go around.\n",
        "He is used to studying, and he sometimes wants to die.\n",
        "Sometimes he feels really bored of life. '''\n",
        "\n",
        "print(x[:], '\\n')\n",
        "print(x[::], '\\n')\n",
        "print(x[:6])\n",
        "print(x[-118::-1])\n",
        "print(x[-2:-9:-2])"
      ],
      "metadata": {
        "colab": {
          "base_uri": "https://localhost:8080/"
        },
        "id": "PI_WekMAaS9O",
        "outputId": "7be24106-b529-42bd-f200-7084b2bdcd9d"
      },
      "execution_count": null,
      "outputs": [
        {
          "output_type": "stream",
          "name": "stdout",
          "text": [
            " Apurbo likes to go around.\n",
            "He is used to studying, and he sometimes wants to die.\n",
            "Sometimes he feels really bored of life.  \n",
            "\n",
            " Apurbo likes to go around.\n",
            "He is used to studying, and he sometimes wants to die.\n",
            "Sometimes he feels really bored of life.  \n",
            "\n",
            " Apurb\n",
            "obrupA \n",
            ".flf\n"
          ]
        }
      ]
    },
    {
      "cell_type": "code",
      "source": [
        "# Now see some nice methods: (To check more, see: https://www.w3schools.com/python/python_ref_string.asp )\n",
        "x= ''' Apurbo likes to go around.\n",
        "He is used to studying, and he sometimes wants to die.\n",
        "Sometimes he feels really bored of life. '''\n",
        "\n",
        "print(x.isalnum()) # This checks if the str is alphanumeric(meaning alphabet letter (a-z) and numbers (0-9)) or not.\n",
        "print(x.isalpha()) # This checks if all the characters are alphabet letters (a-z).\n",
        "print(x.endswith('ife.')) # Checks if the str ends with the letters I've given here.\n",
        "print(x.count('a')) # Checks how many 'a's are in the str.\n",
        "print(x.count('')) # Counts how many letters are there, but it adds 1 more to the count. For example: For 'Y', answer is: 2.\n",
        "print(x.capitalize(), '\\n') # This capitalizes only the 1st letter of the text. But I've already capitalized that.\n",
        "print(x.lower(), '\\n') # This will convert the str into lowercase letters.\n",
        "print(x.upper(), '\\n') # This will convert the str into uppercase letters.\n",
        "print(x.find('is')) # This will show where the word 'is' is by showing me the position number of the str.\n",
        "print(x.replace('Apurbo', 'Apurba'))\n",
        "print(x.strip()) # This method removes any whitespace from the beginning or the end.\n",
        "b=x.split('o')\n",
        "print(b) # This method splits the string into substrings if it finds instances of the separator. Here, 'o' is set as a separator, so, it will be removed.\n",
        "print(x.split()) # Here spaces were detected as separators, so, all spaces were removed, and substrings were created.\n",
        "print(len(x.split())) # Now you will be able to see how many words you wrote.\n",
        "print('subscribe'.partition('s'))"
      ],
      "metadata": {
        "colab": {
          "base_uri": "https://localhost:8080/"
        },
        "id": "aUl2wefRaiUq",
        "outputId": "69fd1427-1444-4604-fccf-8f8332b6eac6"
      },
      "execution_count": null,
      "outputs": [
        {
          "output_type": "stream",
          "name": "stdout",
          "text": [
            "False\n",
            "False\n",
            "False\n",
            "4\n",
            "125\n",
            " apurbo likes to go around.\n",
            "he is used to studying, and he sometimes wants to die.\n",
            "sometimes he feels really bored of life.  \n",
            "\n",
            " apurbo likes to go around.\n",
            "he is used to studying, and he sometimes wants to die.\n",
            "sometimes he feels really bored of life.  \n",
            "\n",
            " APURBO LIKES TO GO AROUND.\n",
            "HE IS USED TO STUDYING, AND HE SOMETIMES WANTS TO DIE.\n",
            "SOMETIMES HE FEELS REALLY BORED OF LIFE.  \n",
            "\n",
            "31\n",
            " Apurba likes to go around.\n",
            "He is used to studying, and he sometimes wants to die.\n",
            "Sometimes he feels really bored of life. \n",
            "Apurbo likes to go around.\n",
            "He is used to studying, and he sometimes wants to die.\n",
            "Sometimes he feels really bored of life.\n",
            "[' Apurb', ' likes t', ' g', ' ar', 'und.\\nHe is used t', ' studying, and he s', 'metimes wants t', ' die.\\nS', 'metimes he feels really b', 'red ', 'f life. ']\n",
            "['Apurbo', 'likes', 'to', 'go', 'around.', 'He', 'is', 'used', 'to', 'studying,', 'and', 'he', 'sometimes', 'wants', 'to', 'die.', 'Sometimes', 'he', 'feels', 'really', 'bored', 'of', 'life.']\n",
            "23\n",
            "('', 's', 'ubscribe')\n"
          ]
        }
      ]
    },
    {
      "cell_type": "code",
      "source": [
        "# To check if a certain phrase or character is present in a string, we can use the keyword in:\n",
        "x= ''' Apurbo likes to go around.\n",
        "He is used to studying, and he sometimes wants to die.\n",
        "Sometimes he feels really bored of life. '''\n",
        "\n",
        "print('Apurba' in x)\n",
        "print('Apurbo' in x)\n",
        "print('God' not in x)\n",
        "\n",
        "string = 'Hello'\n",
        "print('' in string)\n",
        "print('---------------------------------------------------')\n",
        "\n",
        "# Now see some if-else functions:\n",
        "if 'life' in x:\n",
        "    print(\"Yes, 'life' is present in the text.\")\n",
        "if 'God' not in x:\n",
        "    print(\"No, 'God' is not present in the text.\")"
      ],
      "metadata": {
        "colab": {
          "base_uri": "https://localhost:8080/"
        },
        "id": "hEXOwAi_b18m",
        "outputId": "969d3fc7-9595-47c2-9d58-6f678f6b394d"
      },
      "execution_count": null,
      "outputs": [
        {
          "output_type": "stream",
          "name": "stdout",
          "text": [
            "False\n",
            "True\n",
            "True\n",
            "True\n",
            "---------------------------------------------------\n",
            "Yes, 'life' is present in the text.\n",
            "No, 'God' is not present in the text.\n"
          ]
        }
      ]
    },
    {
      "cell_type": "code",
      "source": [
        "# Now see some looping functions:\n",
        "for p in 'Rock':\n",
        "    print(p, end = ' ')\n",
        "for y in 'Yo', 'Yeah', 'Boom!':\n",
        "    print(y, end = ' ')\n",
        "for z in '''Nice strings!\n",
        "Very nice!''':\n",
        "    print(z, end = ' ')\n",
        "\n",
        "print()"
      ],
      "metadata": {
        "colab": {
          "base_uri": "https://localhost:8080/"
        },
        "id": "1crjIg9fi_-a",
        "outputId": "14afeae0-f913-42e0-979a-42d69dfbe77e"
      },
      "execution_count": null,
      "outputs": [
        {
          "output_type": "stream",
          "name": "stdout",
          "text": [
            "R o c k Yo Yeah Boom! N i c e   s t r i n g s ! \n",
            " V e r y   n i c e ! \n"
          ]
        }
      ]
    },
    {
      "cell_type": "code",
      "source": [
        "# Now learn the format() method. We can combine strings and numbers by using this method!\n",
        "q= 20\n",
        "print('My age is: {}'.format(q))\n",
        "\n",
        "jsc= 5.00\n",
        "ssc= 4.83\n",
        "hsc= '5.00(Not Golden)'\n",
        "result= \"I achieved gpa {:.2f} in jsc, {} in ssc, and {} in hsc examination.\"\n",
        "print(result.format(jsc, ssc, hsc))\n",
        "\n",
        "price= 2.550\n",
        "pencil_pen= 3\n",
        "rubber= 1\n",
        "r= \"I wanna buy {1} pencils, {2} rubber, and {1} {0:.3f}$ pens.\" # You can use index numbers {0} to be sure the arguments are placed in the correct placeholders.\n",
        "print(r.format(price, pencil_pen, rubber))\n",
        "\n",
        "s= 'My name is {name}; I am {age} years old. My height is {height}.'\n",
        "print(s.format(name= 'Apurba', age=20, height= \"5'7\\\"\"))"
      ],
      "metadata": {
        "colab": {
          "base_uri": "https://localhost:8080/"
        },
        "id": "V1EYueJAjmxI",
        "outputId": "9280b801-fb2f-4794-acd2-7dba8c46ba9e"
      },
      "execution_count": null,
      "outputs": [
        {
          "output_type": "stream",
          "name": "stdout",
          "text": [
            "My age is: 20\n",
            "I achieved gpa 5.00 in jsc, 4.83 in ssc, and 5.00(Not Golden) in hsc examination.\n",
            "I wanna buy 3 pencils, 1 rubber, and 3 2.550$ pens.\n",
            "My name is Apurba; I am 20 years old. My height is 5'7\".\n"
          ]
        }
      ]
    }
  ]
}