{
  "nbformat": 4,
  "nbformat_minor": 0,
  "metadata": {
    "colab": {
      "provenance": [],
      "authorship_tag": "ABX9TyNSKPywAy3xC8S3fm96D4fq",
      "include_colab_link": true
    },
    "kernelspec": {
      "name": "python3",
      "display_name": "Python 3"
    },
    "language_info": {
      "name": "python"
    }
  },
  "cells": [
    {
      "cell_type": "markdown",
      "metadata": {
        "id": "view-in-github",
        "colab_type": "text"
      },
      "source": [
        "<a href=\"https://colab.research.google.com/github/ApurbaKumarNath/python-oop/blob/main/Python%2BOOP%20(Notes%20and%20University%20Assignments)/All%20conceptual%20notes%20(Basic%20%2B%20OOP)/011_Lambda.ipynb\" target=\"_parent\"><img src=\"https://colab.research.google.com/assets/colab-badge.svg\" alt=\"Open In Colab\"/></a>"
      ]
    },
    {
      "cell_type": "code",
      "execution_count": 5,
      "metadata": {
        "colab": {
          "base_uri": "https://localhost:8080/"
        },
        "id": "fb5SfjzcJR4l",
        "outputId": "3caf6baf-eed5-4f92-defa-ed7f2875342f"
      },
      "outputs": [
        {
          "output_type": "stream",
          "name": "stdout",
          "text": [
            "Apurbo Kumar Nath\n",
            "Apurba Kumar Nath\n"
          ]
        }
      ],
      "source": [
        "# A lambda function can take any number of arguments, but can only have one expression.\n",
        "# lambda arguments : expression\n",
        "x1 = lambda a : a + 'Kumar' + \" Nath\"\n",
        "print(x1('Apurbo '))\n",
        "print(x1('Apurba '))\n",
        "# print(x1(10 )) will be wrong here. Because I used + operator in expression."
      ]
    },
    {
      "cell_type": "code",
      "source": [
        "#Lambda functions can take any number of arguments:\n",
        "x2 = lambda a, b : f'({a}+{b})^2 = {a**2 + 2*a*b + b**2}'\n",
        "print(x2(a = int(input()), b = int(input())))"
      ],
      "metadata": {
        "colab": {
          "base_uri": "https://localhost:8080/"
        },
        "id": "1bHgk-FNIV9w",
        "outputId": "0dcec461-3a43-4a34-f2ad-9bad13552d4a"
      },
      "execution_count": 6,
      "outputs": [
        {
          "output_type": "stream",
          "name": "stdout",
          "text": [
            "12\n",
            "1\n",
            "(12+1)^2 = 169\n"
          ]
        }
      ]
    },
    {
      "cell_type": "code",
      "source": [
        "#Using lambda inside another function:\n",
        "def x3(a):\n",
        "  return lambda x: a+x\n",
        "b = x3(10)   # Here b is the function of the lambda, and 10 is the value of a.\n",
        "print(b(11)) # Here 11 is the value of the lambda b."
      ],
      "metadata": {
        "colab": {
          "base_uri": "https://localhost:8080/"
        },
        "id": "bPWfUcuuIYeZ",
        "outputId": "aa35b795-00cd-4c11-e9f6-6b3f8aa98884"
      },
      "execution_count": 7,
      "outputs": [
        {
          "output_type": "stream",
          "name": "stdout",
          "text": [
            "21\n"
          ]
        }
      ]
    },
    {
      "cell_type": "code",
      "source": [
        "#Functions in a function:\n",
        "def x4(a):\n",
        "  return lambda x: a*x\n",
        "\n",
        "b1 = x4(2)\n",
        "b2 = x4(3)\n",
        "\n",
        "print(b1(3))\n",
        "print(b2(2))"
      ],
      "metadata": {
        "colab": {
          "base_uri": "https://localhost:8080/"
        },
        "id": "taxFIooVIanp",
        "outputId": "1a079630-5c7a-4a6a-bac9-321502b6ffa1"
      },
      "execution_count": 8,
      "outputs": [
        {
          "output_type": "stream",
          "name": "stdout",
          "text": [
            "6\n",
            "6\n"
          ]
        }
      ]
    }
  ]
}