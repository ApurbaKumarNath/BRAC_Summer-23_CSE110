{
  "nbformat": 4,
  "nbformat_minor": 0,
  "metadata": {
    "colab": {
      "provenance": [],
      "authorship_tag": "ABX9TyOLhB1FcRGTQyfOpEw61oXr",
      "include_colab_link": true
    },
    "kernelspec": {
      "name": "python3",
      "display_name": "Python 3"
    },
    "language_info": {
      "name": "python"
    }
  },
  "cells": [
    {
      "cell_type": "markdown",
      "metadata": {
        "id": "view-in-github",
        "colab_type": "text"
      },
      "source": [
        "<a href=\"https://colab.research.google.com/github/ApurbaKumarNath/python-oop/blob/main/Python%2BOOP%20(Notes%20and%20University%20Assignments)/All%20conceptual%20notes%20(Basic%20%2B%20OOP)/012_Sorted.ipynb\" target=\"_parent\"><img src=\"https://colab.research.google.com/assets/colab-badge.svg\" alt=\"Open In Colab\"/></a>"
      ]
    },
    {
      "cell_type": "code",
      "execution_count": null,
      "metadata": {
        "colab": {
          "base_uri": "https://localhost:8080/"
        },
        "id": "ukOofHvTjrqE",
        "outputId": "69eb062a-2411-487f-cab3-68558979c2e3"
      },
      "outputs": [
        {
          "output_type": "stream",
          "name": "stdout",
          "text": [
            "['s', 't', 'r', 'i', 'n', 'g']\n",
            "['a', 'b', 'c', 'd']\n",
            "[1]\n"
          ]
        }
      ],
      "source": [
        "print(list('string'))\n",
        "\n",
        "str_to_list_with_sort = 'dabc'\n",
        "print(sorted(str_to_list_with_sort))  # This function converts the string into a list and sorts it letter by letter.\n",
        "\n",
        "# print(sorted(1)) # Only works with iterable objects.\n",
        "print(sorted([1])) # minimum 1 argument is needed for sorted function to work."
      ]
    },
    {
      "cell_type": "code",
      "source": [
        "sorted_num = sorted((1, 3, 2)) # Works with any iterable object, but converts into a list.\n",
        "print(sorted_num)\n",
        "\n",
        "# print(sorted({'Acb', 0, 1, 4, 3})) # TypeError: '<' not supported between instances of 'str' and 'int'\n",
        "print('A' < 'a') # \"A\" is smaller than 'a', and small numbers come first when using sorted.\n",
        "print(sorted({'Acb', 'abc', 'Abc'})) # Priotirizes uppercase letters first."
      ],
      "metadata": {
        "colab": {
          "base_uri": "https://localhost:8080/"
        },
        "id": "xgpMZF79_MXK",
        "outputId": "4655bada-6c80-46ac-8613-003a34e922a7"
      },
      "execution_count": null,
      "outputs": [
        {
          "output_type": "stream",
          "name": "stdout",
          "text": [
            "[1, 2, 3]\n",
            "True\n",
            "['Abc', 'Acb', 'abc']\n"
          ]
        }
      ]
    },
    {
      "cell_type": "code",
      "source": [
        "# parameters are key and reverse\n",
        "dic = {'v': 1, 'a': 2, 'b': 0}\n",
        "print(sorted(dic)) # Only sorts the keys in a dictionary and makes a list with sorted keys.\n",
        "\n",
        "print(sorted(dic, reverse = True))"
      ],
      "metadata": {
        "colab": {
          "base_uri": "https://localhost:8080/"
        },
        "id": "XJCAQvGkA-gO",
        "outputId": "c2d5105b-73a0-42e5-fed6-cc1bac9656f6"
      },
      "execution_count": null,
      "outputs": [
        {
          "output_type": "stream",
          "name": "stdout",
          "text": [
            "['a', 'b', 'v']\n",
            "['v', 'b', 'a']\n"
          ]
        }
      ]
    },
    {
      "cell_type": "code",
      "source": [
        "# Fun code\n",
        "dic = {\"Apurba\": 96, 'Shafin': 100, 'Prachurzo': 50}\n",
        "\n",
        "k = sorted(dic)\n",
        "v = sorted(dic.values(), reverse = True)\n",
        "\n",
        "dic = {}\n",
        "for names, marks in zip(k, v):\n",
        "  dic[names] = marks\n",
        "print(dic)"
      ],
      "metadata": {
        "colab": {
          "base_uri": "https://localhost:8080/"
        },
        "id": "AMwBUqEAEy_m",
        "outputId": "39143e3c-674c-4a36-8e77-44cd26ef9df4"
      },
      "execution_count": null,
      "outputs": [
        {
          "output_type": "stream",
          "name": "stdout",
          "text": [
            "{'Apurba': 100, 'Prachurzo': 96, 'Shafin': 50}\n"
          ]
        }
      ]
    },
    {
      "cell_type": "code",
      "source": [
        "dic = {'c': 34, 'b': 'Hello', \"a\": {0,1}}\n",
        "d = {}\n",
        "for key in sorted(dic):\n",
        "  d[key] = dic[key]\n",
        "print(d)"
      ],
      "metadata": {
        "colab": {
          "base_uri": "https://localhost:8080/"
        },
        "id": "WhBbAD6aHEHU",
        "outputId": "5a91efe2-3752-4e53-b7ec-97c310710f4e"
      },
      "execution_count": null,
      "outputs": [
        {
          "output_type": "stream",
          "name": "stdout",
          "text": [
            "{'a': {0, 1}, 'b': 'Hello', 'c': 34}\n"
          ]
        }
      ]
    },
    {
      "cell_type": "code",
      "source": [
        "#sort() method for a list\n",
        "li = [99, 88, 11]\n",
        "lis = li.sort() # This method returns None\n",
        "print(lis, li)"
      ],
      "metadata": {
        "colab": {
          "base_uri": "https://localhost:8080/"
        },
        "id": "qNgWnOnxLY6H",
        "outputId": "a5337874-4c72-42fb-fba8-c1c674335262"
      },
      "execution_count": null,
      "outputs": [
        {
          "output_type": "stream",
          "name": "stdout",
          "text": [
            "None [11, 88, 99]\n"
          ]
        }
      ]
    },
    {
      "cell_type": "code",
      "source": [
        "def selection_sort(arr, reverse = False): #arr = array\n",
        "  arr = list(arr)\n",
        "  if reverse == False:\n",
        "    for i in range(len(arr)):\n",
        "      min = arr[i]\n",
        "      min_idx = i\n",
        "\n",
        "      for j in range(i + 1, len(arr)):\n",
        "        if arr[j] < min:\n",
        "          min = arr[j]\n",
        "          min_idx = j\n",
        "      # arr[i], arr[min_idx] = min, arr[i]\n",
        "      temp = arr[i]\n",
        "      arr[i] = min\n",
        "      arr[min_idx] = temp\n",
        "  else:\n",
        "    for x in range(len(arr)):\n",
        "      max = arr[x]\n",
        "      max_idx = x\n",
        "\n",
        "      for y in range(x + 1, len(arr)):\n",
        "        if arr[y] > max:\n",
        "          max = arr[y]\n",
        "          max_idx = y\n",
        "      temp = arr[x]\n",
        "      arr[x] = max\n",
        "      arr[max_idx] = temp\n",
        "  return arr\n",
        "sett = {2,1}\n",
        "sett_sorted = selection_sort(sett)\n",
        "print(sett_sorted)"
      ],
      "metadata": {
        "colab": {
          "base_uri": "https://localhost:8080/"
        },
        "id": "EYAGkmY-R-29",
        "outputId": "861fc83e-7d4c-422e-c1f9-f2eb9e1c369f"
      },
      "execution_count": null,
      "outputs": [
        {
          "output_type": "stream",
          "name": "stdout",
          "text": [
            "[1, 2]\n"
          ]
        }
      ]
    },
    {
      "cell_type": "code",
      "source": [
        "# Bubble sort in Python\n",
        "\n",
        "def bubbleSort(array):\n",
        "\n",
        "  # loop to access each array element\n",
        "  for i in range(len(array)):\n",
        "\n",
        "    # loop to compare array elements\n",
        "    for j in range(0, len(array) - i - 1):\n",
        "\n",
        "      # compare two adjacent elements\n",
        "      # change > to < to sort in descending order\n",
        "      if array[j] > array[j + 1]:\n",
        "\n",
        "        # swapping elements if elements are not in the intended order\n",
        "        temp = array[j]\n",
        "        array[j] = array[j+1]\n",
        "        array[j+1] = temp\n",
        "\n",
        "\n",
        "data = [-2, 45, 0, 11, -9]\n",
        "\n",
        "bubbleSort(data)\n",
        "\n",
        "print('Sorted Array in Ascending Order:')\n",
        "print(data)"
      ],
      "metadata": {
        "colab": {
          "base_uri": "https://localhost:8080/"
        },
        "id": "4EcfIqduTDOr",
        "outputId": "95317d80-95bb-4f80-db84-0908635a4c27"
      },
      "execution_count": null,
      "outputs": [
        {
          "output_type": "stream",
          "name": "stdout",
          "text": [
            "Sorted Array in Ascending Order:\n",
            "[-9, -2, 0, 11, 45]\n"
          ]
        }
      ]
    }
  ]
}