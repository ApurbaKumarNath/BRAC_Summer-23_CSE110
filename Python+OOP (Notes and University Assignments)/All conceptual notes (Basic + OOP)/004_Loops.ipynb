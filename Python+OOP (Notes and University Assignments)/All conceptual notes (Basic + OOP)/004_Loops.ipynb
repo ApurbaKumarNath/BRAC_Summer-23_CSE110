{
  "nbformat": 4,
  "nbformat_minor": 0,
  "metadata": {
    "colab": {
      "provenance": [],
      "authorship_tag": "ABX9TyOtjtKZMVR4rlodrwiG1A7I",
      "include_colab_link": true
    },
    "kernelspec": {
      "name": "python3",
      "display_name": "Python 3"
    },
    "language_info": {
      "name": "python"
    }
  },
  "cells": [
    {
      "cell_type": "markdown",
      "metadata": {
        "id": "view-in-github",
        "colab_type": "text"
      },
      "source": [
        "<a href=\"https://colab.research.google.com/github/ApurbaKumarNath/python-oop/blob/main/Python%2BOOP%20(Notes%20and%20University%20Assignments)/All%20conceptual%20notes%20(Basic%20%2B%20OOP)/004_Loops.ipynb\" target=\"_parent\"><img src=\"https://colab.research.google.com/assets/colab-badge.svg\" alt=\"Open In Colab\"/></a>"
      ]
    },
    {
      "cell_type": "markdown",
      "source": [
        "# While Loops"
      ],
      "metadata": {
        "id": "EgZw3Bndp0WF"
      }
    },
    {
      "cell_type": "code",
      "source": [
        "num=1\n",
        "sum=0\n",
        "while num<100:\n",
        "  if num%2==0 and num%7==0:\n",
        "    sum=sum+num\n",
        "  num=num+1\n",
        "print(sum)"
      ],
      "metadata": {
        "colab": {
          "base_uri": "https://localhost:8080/"
        },
        "id": "YxebKFLup3cc",
        "outputId": "fe8a25fa-70f8-4077-f586-3d8134e0587f"
      },
      "execution_count": null,
      "outputs": [
        {
          "output_type": "stream",
          "name": "stdout",
          "text": [
            "392\n"
          ]
        }
      ]
    },
    {
      "cell_type": "code",
      "source": [
        "while True:\n",
        "  num=int(input('Enter a number: '))\n",
        "  if num==15:\n",
        "    print('I do not like 15')\n",
        "    break\n",
        "  print('Here is your number:',num)"
      ],
      "metadata": {
        "colab": {
          "base_uri": "https://localhost:8080/"
        },
        "id": "-D7j000YrQaA",
        "outputId": "976b463c-1950-4278-981c-867d951ab134"
      },
      "execution_count": null,
      "outputs": [
        {
          "output_type": "stream",
          "name": "stdout",
          "text": [
            "Enter a number: 11\n",
            "Here is your number: 11\n",
            "Enter a number: 1\n",
            "Here is your number: 1\n",
            "Enter a number: 15\n",
            "I do not like 15\n"
          ]
        }
      ]
    },
    {
      "cell_type": "code",
      "source": [
        "while False:\n",
        "  print('Code will not run.')"
      ],
      "metadata": {
        "id": "LaLtxQX__pER"
      },
      "execution_count": null,
      "outputs": []
    },
    {
      "cell_type": "code",
      "source": [
        "# Wanna stop or break? Do this:\n",
        "j = 9\n",
        "while j > 2:\n",
        "    print(j)\n",
        "    if (j == 7):\n",
        "        break\n",
        "    j -=2"
      ],
      "metadata": {
        "colab": {
          "base_uri": "https://localhost:8080/"
        },
        "id": "C8NvtV0pqXi9",
        "outputId": "c1b6f734-3d44-442e-bbd8-4ae6dad33a33"
      },
      "execution_count": null,
      "outputs": [
        {
          "output_type": "stream",
          "name": "stdout",
          "text": [
            "9\n",
            "7\n"
          ]
        }
      ]
    },
    {
      "cell_type": "code",
      "source": [
        "# Wanna skip numbers? Do this:\n",
        "k = 0\n",
        "while k< 4:\n",
        "    k += 1\n",
        "    if k == 3:\n",
        "        continue\n",
        "    print(k)"
      ],
      "metadata": {
        "colab": {
          "base_uri": "https://localhost:8080/"
        },
        "id": "IAop_zA9qdVM",
        "outputId": "975e6adb-a50a-4f12-f338-2d230a2bdbb8"
      },
      "execution_count": null,
      "outputs": [
        {
          "output_type": "stream",
          "name": "stdout",
          "text": [
            "1\n",
            "2\n",
            "4\n"
          ]
        }
      ]
    },
    {
      "cell_type": "code",
      "source": [
        "# Wanna print a message once the condition is false? Do this:\n",
        "l = 0\n",
        "while l < 2:\n",
        "    print(l)\n",
        "    l += 1\n",
        "else:\n",
        "    print(\"L is no longer smaller than 2.\")"
      ],
      "metadata": {
        "colab": {
          "base_uri": "https://localhost:8080/"
        },
        "id": "PeYWdcEqqp8E",
        "outputId": "99181a11-cd2e-476d-8641-7466c8726d65"
      },
      "execution_count": null,
      "outputs": [
        {
          "output_type": "stream",
          "name": "stdout",
          "text": [
            "0\n",
            "1\n",
            "L is no longer smaller than 2.\n"
          ]
        }
      ]
    },
    {
      "cell_type": "code",
      "source": [
        "l = 0\n",
        "while l<len('List_Example'):\n",
        "  print('List_Example'[l], end = '')\n",
        "  l += 1"
      ],
      "metadata": {
        "colab": {
          "base_uri": "https://localhost:8080/"
        },
        "id": "HF3BEaqXt0mL",
        "outputId": "054877c9-68f9-4912-b094-9f9e21d86467"
      },
      "execution_count": null,
      "outputs": [
        {
          "output_type": "stream",
          "name": "stdout",
          "text": [
            "List_Example"
          ]
        }
      ]
    },
    {
      "cell_type": "markdown",
      "source": [
        "# For loops:"
      ],
      "metadata": {
        "id": "BqahBsBtqvDy"
      }
    },
    {
      "cell_type": "code",
      "source": [
        "# stop after printing 'a'.\n",
        "a = 'banana'\n",
        "for x in a:\n",
        "    print(x)\n",
        "    if x == 'a':\n",
        "        break"
      ],
      "metadata": {
        "colab": {
          "base_uri": "https://localhost:8080/"
        },
        "id": "lBCDZObhqwY7",
        "outputId": "182bd182-0de1-4464-b106-1d2f06e56c6c"
      },
      "execution_count": null,
      "outputs": [
        {
          "output_type": "stream",
          "name": "stdout",
          "text": [
            "b\n",
            "a\n"
          ]
        }
      ]
    },
    {
      "cell_type": "code",
      "source": [
        "# Stop before printing 'p'.\n",
        "b = 'apple'\n",
        "for x in b:\n",
        "    if x == 'p':\n",
        "        break\n",
        "    print(x)"
      ],
      "metadata": {
        "colab": {
          "base_uri": "https://localhost:8080/"
        },
        "id": "B3lH_GpSq52Y",
        "outputId": "b68f460d-2495-4644-8754-c7d6c289de63"
      },
      "execution_count": null,
      "outputs": [
        {
          "output_type": "stream",
          "name": "stdout",
          "text": [
            "a\n"
          ]
        }
      ]
    },
    {
      "cell_type": "code",
      "source": [
        "# Skip l from variable b.\n",
        "b = 'apple'\n",
        "for y in b:\n",
        "    if y == 'l':\n",
        "        continue\n",
        "    print(y)"
      ],
      "metadata": {
        "colab": {
          "base_uri": "https://localhost:8080/"
        },
        "id": "jsXz4eRjrCR8",
        "outputId": "67c3931b-ee2c-4e7a-c240-b61ace689a06"
      },
      "execution_count": null,
      "outputs": [
        {
          "output_type": "stream",
          "name": "stdout",
          "text": [
            "a\n",
            "p\n",
            "p\n",
            "e\n"
          ]
        }
      ]
    },
    {
      "cell_type": "code",
      "source": [
        "# Explaining range() function: range(Starting number, Stopping number(Exclusive), Steps)\n",
        "for i in range(8, 5, -2):\n",
        "  print(i, end = ' ')\n",
        "print()\n",
        "for a in range(-2, -5, -1):\n",
        "  print(a, end = ' ')\n",
        "print()\n",
        "for b in range(2, 10, 2):\n",
        "  print(b, end = ' ')\n",
        "print()\n",
        "# Now see how it works with letters\n",
        "for c in range(len('Length')-1, -1, -1):\n",
        "  print('Length'[c], end = '')\n",
        "print(end = ' = ')\n",
        "for d in range(-1, -('Length'.count('')), -1):\n",
        "  print('Length'[d], end = '')\n",
        "print()"
      ],
      "metadata": {
        "colab": {
          "base_uri": "https://localhost:8080/"
        },
        "id": "oxwo5voUryxu",
        "outputId": "bd5b1947-3d05-4f5b-f0f7-4c8e82ec594c"
      },
      "execution_count": null,
      "outputs": [
        {
          "output_type": "stream",
          "name": "stdout",
          "text": [
            "8 6 \n",
            "-2 -3 -4 \n",
            "2 4 6 8 \n",
            "htgneL = htgneL\n"
          ]
        }
      ]
    },
    {
      "cell_type": "code",
      "source": [
        "# The else keyword in a for loop specifies a block of code to be executed when the loop is finished:\n",
        "for i in range(1, 2):\n",
        "  print(i)\n",
        "else:\n",
        "  print('Loop finished')\n",
        "# Note: The else block will NOT be executed if the loop is stopped by a break statement."
      ],
      "metadata": {
        "colab": {
          "base_uri": "https://localhost:8080/"
        },
        "id": "20psFS7hvTpl",
        "outputId": "f53c4a48-84f5-4c30-9bab-cec46eddcaa2"
      },
      "execution_count": null,
      "outputs": [
        {
          "output_type": "stream",
          "name": "stdout",
          "text": [
            "1\n",
            "Loop finished\n"
          ]
        }
      ]
    },
    {
      "cell_type": "code",
      "source": [
        "# Nested Loops:\n",
        "z = ['good', 'bad']\n",
        "yu = ['Apple', 'Candy']\n",
        "for x in z:\n",
        "    for y in yu:\n",
        "        print(x, y)"
      ],
      "metadata": {
        "colab": {
          "base_uri": "https://localhost:8080/"
        },
        "id": "WHKP0oB1vskE",
        "outputId": "1c7f6b7d-eb8b-4cd5-c8d8-b8c65cfdb351"
      },
      "execution_count": null,
      "outputs": [
        {
          "output_type": "stream",
          "name": "stdout",
          "text": [
            "good Apple\n",
            "good Candy\n",
            "bad Apple\n",
            "bad Candy\n"
          ]
        }
      ]
    },
    {
      "cell_type": "code",
      "source": [
        "# Using zip and for loop: # use only iterable objects\n",
        "for x, y in zip(['good', 'bad'], ['Apple', 'Candy']):\n",
        "    print(x, y)\n",
        "print('---------------------------------')\n",
        "for x, y in zip('good', 'Apple'):\n",
        "    print(x, y, end = ' ')\n",
        "\n",
        "#for x, y in zip(100, 23): # TypeError: 'int' object is not iterable"
      ],
      "metadata": {
        "colab": {
          "base_uri": "https://localhost:8080/"
        },
        "id": "BnhmKAy-MqFi",
        "outputId": "b6337590-2ab8-4e8a-aeab-ff37a77379a0"
      },
      "execution_count": 5,
      "outputs": [
        {
          "output_type": "stream",
          "name": "stdout",
          "text": [
            "good Apple\n",
            "bad Candy\n",
            "---------------------------------\n",
            "g A o p o p d l "
          ]
        }
      ]
    },
    {
      "cell_type": "code",
      "source": [
        "# The pass statement:\n",
        "for x in [12, 'good', 'Hi']:\n",
        "    pass"
      ],
      "metadata": {
        "id": "T_Vh_fO-vwd8"
      },
      "execution_count": null,
      "outputs": []
    },
    {
      "cell_type": "code",
      "source": [
        "# Difference between pass and continue:\n",
        "def a():\n",
        "    for i in range(1, 3):\n",
        "        if 2> i:\n",
        "            pass   # Pass skips if-else but not the whole loop.\n",
        "        else:\n",
        "            num = i\n",
        "        print('Passed statement successful')\n",
        "    print(num)\n",
        "a()\n",
        "\n",
        "def b():\n",
        "    for i in range(1, 3):\n",
        "        if 2> i:\n",
        "            continue    # Continue skips the loop for a specific value.\n",
        "        else:\n",
        "            num = i\n",
        "        print('Passed statement successful')\n",
        "    print(num)\n",
        "b()"
      ],
      "metadata": {
        "colab": {
          "base_uri": "https://localhost:8080/"
        },
        "id": "y0swnZ1vv-qX",
        "outputId": "3a69380f-17a5-400d-fe48-7babaf5da171"
      },
      "execution_count": null,
      "outputs": [
        {
          "output_type": "stream",
          "name": "stdout",
          "text": [
            "Passed statement successful\n",
            "Passed statement successful\n",
            "2\n",
            "Passed statement successful\n",
            "2\n"
          ]
        }
      ]
    }
  ]
}