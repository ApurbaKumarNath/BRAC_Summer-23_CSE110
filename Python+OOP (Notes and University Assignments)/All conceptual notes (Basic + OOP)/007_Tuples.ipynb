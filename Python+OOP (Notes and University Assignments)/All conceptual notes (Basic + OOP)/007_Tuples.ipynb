{
  "nbformat": 4,
  "nbformat_minor": 0,
  "metadata": {
    "colab": {
      "provenance": [],
      "authorship_tag": "ABX9TyOvRP9oCV+hdblg+hNymoeQ",
      "include_colab_link": true
    },
    "kernelspec": {
      "name": "python3",
      "display_name": "Python 3"
    },
    "language_info": {
      "name": "python"
    }
  },
  "cells": [
    {
      "cell_type": "markdown",
      "metadata": {
        "id": "view-in-github",
        "colab_type": "text"
      },
      "source": [
        "<a href=\"https://colab.research.google.com/github/ApurbaKumarNath/python-oop/blob/main/Python%2BOOP%20(Notes%20and%20University%20Assignments)/All%20conceptual%20notes%20(Basic%20%2B%20OOP)/007_Tuples.ipynb\" target=\"_parent\"><img src=\"https://colab.research.google.com/assets/colab-badge.svg\" alt=\"Open In Colab\"/></a>"
      ]
    },
    {
      "cell_type": "code",
      "execution_count": null,
      "metadata": {
        "id": "ZVCXVyyvHP1a",
        "outputId": "03d74df9-3f9c-4992-e3a1-a2ec602b36ed",
        "colab": {
          "base_uri": "https://localhost:8080/"
        }
      },
      "outputs": [
        {
          "output_type": "stream",
          "name": "stdout",
          "text": [
            "5\n",
            "<class 'tuple'>\n",
            "(2,)\n"
          ]
        }
      ],
      "source": [
        "# Tuple is a built-in data structure in Python. But it's unchangeable/ immutable.\n",
        "\n",
        "t1 = (1, 'ba', True, False, 'ba'); print(len(t1))\n",
        "\n",
        "t2= (1,); print(type(t2)) # Tuple with one item only.\n",
        "\n",
        "t3 = tuple([2, ]); print(t3) # Tuple construction."
      ]
    },
    {
      "cell_type": "code",
      "source": [
        "#Accessing tuples:\n",
        "t1 = (1, 'ba', True, False, 'ba')\n",
        "t2= (1,)\n",
        "print(t1[-1:-3:-1])\n",
        "print('-----------------------------------------------------')\n",
        "\n",
        "nested = ((1, 2), [1, 3], 2.09)\n",
        "print(nested[1][1])\n",
        "nested[1].append(4) # nested[1] is a list. You can't do the same with nested[0] or nested.\n",
        "print(nested)"
      ],
      "metadata": {
        "colab": {
          "base_uri": "https://localhost:8080/"
        },
        "id": "8Mt2fZFGliA0",
        "outputId": "47fddb18-6ee2-4b62-a87c-41a0926a342a"
      },
      "execution_count": null,
      "outputs": [
        {
          "output_type": "stream",
          "name": "stdout",
          "text": [
            "('ba', False)\n",
            "-----------------------------------------------------\n",
            "3\n",
            "((1, 2), [1, 3, 4], 2.09)\n"
          ]
        }
      ]
    },
    {
      "cell_type": "code",
      "source": [
        "#Checking if an item exists:\n",
        "t1 = (1, 'ba', True, False, 'ba')\n",
        "t2= (1,)\n",
        "if 2 in t1:\n",
        "    print('Yes, it exists.')\n",
        "else:\n",
        "    print(\"No, doesn't exist.\")"
      ],
      "metadata": {
        "colab": {
          "base_uri": "https://localhost:8080/"
        },
        "id": "LK23Pc9AmjU9",
        "outputId": "04f86198-ade7-4d4f-9d28-cbf023f24272"
      },
      "execution_count": null,
      "outputs": [
        {
          "output_type": "stream",
          "name": "stdout",
          "text": [
            "No, doesn't exist.\n"
          ]
        }
      ]
    },
    {
      "cell_type": "code",
      "source": [
        "#For changing, adding, and removing items in a tuple, you have to convert it to a list:\n",
        "t1 = (1, 'ba', True, False, 'ba')\n",
        "t2= (1,)\n",
        "l1 = list(t1)\n",
        "l1[:3] = 'Now,', 'changed', 'tuple:'\n",
        "print(tuple(l1))\n",
        "print('-----------------------------------------------------')\n",
        "\n",
        "l2 = list(t2)\n",
        "l2.insert(1, 'Added item')\n",
        "t2 = tuple(l2)\n",
        "print(t2)\n",
        "print('-----------------------------------------------------')\n",
        "\n",
        "l3 = list(t1)\n",
        "l3.pop(2)\n",
        "print('Removed one item:', tuple(l3))\n",
        "print('-----------------------------------------------------')\n",
        "\n",
        "#deleting a tuple\n",
        "'''\n",
        "del t3\n",
        "print(t3) #If you do this, it'll show an error, and unlike lists, you can't use del to remove specific items.\n",
        "'''\n",
        "\n",
        "#Adding tuple to a tuple:\n",
        "t2= (1,)\n",
        "t3 = tuple([2, ])\n",
        "t3 += t2 ; print(t3)"
      ],
      "metadata": {
        "colab": {
          "base_uri": "https://localhost:8080/"
        },
        "id": "r5nGDvrVm8fv",
        "outputId": "c146a7f8-e7fb-43db-c6f3-5118e136034a"
      },
      "execution_count": null,
      "outputs": [
        {
          "output_type": "stream",
          "name": "stdout",
          "text": [
            "('Now,', 'changed', 'tuple:', False, 'ba')\n",
            "-----------------------------------------------------\n",
            "(1, 'Added item')\n",
            "-----------------------------------------------------\n",
            "Removed one item: (1, 'ba', False, 'ba')\n",
            "-----------------------------------------------------\n",
            "(2, 1)\n"
          ]
        }
      ]
    },
    {
      "cell_type": "code",
      "source": [
        "#Unpacking strings/tuples/lists/sets/dictionaries all work the same way:\n",
        "\n",
        "u1 = ('abc', 'bcd', 'cba')\n",
        "(a1, b1, c1) = u1\n",
        "''' If you didn't want u1 to exist, you could also write: (a1, b1, c1) = ('abc', 'bcd', 'cba')\n",
        "    we are allowed to extract the values back into variables. This is called \"unpacking\"      '''\n",
        "print(a1, b1, c1)\n",
        "print('-----------------------------------------------------')\n",
        "\n",
        "\n",
        "''' If the number of variables is less than the number of values,\n",
        "    you can add an * to the variable name and the values will be assigned to the variable as a list: '''\n",
        "\n",
        "u2 = ('ab', 'bc', 'ca', 'xy', 'yz')\n",
        "(a2, b2, *c2) = u2\n",
        "print(a2, b2); print(c2)\n",
        "print('-----------------------------------------------------')\n",
        "\n",
        "\n",
        "'''If the asterisk is added to another variable name instead of the last,\n",
        "   Python will assign values to the variable until the number of values left matches the number of variables left.'''\n",
        "(a3, *b3, c3) = u2\n",
        "print(a3, b3, c3)\n",
        "print('-----------------------------------------------------')\n",
        "\n",
        "\n",
        "nested = ((1, 2), [1, 3, 4], 2.09)\n",
        "*a4, b4 = nested\n",
        "print(a4, b4)  # Output a4 = [(1, 2), [1, 3, 4]], b4 = 2.09\n",
        "print('-----------------------------------------------------')\n",
        "\n",
        "#*a4 = nested # error\n",
        "#print(a4) won't work. Cz you need atleast one more unpacking variable such as b4.\n",
        "\n",
        "\n",
        "a5, *b5 = nested\n",
        "print(a5, b5)\n",
        "print('-----------------------------------------------------')\n",
        "\n",
        "*a6, a7 = nested[2:] # remember when using *, make sure the target is iterable\n",
        "print(a6, a7)\n",
        "#Otherwise this happens:\n",
        "#naga = [1, 2, 3]\n",
        "#*a8, a9 = naga[1] #TypeError: cannot unpack non-iterable int object\n",
        "print('-----------------------------------------------------')\n",
        "\n",
        "naga = [1, \"2\", 3]\n",
        "*a8, a9 = naga[1]\n",
        "print(a8, a9)\n",
        "print('-----------------------------------------------------')\n",
        "\n",
        "set1 = {1, 2}\n",
        "*a10, a11 = set1\n",
        "print(a10, a11)\n",
        "print('-----------------------------------------------------')\n",
        "\n",
        "dic1 = {1: 'a', 2: 'b'}\n",
        "*a12, a13 = dic1 #only the keys\n",
        "print(a12, a13)"
      ],
      "metadata": {
        "colab": {
          "base_uri": "https://localhost:8080/"
        },
        "id": "x2o-7QmtnfjC",
        "outputId": "2342456f-1fa0-47fd-d689-492423f3334a"
      },
      "execution_count": null,
      "outputs": [
        {
          "output_type": "stream",
          "name": "stdout",
          "text": [
            "abc bcd cba\n",
            "-----------------------------------------------------\n",
            "ab bc\n",
            "['ca', 'xy', 'yz']\n",
            "-----------------------------------------------------\n",
            "ab ['bc', 'ca', 'xy'] yz\n",
            "-----------------------------------------------------\n",
            "[(1, 2), [1, 3, 4]] 2.09\n",
            "-----------------------------------------------------\n",
            "(1, 2) [[1, 3, 4], 2.09]\n",
            "-----------------------------------------------------\n",
            "[] 2.09\n",
            "-----------------------------------------------------\n",
            "[] 2\n",
            "-----------------------------------------------------\n",
            "[1] 2\n",
            "-----------------------------------------------------\n",
            "[1] 2\n"
          ]
        }
      ]
    },
    {
      "cell_type": "code",
      "source": [
        "#Loop Tuples:\n",
        "t1 = (1, 'ba', True, False, 'ba')\n",
        "t2= (1,)\n",
        "for x in t1:\n",
        "    print(x, end = ' ')\n",
        "print('  ##  ')\n",
        "\n",
        "\n",
        "for i in range(1, len(t1), 2):\n",
        "    print(t1[i], end = ' ')\n",
        "print('  ##  ')\n",
        "\n",
        "\n",
        "j = 0\n",
        "while j < len(t1):\n",
        "    print(t1[j], end = ' ')\n",
        "    j += 1\n",
        "print('  ##  ')\n",
        "\n",
        "nested = ((1, 2), [1, 3, 4], 2.09)\n",
        "for z in nested[:2]:\n",
        "    x, *y = z\n",
        "    print(x, y, end = ' ')\n",
        "print('  ##  ')"
      ],
      "metadata": {
        "colab": {
          "base_uri": "https://localhost:8080/"
        },
        "id": "l4vRIizRqN8X",
        "outputId": "4c36d493-091f-425b-b8b0-97de0d4bd316"
      },
      "execution_count": null,
      "outputs": [
        {
          "output_type": "stream",
          "name": "stdout",
          "text": [
            "1 ba True False ba   ##  \n",
            "ba False   ##  \n",
            "1 ba True False ba   ##  \n",
            "1 [2] 1 [3, 4]   ##  \n"
          ]
        }
      ]
    },
    {
      "cell_type": "code",
      "source": [
        "#Join Tuples:\n",
        "t1 = (1, 'ba', True, False, 'ba')\n",
        "t2= (1,)\n",
        "t1 += t2\n",
        "print(t1)\n",
        "print('-----------------------------------------------------')\n",
        "\n",
        "#Multiplying Tuples:\n",
        "m1 = t1* 2\n",
        "print(m1)\n",
        "print('-----------------------------------------------------')\n",
        "\n",
        "print(\"Counting 'ba' in t1:\", t1.count('ba'))\n",
        "print(\"The first occurrence of 'ba' in t1 is index no.:\", t1.index('ba'), '\\n')\n",
        "print('I am done with tuples.')"
      ],
      "metadata": {
        "colab": {
          "base_uri": "https://localhost:8080/"
        },
        "id": "dzdDdj4HvBRH",
        "outputId": "72d994e7-8664-4388-c545-2a5a28793141"
      },
      "execution_count": null,
      "outputs": [
        {
          "output_type": "stream",
          "name": "stdout",
          "text": [
            "(1, 'ba', True, False, 'ba', 1)\n",
            "-----------------------------------------------------\n",
            "(1, 'ba', True, False, 'ba', 1, 1, 'ba', True, False, 'ba', 1)\n",
            "-----------------------------------------------------\n",
            "Counting 'ba' in t1: 2\n",
            "The first occurrence of 'ba' in t1 is index no.: 1 \n",
            "\n",
            "I am done with tuples.\n"
          ]
        }
      ]
    }
  ]
}