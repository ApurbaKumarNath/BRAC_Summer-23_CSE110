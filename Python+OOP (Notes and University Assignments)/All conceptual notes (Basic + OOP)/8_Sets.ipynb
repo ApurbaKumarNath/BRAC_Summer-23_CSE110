{
  "nbformat": 4,
  "nbformat_minor": 0,
  "metadata": {
    "colab": {
      "provenance": [],
      "authorship_tag": "ABX9TyOZhn7oDnN+5fkkCSl5vCIb",
      "include_colab_link": true
    },
    "kernelspec": {
      "name": "python3",
      "display_name": "Python 3"
    },
    "language_info": {
      "name": "python"
    }
  },
  "cells": [
    {
      "cell_type": "markdown",
      "metadata": {
        "id": "view-in-github",
        "colab_type": "text"
      },
      "source": [
        "<a href=\"https://colab.research.google.com/github/ApurbaKumarNath/python-oop/blob/main/Python%2BOOP%20(Notes%20and%20University%20Assignments)/All%20conceptual%20notes%20(Basic%20%2B%20OOP)/8_Sets.ipynb\" target=\"_parent\"><img src=\"https://colab.research.google.com/assets/colab-badge.svg\" alt=\"Open In Colab\"/></a>"
      ]
    },
    {
      "cell_type": "markdown",
      "source": [
        "\n",
        "A set is a collection which is mutable, unordered, unchangeable*, and unindexed.\n",
        "Set items are unchangeable, but you can remove items and add new items.\n",
        "Sets are unordered, so you cannot be sure in which order the items will appear.\n",
        "\n",
        "Remember one thing: in sets and dictionaries, 0 = False and 1 = True"
      ],
      "metadata": {
        "id": "jdK0UqYIImVZ"
      }
    },
    {
      "cell_type": "code",
      "execution_count": 3,
      "metadata": {
        "id": "RBRHGnR7Bra-",
        "outputId": "52ea7387-d3fa-4f3b-fcae-fbd6058a75bf",
        "colab": {
          "base_uri": "https://localhost:8080/"
        }
      },
      "outputs": [
        {
          "output_type": "stream",
          "name": "stdout",
          "text": [
            "{False, True, 'abc', -2} <class 'set'> 4\n",
            "{1}\n",
            "{'a'}\n",
            "{True}\n",
            "Checking if 1 exists in d1: True\n"
          ]
        }
      ],
      "source": [
        "s = {'abc', -2, True, False}; print(s, type(s), len(s))\n",
        "\n",
        "s1 = set((1,)); print(s1)\n",
        "\n",
        "# Duplicates not allowed: Sets cannot have two items with the same value.\n",
        "d = {'a', 'a'}; print(d)\n",
        "\n",
        "# The values True and 1 are considered the same value in sets, and are treated as duplicates:\n",
        "d1 = {True, 1}; print(d1)\n",
        "\n",
        "#Checking Set items:\n",
        "print('Checking if 1 exists in d1:', 1 in d1)"
      ]
    },
    {
      "cell_type": "code",
      "source": [
        "#Looping sets:\n",
        "s = {'abc', -2, True, False}\n",
        "for x in s:\n",
        "    print(x, end = ' ')\n",
        "print()"
      ],
      "metadata": {
        "colab": {
          "base_uri": "https://localhost:8080/"
        },
        "id": "9TRsv35gJGj1",
        "outputId": "02350ec2-fc1f-43d1-ad00-174a96d210cc"
      },
      "execution_count": 5,
      "outputs": [
        {
          "output_type": "stream",
          "name": "stdout",
          "text": [
            "False True abc -2 \n"
          ]
        }
      ]
    },
    {
      "cell_type": "code",
      "source": [
        "#Adding items:\n",
        "s1 = set((1,))\n",
        "s1.add('True'); print(s1)\n",
        "\n",
        "\n",
        "\n",
        "#Removing items:\n",
        "'''\n",
        "To remove an item in a set, use the remove(), or the discard() method.\n",
        "If the item to remove does not exist, remove() will and discard() will NOT raise an error.\n",
        "'''\n",
        "\n",
        "s1.remove('True'); print(s1)\n",
        "s1.discard('False'); print(s1) # It won't show any error.\n",
        "\n",
        "# Use pop method if you want to remove a random item.\n",
        "r = {1, 2, 3, 4}\n",
        "r.pop(); print(r)\n",
        "\n",
        "print('-----------------------------------------------------------------')\n",
        "# clear() method empties the set.\n",
        "r.clear(); print(r)\n",
        "\n",
        "# if we keep the set blank from the start and then use .clear() and print():\n",
        "r_empty = set(); print(r == r_empty)\n",
        "\n",
        "r_empty.clear(); print(r_empty, end = ' '); print(r == r_empty)\n",
        "print('-----------------------------------------------------------------')\n",
        "\n",
        "r_em = {}; r_em.clear(); print(r_em, end = ' '); print(r == r_em)\n",
        "print('-----------------------------------------------------------------')\n",
        "\n",
        "r1 = {1}; r1.clear(); print(r1, end = ' '); print(r == r1)\n",
        "print('-----------------------------------------------------------------')\n",
        "\n",
        "# del r will completely delete the set, and if printed, it'll show an error."
      ],
      "metadata": {
        "colab": {
          "base_uri": "https://localhost:8080/"
        },
        "id": "tqAiKbHUJzsL",
        "outputId": "eab06fb6-6f95-4d6d-8d17-0465681d69d0"
      },
      "execution_count": 28,
      "outputs": [
        {
          "output_type": "stream",
          "name": "stdout",
          "text": [
            "{1, 'True'}\n",
            "{1}\n",
            "{1}\n",
            "{2, 3, 4}\n",
            "-----------------------------------------------------------------\n",
            "set()\n",
            "True\n",
            "set() True\n",
            "-----------------------------------------------------------------\n",
            "{} False\n",
            "-----------------------------------------------------------------\n",
            "set() True\n",
            "-----------------------------------------------------------------\n"
          ]
        }
      ]
    },
    {
      "cell_type": "code",
      "source": [
        "#Joining sets:\n",
        "r = {1, 2, 3, 4}\n",
        "r1 = ['a', 'b']\n",
        "r2 = {5, 6, 'a'}\n",
        "\n",
        "r.update(r1); print(r) # update() method can be used for any iterable object.\n",
        "\n",
        "r3 = r.union(r2); print(r3) # union() is used for returning a new set. Here it's r3.\n",
        "\n",
        "# Both union() and update() will exclude any duplicate items."
      ],
      "metadata": {
        "colab": {
          "base_uri": "https://localhost:8080/"
        },
        "id": "kwv6dkCXJ538",
        "outputId": "04164835-db47-4c78-d5da-d2ee7814095e"
      },
      "execution_count": 30,
      "outputs": [
        {
          "output_type": "stream",
          "name": "stdout",
          "text": [
            "{'a', 1, 2, 3, 4, 'b'}\n",
            "{'a', 1, 2, 3, 4, 5, 6, 'b'}\n"
          ]
        }
      ]
    },
    {
      "cell_type": "code",
      "source": [
        "# To get the duplicate items:\n",
        "r = {1, 2, 3, 5}\n",
        "r3 = {5, 6, 'a'}\n",
        "r.intersection_update(r3); print(r)\n",
        "\n",
        "r = {1, 2, 3, 5}\n",
        "r3 = {5, 6, 'a'}\n",
        "r4 = r.intersection(r3); print(r4) # intersection() is for a new set.\n",
        "\n",
        "# To exclude duplicates:\n",
        "r.symmetric_difference_update(r3); print(r)\n",
        "\n",
        "r = {1, 2, 3, 5}\n",
        "r3 = {5, 6, 'a'}\n",
        "r5 = r.symmetric_difference(r3); print(r5) # This is for a new set.\n",
        "\n",
        "# To learn more about set methods, see this: https://www.w3schools.com/python/python_sets_methods.asp"
      ],
      "metadata": {
        "colab": {
          "base_uri": "https://localhost:8080/"
        },
        "id": "Rw5dPPuTJ6bV",
        "outputId": "901a0cfc-cd2a-4cbe-ac3c-87070b555ba9"
      },
      "execution_count": 36,
      "outputs": [
        {
          "output_type": "stream",
          "name": "stdout",
          "text": [
            "{5}\n",
            "{5}\n",
            "{1, 2, 3, 'a', 6}\n",
            "{'a', 2, 1, 3, 6}\n"
          ]
        }
      ]
    }
  ]
}