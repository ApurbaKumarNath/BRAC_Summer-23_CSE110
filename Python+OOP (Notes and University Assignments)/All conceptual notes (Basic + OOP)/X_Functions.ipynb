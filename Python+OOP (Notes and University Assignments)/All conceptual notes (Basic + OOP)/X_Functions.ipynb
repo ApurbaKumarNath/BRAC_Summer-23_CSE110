{
  "nbformat": 4,
  "nbformat_minor": 0,
  "metadata": {
    "colab": {
      "provenance": [],
      "collapsed_sections": [
        "R2Lb7At1WFFW",
        "lYnHEvK_6n7r",
        "YAc0d-s7tuSB"
      ],
      "authorship_tag": "ABX9TyMXZQ3bSal/ffN6BkQOmA6T",
      "include_colab_link": true
    },
    "kernelspec": {
      "name": "python3",
      "display_name": "Python 3"
    },
    "language_info": {
      "name": "python"
    }
  },
  "cells": [
    {
      "cell_type": "markdown",
      "metadata": {
        "id": "view-in-github",
        "colab_type": "text"
      },
      "source": [
        "<a href=\"https://colab.research.google.com/github/ApurbaKumarNath/python-oop/blob/main/Python%2BOOP%20(Notes%20and%20University%20Assignments)/All%20conceptual%20notes%20(Basic%20%2B%20OOP)/X_Functions.ipynb\" target=\"_parent\"><img src=\"https://colab.research.google.com/assets/colab-badge.svg\" alt=\"Open In Colab\"/></a>"
      ]
    },
    {
      "cell_type": "code",
      "source": [
        "'''\n",
        "A function is a block of code which only runs when it is called.\n",
        "You can pass data, known as parameters, into a function. A function can return data as a result.\n",
        "Parameters: Parameters are the variables declared in the function.\n",
        "Arguments: Arguments are the values passed through the parameters when calling the function.\n",
        "\n",
        "**You cannot use a local variable outside of a function. To use, set it to global.**\n",
        "Two types of functions:\n",
        "1. Void function: Do not return anything\n",
        "2. Fruitful function: Return some value after execution\n",
        "'''\n",
        "\n",
        "def call():\n",
        "  x = 'Local variable'\n",
        "  print('You can call a function as many times as you want.')\n",
        "  return x\n",
        "call()\n",
        "print(call())"
      ],
      "metadata": {
        "colab": {
          "base_uri": "https://localhost:8080/"
        },
        "id": "YEwgxUivRexn",
        "outputId": "7b047d6c-b52f-480c-c1a6-c4bd2ff82022"
      },
      "execution_count": null,
      "outputs": [
        {
          "output_type": "stream",
          "name": "stdout",
          "text": [
            "You can call a function as many times as you want.\n",
            "You can call a function as many times as you want.\n",
            "Local variable\n"
          ]
        }
      ]
    },
    {
      "cell_type": "code",
      "source": [
        "#The pass Statement: passed\n",
        "def passing(x):\n",
        "  pass"
      ],
      "metadata": {
        "id": "80M1vuLgtcuY"
      },
      "execution_count": null,
      "outputs": []
    },
    {
      "cell_type": "code",
      "source": [
        "x = 10\n",
        "def parameter(x = 2): # The default value of x is 2.\n",
        "  print(x*2)\n",
        "  x = 3          # This Local variable(x) is never equal to the parameter x.\n",
        "  print(x)\n",
        "  return x\n",
        "  print(111)     # It simply doesn't print because a value is returned. To print it, write it before returning.\n",
        "y = parameter(121)\n",
        "print(parameter(x))\n",
        "'''\n",
        "Remember: Python prioritizes given argument more than default value.\n",
        "Only if no argument is given, python uses the default value as argument.\n",
        "\n",
        "Step by step execution of the code:\n",
        "1. default value x = 2\n",
        "2. as y = parameter(121), the function has been called with the argument 121.\n",
        "3. so, it prints 121*2 = 242; then, it takes the local variable x = 3 and prints 3.\n",
        "4. returned value 3 to parameter(121). y = parameter(121) = 3.\n",
        "5. for print(parameter(x)), the function has been called with the argument 10. (x = 10 global variable)\n",
        "6. it'll print x*2 = 10 * 2 = 20.\n",
        "7. x = 3, and prints 3.\n",
        "8. returned value 3 to parameter(10). parameter(10) = 3.\n",
        "9. finally prints 3 # Actually, In this function, parameter(any value) = 3 as it only returns 3 to the function.\n",
        "\n",
        "Conclusion: function call will work first, then, other stuff.\n",
        "And a function can be called inside from print(as in line 20 and 30) or a variable(as in line 29) or etc.(as in line 87).\n",
        "Remember all the print statements inside the function are executed serially when the function is called.\n",
        "If returned any value, function(argument) = returned value. If not returned, function(argument) = None.\n",
        "'''\n",
        "\n",
        "print(f'y variable has the value of parameter(121), and that is {y}.')"
      ],
      "metadata": {
        "colab": {
          "base_uri": "https://localhost:8080/"
        },
        "id": "uBTbNTj4Vfkh",
        "outputId": "b1d4fe1f-c055-4dfe-8e70-a00638c484b8"
      },
      "execution_count": null,
      "outputs": [
        {
          "output_type": "stream",
          "name": "stdout",
          "text": [
            "242\n",
            "3\n",
            "20\n",
            "3\n",
            "3\n",
            "y variable has the value of parameter(121), and that is 3.\n"
          ]
        }
      ]
    },
    {
      "cell_type": "code",
      "source": [
        "# returning and after returning\n",
        "p = 11\n",
        "def returning():\n",
        "  global p\n",
        "  p += 10\n",
        "  if True:\n",
        "    return 0\n",
        "  print(\"It doesn't print\")\n",
        "  p += 10\n",
        "  print(p)\n",
        "print(returning())\n",
        "print(p)\n",
        "\n",
        "# After something is returned to a function, the function doesn't do any more work. E.g. here, nothing was printed & value of p var didn't change after returning."
      ],
      "metadata": {
        "colab": {
          "base_uri": "https://localhost:8080/"
        },
        "id": "g6i5J15o4lLK",
        "outputId": "d61b6857-a8f2-4385-889c-f74adc115011"
      },
      "execution_count": null,
      "outputs": [
        {
          "output_type": "stream",
          "name": "stdout",
          "text": [
            "0\n",
            "21\n"
          ]
        }
      ]
    },
    {
      "cell_type": "code",
      "source": [
        "# Using Loop in a function:\n",
        "def loop(L):\n",
        "  for x in L:\n",
        "    print(x)\n",
        "list1 = [True, 'str', 1.01, 55]\n",
        "loop(list1)\n",
        "loop({'Tea': 'Nothing'})"
      ],
      "metadata": {
        "colab": {
          "base_uri": "https://localhost:8080/"
        },
        "id": "JHKwd9Nzu01s",
        "outputId": "c5f2d301-5319-45e1-c888-153d797bb168"
      },
      "execution_count": null,
      "outputs": [
        {
          "output_type": "stream",
          "name": "stdout",
          "text": [
            "True\n",
            "str\n",
            "1.01\n",
            "55\n",
            "Tea\n"
          ]
        }
      ]
    },
    {
      "cell_type": "code",
      "source": [
        "def func(x):\n",
        "  print(x)\n",
        "  return func(x)\n",
        "\n",
        "#func(\"Amazing!\") #RecursionError: maximum recursion depth exceeded while calling a Python object"
      ],
      "metadata": {
        "id": "B7mc4UH58m4v"
      },
      "execution_count": null,
      "outputs": []
    },
    {
      "cell_type": "markdown",
      "source": [
        "# Nested functions and variable scoping"
      ],
      "metadata": {
        "id": "R2Lb7At1WFFW"
      }
    },
    {
      "cell_type": "code",
      "source": [
        "val = 11\n",
        "def globe(val):\n",
        "  # global val # you can't make the parameter name global, and it's not bcz of the outside variable (val = 11). SyntaxError: name 'val' is parameter and global\n",
        "  print('You can set a global variable as an argument:', val) # Here, val = 11\n",
        "globe(val)"
      ],
      "metadata": {
        "colab": {
          "base_uri": "https://localhost:8080/"
        },
        "id": "KOrXz6xvwovA",
        "outputId": "0538ff46-a293-4e69-9461-df1be552de6b"
      },
      "execution_count": null,
      "outputs": [
        {
          "output_type": "stream",
          "name": "stdout",
          "text": [
            "You can set a global variable as an argument: 11\n"
          ]
        }
      ]
    },
    {
      "cell_type": "code",
      "source": [
        "num = 12\n",
        "def numbergame():\n",
        "  print(num)\n",
        "  now = num * 2\n",
        "  print(now)\n",
        "  # num = num + 2 # This is what you cannot do without the use of global. See next code to understand how to do this.\n",
        "numbergame()"
      ],
      "metadata": {
        "colab": {
          "base_uri": "https://localhost:8080/"
        },
        "id": "0wRO4nK8yyWZ",
        "outputId": "b82387db-1b6e-412b-8c53-7432421c3a80"
      },
      "execution_count": null,
      "outputs": [
        {
          "output_type": "stream",
          "name": "stdout",
          "text": [
            "12\n",
            "24\n"
          ]
        }
      ]
    },
    {
      "cell_type": "code",
      "source": [
        "why = 'You can use a variable in a function which is outside the function.'\n",
        "def outside():\n",
        "  #print(why) # SyntaxError: name 'why' is used prior to global declaration\n",
        "  global why\n",
        "  why = why + ' Now it is successfully changed.'\n",
        "  print(why)\n",
        "outside()"
      ],
      "metadata": {
        "colab": {
          "base_uri": "https://localhost:8080/"
        },
        "id": "HgUkTJDMxt9J",
        "outputId": "25bfbef0-2624-4420-8ee3-10106b89ed16"
      },
      "execution_count": null,
      "outputs": [
        {
          "output_type": "stream",
          "name": "stdout",
          "text": [
            "You can use a variable in a function which is outside the function. Now it is successfully changed.\n"
          ]
        }
      ]
    },
    {
      "cell_type": "code",
      "source": [
        "a = 'abc'\n",
        "def outer_f():\n",
        "  a = 'hello'\n",
        "\n",
        "  def inner_f():\n",
        "    b = a + ' virus' # Here, no variable (a) is in inner_f(), so, nonlocal variable (a = 'hello') is used.\n",
        "    print(b)\n",
        "  inner_f()\n",
        "\n",
        "  print(a)\n",
        "outer_f()\n",
        "\n",
        "print(a)"
      ],
      "metadata": {
        "colab": {
          "base_uri": "https://localhost:8080/"
        },
        "id": "D_mLxU5MWJAT",
        "outputId": "3e8088e5-3807-47e0-d174-9a3841bb0d1c"
      },
      "execution_count": null,
      "outputs": [
        {
          "output_type": "stream",
          "name": "stdout",
          "text": [
            "hello virus\n",
            "hello\n",
            "abc\n"
          ]
        }
      ]
    },
    {
      "cell_type": "code",
      "source": [
        "a = 'abc'\n",
        "def outer_f():\n",
        "  b = a + 'd'\n",
        "\n",
        "  def inner_f():\n",
        "    print(a)   # Here, no variable (a) is in inner_f() & outer_f(), so, global variable (a = 'abc') is used.\n",
        "  inner_f()\n",
        "\n",
        "  print(b)\n",
        "outer_f()\n",
        "\n",
        "print(a)"
      ],
      "metadata": {
        "colab": {
          "base_uri": "https://localhost:8080/"
        },
        "id": "KF55cCbEXMLy",
        "outputId": "97ff7482-9433-4c8a-c89b-e50af0fed630"
      },
      "execution_count": null,
      "outputs": [
        {
          "output_type": "stream",
          "name": "stdout",
          "text": [
            "abc\n",
            "abcd\n",
            "abc\n"
          ]
        }
      ]
    },
    {
      "cell_type": "code",
      "source": [
        "a = 'abc'\n",
        "def outer_f():\n",
        "\n",
        "  # global a\n",
        "  '''This will work with the global variable (a = 'abc'). So, inside inner_f(), (nonlocal a) part won't work because there will be no variable (a) in outer_f.\n",
        "     This proves that outer_f won't have any local var (a = 'hello') if (global a) is used. (a = 'hello') will only be global.'''\n",
        "\n",
        "  a = 'hello'\n",
        "\n",
        "  def inner_f():\n",
        "    nonlocal a        # This will work with the nonlocal variable (a = 'hello').\n",
        "    a = a + ' virus'  # So, now, this var (a = 'hello virus') only exists in outer_f. It's not a local var of inner_f.\n",
        "    print(a)\n",
        "\n",
        "    def moreinner_f():\n",
        "      nonlocal a      # This will also work with the variable of outer_f which became (a = 'hello virus') in inner_f part, but it's not a local var of inner_f.\n",
        "      a = a + '!!'\n",
        "      print(a)\n",
        "    moreinner_f()\n",
        "  inner_f()\n",
        "\n",
        "  print(a)\n",
        "outer_f()\n",
        "\n",
        "print(a)"
      ],
      "metadata": {
        "colab": {
          "base_uri": "https://localhost:8080/"
        },
        "id": "NAUsUeVJXQsb",
        "outputId": "662f164d-6811-4016-e8c4-779711760f3d"
      },
      "execution_count": null,
      "outputs": [
        {
          "output_type": "stream",
          "name": "stdout",
          "text": [
            "hello virus\n",
            "hello virus!!\n",
            "hello virus!!\n",
            "abc\n"
          ]
        }
      ]
    },
    {
      "cell_type": "code",
      "source": [
        "# You can make changes of mutable objects(global or nonlocal) in an inner function, but can't do the same with immutable objects\n",
        "# Error: UnboundLocalError: local variable 'li' referenced before assignment\n",
        "# So it's always best to set nonlocal or global when using outer variables in an inner function.\n",
        "\n",
        "def a():\n",
        "  t = (1, )\n",
        "  dic = {1: 2, 3: 4}\n",
        "  li = []\n",
        "  def b():\n",
        "    #t += (2, ) # Immutable object. Won't work without setting nonlocal\n",
        "    dic[4] = 2  # Mutable object. Will work.\n",
        "    #li += [1]  # Can't do this. But li.append(1) does work.\n",
        "  b()\n",
        "  print(t)\n",
        "  print(dic)\n",
        "  print(li)\n",
        "a()"
      ],
      "metadata": {
        "colab": {
          "base_uri": "https://localhost:8080/"
        },
        "id": "4947Wap2Fqnn",
        "outputId": "db699643-e937-4ae6-833d-1f268aca0ccd"
      },
      "execution_count": null,
      "outputs": [
        {
          "output_type": "stream",
          "name": "stdout",
          "text": [
            "(1,)\n",
            "{1: 2, 3: 4, 4: 2}\n",
            "[1]\n"
          ]
        }
      ]
    },
    {
      "cell_type": "markdown",
      "source": [
        "# Default Arguments, Key-word arguments, & Function calling in another function"
      ],
      "metadata": {
        "id": "lYnHEvK_6n7r"
      }
    },
    {
      "cell_type": "code",
      "source": [
        "def default(x = int(input('Number: ')), y = 'haha.'):\n",
        "  print('If we call the function without argument, it uses the default value:', x, y)\n",
        "default()\n",
        "default('One argument was given this time,')"
      ],
      "metadata": {
        "colab": {
          "base_uri": "https://localhost:8080/"
        },
        "id": "kX0CDfGYv1b5",
        "outputId": "9c7faa02-cbc5-4748-d5c9-0f89b4496974"
      },
      "execution_count": null,
      "outputs": [
        {
          "output_type": "stream",
          "name": "stdout",
          "text": [
            "Number: 11\n",
            "If we call the function without argument, it uses the default value: 11 haha.\n",
            "If we call the function without argument, it uses the default value: One argument was given this time, haha.\n"
          ]
        }
      ]
    },
    {
      "cell_type": "code",
      "source": [
        "'''1. In Python, when defining a function, all default arguments must come after non-default arguments.\n",
        "   2. Must provide values for all non-default parameters. And remember: Python always takes the arguments serially if key words arguments are not used.\n",
        "   3. Keyword arguments should always come after positional arguments.\n",
        "   4. Mustn't pass multiple values for one argument.\n",
        "   Examples given below:\n",
        "'''\n",
        "\n",
        "# def student_info(name, id=00000, hobby, address='N/A'):\n",
        "# def student_info(name, id=00000, address='N/A', hobby):\n",
        "# SyntaxError: non-default argument follows default argument\n",
        "\n",
        "def student_info(name, hobby, id=00000, address='N/A'):\n",
        "  print('Name:',name)\n",
        "  print('Id:',id)\n",
        "  print('Address:',address)\n",
        "  print('Hobby:', hobby)\n",
        "\n",
        "# student_info('Jim') # only name given. ***TypeError: student_info() missing 1 required positional argument: 'hobby'***\n",
        "\n",
        "# student_info('Apurbo', hobby = 'this time', 'it', id = 'corrected') ***SyntaxError: positional argument follows keyword argument***\n",
        "#                                               ^ cannot be here.\n",
        "\n",
        "# student_info('Apurbo', 'this time', 'it', id = 'corrected') ***TypeError: student_info() got multiple values for argument 'id'***\n",
        "#                           ^ -->                     ^ two values given for id.\n",
        "\n",
        "student_info('Apurbo', id = 23301233, hobby = 'Nothing.\\n')\n",
        "student_info('Apurba', 'Singing', '23301233', 'Why do you need the address! XD')"
      ],
      "metadata": {
        "colab": {
          "base_uri": "https://localhost:8080/"
        },
        "id": "6dSKGkJArQ04",
        "outputId": "41e0feb1-1be5-4937-b513-084d34db45fe"
      },
      "execution_count": null,
      "outputs": [
        {
          "output_type": "stream",
          "name": "stdout",
          "text": [
            "Name: Apurbo\n",
            "Id: 23301233\n",
            "Address: N/A\n",
            "Hobby: Nothing.\n",
            "\n",
            "Name: Apurba\n",
            "Id: 23301233\n",
            "Address: Why do you need the address! XD\n",
            "Hobby: Singing\n"
          ]
        }
      ]
    },
    {
      "cell_type": "code",
      "source": [
        "# Key word arguments:\n",
        "def order(x, y, z):\n",
        "  return (x*y)/z\n",
        "Value = order(z = 111, x = 33, y = int(input('Number: ')))\n",
        "print(order(z = 6, x = 33, y = 6))\n",
        "print(Value)"
      ],
      "metadata": {
        "colab": {
          "base_uri": "https://localhost:8080/"
        },
        "id": "oCdBk-gnv3oM",
        "outputId": "a6d7b46f-8b87-472e-fba7-53f331727d34"
      },
      "execution_count": null,
      "outputs": [
        {
          "output_type": "stream",
          "name": "stdout",
          "text": [
            "Number: 12\n",
            "33.0\n",
            "3.5675675675675675\n"
          ]
        }
      ]
    },
    {
      "cell_type": "code",
      "source": [
        "# You can call a function to another function.\n",
        "def calling(var):\n",
        "  return var * order(6, 2, 3)\n",
        "print(calling(10))"
      ],
      "metadata": {
        "colab": {
          "base_uri": "https://localhost:8080/"
        },
        "id": "w0HDaWl_v0y6",
        "outputId": "1bf54c48-6872-49ce-9d02-939941e3fb8b"
      },
      "execution_count": null,
      "outputs": [
        {
          "output_type": "stream",
          "name": "stdout",
          "text": [
            "40.0\n"
          ]
        }
      ]
    },
    {
      "cell_type": "markdown",
      "source": [
        "# Tuples and Dictionaries"
      ],
      "metadata": {
        "id": "YAc0d-s7tuSB"
      }
    },
    {
      "cell_type": "code",
      "source": [
        "def f():\n",
        "  return ('abc')\n",
        "print(f())\n",
        "\n",
        "def f():\n",
        "  li = [12, 'bh']\n",
        "  dic = {'a': 1, 'b': 'c'}\n",
        "  return 12, 32, 45, 'abc', li, (1, 'h00'), dic # It returns a tuple with the elements\n",
        "\n",
        "print(f())\n",
        "print(f()[1:3])\n",
        "\n",
        "a, b = f()[0:2]  # Tuple unpacking\n",
        "print(a, b)"
      ],
      "metadata": {
        "colab": {
          "base_uri": "https://localhost:8080/"
        },
        "id": "KEr1YYqFuBgN",
        "outputId": "a274e300-bf4b-4fbe-c35c-6036850e116e"
      },
      "execution_count": null,
      "outputs": [
        {
          "output_type": "stream",
          "name": "stdout",
          "text": [
            "abc\n",
            "(12, 32, 45, 'abc', [12, 'bh'], (1, 'h00'), {'a': 1, 'b': 'c'})\n",
            "(32, 45)\n",
            "12 32\n"
          ]
        }
      ]
    },
    {
      "cell_type": "code",
      "source": [
        "# Using * means the function will receive a tuple of arguments.\n",
        "def tup(*t):\n",
        "  print(t[1:3])\n",
        "  print(t)\n",
        "tup('string', 123, ('More', 'tuple'), ['A', 'list'])\n",
        "tup(5) # t != 5; Here, t = (5,) tuple.\n",
        "tup() # t by default = ()"
      ],
      "metadata": {
        "colab": {
          "base_uri": "https://localhost:8080/"
        },
        "id": "9gTcrsTwtvFx",
        "outputId": "da2f7c97-82a0-4c2c-89a6-f0e04225a2fb"
      },
      "execution_count": null,
      "outputs": [
        {
          "output_type": "stream",
          "name": "stdout",
          "text": [
            "(123, ('More', 'tuple'))\n",
            "('string', 123, ('More', 'tuple'), ['A', 'list'])\n",
            "()\n",
            "(5,)\n",
            "()\n",
            "()\n"
          ]
        }
      ]
    },
    {
      "cell_type": "code",
      "source": [
        "def tuples(t1, *t2, t3):\n",
        "  return t1 + t2 + t3\n",
        "# print(tuples(1, 2, 3, 4))  --> TypeError: tuples() missing 1 required keyword-only argument: 't3'\n",
        "# print(tuples(1, 3, t3 = 4))  --> TypeError: unsupported operand type(s) for +: 'int' and 'tuple'\n",
        "# print(tuples(1, 2, 3, t3 = 4))  --> TypeError: unsupported operand type(s) for +: 'int' and 'tuple'\n",
        "# print(tuples((1,), (2, 3), t3 = 4)) --> TypeError: can only concatenate tuple (not \"int\") to tuple\n",
        "print(tuples((1, ), (2, 2), t3 = (1, 2)))\n",
        "\n",
        "def tups_nums(*t1, n1, l1):\n",
        "  return t1, n1, l1\n",
        "print(tups_nums(1, 2, n1 = 3, l1 = [1, 2]))"
      ],
      "metadata": {
        "colab": {
          "base_uri": "https://localhost:8080/"
        },
        "id": "vCCBPveUSh-w",
        "outputId": "a2559652-6408-451d-f564-17978f254b8a"
      },
      "execution_count": null,
      "outputs": [
        {
          "output_type": "stream",
          "name": "stdout",
          "text": [
            "(1, (2, 2), 1, 2)\n",
            "((1, 2), 3, [1, 2])\n"
          ]
        }
      ]
    },
    {
      "cell_type": "code",
      "source": [
        "# checking the id's\n",
        "def idCheck(*t):\n",
        "  return id(t)\n",
        "id1 = idCheck(4)\n",
        "id2 = idCheck(1, 2)\n",
        "print(id1 == id2)"
      ],
      "metadata": {
        "colab": {
          "base_uri": "https://localhost:8080/"
        },
        "id": "GnVricSLyKX6",
        "outputId": "2aff3f1e-5683-4dc5-8b32-cd5121d87b75"
      },
      "execution_count": null,
      "outputs": [
        {
          "output_type": "stream",
          "name": "stdout",
          "text": [
            "False\n"
          ]
        }
      ]
    },
    {
      "cell_type": "code",
      "source": [
        "# Using ** means the function will receive a dictionary of arguments.\n",
        "def dic(**d):\n",
        "  print(d.items())\n",
        "dic(string = ['Keys', 'of a dict'], num = ('can', 'be'), tuples = 'str, numbers and tuples.')\n",
        "# Here, d = {'string':['Keys', 'of a dict'], 'num':('can', 'be'), 'tuples':'str, numbers and tuples.'}\n",
        "\n",
        "dic() # dic by default = {}"
      ],
      "metadata": {
        "colab": {
          "base_uri": "https://localhost:8080/"
        },
        "id": "wTdfMWTOtnmG",
        "outputId": "4a2d59e8-f6ae-4189-a566-9263504736f2"
      },
      "execution_count": null,
      "outputs": [
        {
          "output_type": "stream",
          "name": "stdout",
          "text": [
            "dict_items([('string', ['Keys', 'of a dict']), ('num', ('can', 'be')), ('tuples', 'str, numbers and tuples.')])\n",
            "dict_items([])\n"
          ]
        }
      ]
    },
    {
      "cell_type": "code",
      "source": [
        "def t_printer(*t):\n",
        "  print('The tuple:', t, *t)\n",
        "\n",
        "def dic_printer(**d):\n",
        "  print('The dictionary:', d)\n",
        "  #print('The dictionary:', **d) #TypeError: 'a' is an invalid keyword argument for print()\n",
        "\n",
        "def t_and_d(*t, **d):\n",
        "  print('Tuple and Dictionary!')\n",
        "  t_printer(*t)\n",
        "  t_printer(t)\n",
        "  dic_printer(**d)\n",
        "  #dic_printer(d) #TypeError: dic_printer() takes 0 positional arguments but 1 was given\n",
        "\n",
        "t_and_d(1)\n",
        "print('#########################################')\n",
        "t_and_d(1, a = 1, b = 2)"
      ],
      "metadata": {
        "colab": {
          "base_uri": "https://localhost:8080/"
        },
        "id": "E9g35LJN_gLK",
        "outputId": "4a7e4bd0-5116-4375-c684-451f1b59dc5c"
      },
      "execution_count": null,
      "outputs": [
        {
          "output_type": "stream",
          "name": "stdout",
          "text": [
            "Tuple and Dictionary!\n",
            "The tuple: (1,) 1\n",
            "The tuple: ((1,),) (1,)\n",
            "The dictionary: {}\n",
            "#########################################\n",
            "Tuple and Dictionary!\n",
            "The tuple: (1,) 1\n",
            "The tuple: ((1,),) (1,)\n",
            "The dictionary: {'a': 1, 'b': 2}\n"
          ]
        }
      ]
    }
  ]
}