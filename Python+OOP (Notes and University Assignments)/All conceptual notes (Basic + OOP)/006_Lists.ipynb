{
  "nbformat": 4,
  "nbformat_minor": 0,
  "metadata": {
    "colab": {
      "provenance": [],
      "authorship_tag": "ABX9TyNKtrvQTwo8GTAr+5hjB9lc",
      "include_colab_link": true
    },
    "kernelspec": {
      "name": "python3",
      "display_name": "Python 3"
    },
    "language_info": {
      "name": "python"
    }
  },
  "cells": [
    {
      "cell_type": "markdown",
      "metadata": {
        "id": "view-in-github",
        "colab_type": "text"
      },
      "source": [
        "<a href=\"https://colab.research.google.com/github/ApurbaKumarNath/python-oop/blob/main/Python%2BOOP%20(Notes%20and%20University%20Assignments)/All%20conceptual%20notes%20(Basic%20%2B%20OOP)/006_Lists.ipynb\" target=\"_parent\"><img src=\"https://colab.research.google.com/assets/colab-badge.svg\" alt=\"Open In Colab\"/></a>"
      ]
    },
    {
      "cell_type": "code",
      "execution_count": null,
      "metadata": {
        "colab": {
          "base_uri": "https://localhost:8080/"
        },
        "id": "qMUfjhaWGxjQ",
        "outputId": "b9895c10-0a9e-4290-dc86-49bce3256203"
      },
      "outputs": [
        {
          "output_type": "stream",
          "name": "stdout",
          "text": [
            "a\n",
            "b\n",
            "------------------------------------------------\n",
            "a\n",
            "bb\n",
            "c\n",
            "------------------------------------------------\n",
            "a\n",
            "bb\n",
            "c\n",
            "------------------------------------------------\n",
            "('a\\nb', 'b\\nc')\n",
            "['a\\nb', 'b\\nc']\n",
            "------------------------------------------------\n",
            "a\n",
            "b\n",
            "b\n",
            "c\n",
            "#################################################\n",
            "['abc', 123, 12.3, True, False, [123, 1]]\n",
            "6\n",
            "<class 'list'>\n",
            "\n"
          ]
        }
      ],
      "source": [
        "# List is a built-in data structure in Python, it is mutable, and list items are indexed.\n",
        "\n",
        "# One basic concept:\n",
        "a = 'a\\nb'\n",
        "print(a)\n",
        "print('------------------------------------------------')\n",
        "b = 'b\\nc'\n",
        "st1 = a + b\n",
        "print(st1)\n",
        "print('------------------------------------------------')\n",
        "st2 = (a + b)\n",
        "print(st2)\n",
        "print('------------------------------------------------')\n",
        "st3 = a, b\n",
        "print(st3)\n",
        "li = [a, b]\n",
        "print(li)\n",
        "print('------------------------------------------------')\n",
        "for i in li:\n",
        "  print(i)\n",
        "print('#################################################')\n",
        "\n",
        "\n",
        "# More examples:\n",
        "List_Example = ['abc', 123, 12.3, True, False, [123, 1]]\n",
        "print(List_Example)\n",
        "print(len(List_Example))\n",
        "print(type(List_Example)) #From Python's perspective, lists are defined as objects with the data type 'list'. Data type of a list = list.\n",
        "\n",
        "'''\n",
        "There are four collection data types in the Python programming language:\n",
        "\n",
        "List is a collection which is mutable.\n",
        "Tuple is a collection which is immutable.\n",
        "Set is a collection which is unordered, unchangeable*, and unindexed. No duplicate members.\n",
        "Dictionary is a collection which is ordered** and changeable. No duplicate members.\n",
        "'''\n",
        "print()\n",
        "# See more list methods from here: https://www.w3schools.com/python/python_lists_methods.asp"
      ]
    },
    {
      "cell_type": "code",
      "source": [
        "List_Constructor = list(('abc', 123, 12.3, True, False)) # turning a tuple into a list using list constructor\n",
        "str_to_list = list('abc') # turning a string into a list using list constructor\n",
        "print(List_Constructor)\n",
        "print(str_to_list)\n",
        "print('------------------------------------------------')\n",
        "list_to_str = str(List_Constructor) # turning a list into a string using str constructor\n",
        "print(list_to_str)\n",
        "print(type(list_to_str))\n",
        "print('------------------------------------------------')\n",
        "OneItem = ['One itemed list.',]; print(OneItem)"
      ],
      "metadata": {
        "id": "05q0t4yclc5P",
        "colab": {
          "base_uri": "https://localhost:8080/"
        },
        "outputId": "da355c4d-9afc-49e3-8fcb-855223a9770c"
      },
      "execution_count": null,
      "outputs": [
        {
          "output_type": "stream",
          "name": "stdout",
          "text": [
            "['abc', 123, 12.3, True, False]\n",
            "['a', 'b', 'c']\n",
            "------------------------------------------------\n",
            "['abc', 123, 12.3, True, False]\n",
            "<class 'str'>\n",
            "------------------------------------------------\n",
            "['One itemed list.']\n"
          ]
        }
      ]
    },
    {
      "cell_type": "code",
      "source": [
        "# Accessing List items\n",
        "List_Example = ['abc', 123, 12.3, True, False, 123]\n",
        "print(List_Example[1], List_Example[2], List_Example[-2]) # List items are indexed.\n",
        "print(List_Example[0:3], List_Example[-1:-4:-1]) # Specified range of indexes.\n",
        "OneItem = ['One itemed list.']; print(OneItem[-1])\n",
        "if \"apple\" in List_Example:\n",
        "  print(\"Yes, 'apple' is in the fruits list\")"
      ],
      "metadata": {
        "colab": {
          "base_uri": "https://localhost:8080/"
        },
        "id": "Ahu5HtDzk4no",
        "outputId": "803b10ae-2db5-437d-c8bb-24084d1dcf36"
      },
      "execution_count": null,
      "outputs": [
        {
          "output_type": "stream",
          "name": "stdout",
          "text": [
            "123 12.3 False\n",
            "['abc', 123, 12.3] [123, False, True]\n",
            "One itemed list.\n"
          ]
        }
      ]
    },
    {
      "cell_type": "code",
      "source": [
        "# Changing/replacing List item values\n",
        "\n",
        "List_Example = ['abc', 123, 12.3, True, False, 123, '6', '7', 9]\n",
        "List_Example[1] = 'akn'\n",
        "List_Example[2] = 1, 'tuple'\n",
        "List_Example[3:4] = 'e3w', ['new', 'list']\n",
        "List_Example[5:7] = True, 'Madness'\n",
        "print(List_Example)"
      ],
      "metadata": {
        "colab": {
          "base_uri": "https://localhost:8080/"
        },
        "id": "Ao8eUoJvmE2y",
        "outputId": "c2e3786c-3aa7-40b5-b52a-6180b9d695d1"
      },
      "execution_count": null,
      "outputs": [
        {
          "output_type": "stream",
          "name": "stdout",
          "text": [
            "['abc', 'akn', (1, 'tuple'), 'e3w', ['new', 'list'], True, 'Madness', '6', '7', 9]\n"
          ]
        }
      ]
    },
    {
      "cell_type": "code",
      "source": [
        "new = []\n",
        "new[3:6] = 'Ha'\n",
        "# new[0:3] = 123 # 'TypeError: can only assign an iterable'\n",
        "new[7:150] = 'TypeError'\n",
        "new[88:150] = 1, 2\n",
        "new[90:150] = [3, 4, 5]\n",
        "new[93:150] = (6, 7)\n",
        "new[95:150] = {8: 'Hi', 9: \"Only keys will be taken\"}\n",
        "\n",
        "# new[len(new)] =10; new[164] = 11 # IndexError: list assignment index out of range.\n",
        "new[len(new):len(new)+1] = 10, # A fun way to append.\n",
        "\n",
        "print(new)\n",
        "print(len(new))\n",
        "print(new[95:150])"
      ],
      "metadata": {
        "colab": {
          "base_uri": "https://localhost:8080/"
        },
        "id": "4wCI89v9pkzt",
        "outputId": "ecd04bfa-b5b3-4bdc-ffbb-55f0d7b2c339"
      },
      "execution_count": null,
      "outputs": [
        {
          "output_type": "stream",
          "name": "stdout",
          "text": [
            "['H', 'a', 'T', 'y', 'p', 'e', 'E', 'r', 'r', 'o', 'r', 1, 2, 3, 4, 5, 6, 7, 8, 9, 10]\n",
            "21\n",
            "[]\n"
          ]
        }
      ]
    },
    {
      "cell_type": "code",
      "source": [
        "# Adding items\n",
        "List_Example = ['abc', 123, 12.3, True, False, 123]\n",
        "List_Example.insert(2, 'G') # Item in index 2 will move to right and 'G' will be in index 2.\n",
        "List_Example.append([1, 2])\n",
        "List_Example.extend((4, 3)) # This appends the items from (iterable objects only)\n",
        "print(List_Example)"
      ],
      "metadata": {
        "colab": {
          "base_uri": "https://localhost:8080/"
        },
        "id": "-_5PTTksvSxC",
        "outputId": "065ec5fe-3769-490e-f99e-f4bae9b6453f"
      },
      "execution_count": null,
      "outputs": [
        {
          "output_type": "stream",
          "name": "stdout",
          "text": [
            "['abc', 123, 'G', 12.3, True, False, 123, [1, 2], 4, 3]\n"
          ]
        }
      ]
    },
    {
      "cell_type": "code",
      "source": [
        "# A simple concept:\n",
        "x = y = False\n",
        "y = True\n",
        "print(x) # bool works like immutable objects like tuples\n",
        "\n",
        "x = y = [1, 2, 3]\n",
        "y.append(1)\n",
        "print(x) # x will change"
      ],
      "metadata": {
        "id": "a6R_tn8mKIjx"
      },
      "execution_count": null,
      "outputs": []
    },
    {
      "cell_type": "code",
      "source": [
        "# Removing items\n",
        "List_Example = ['abc', 123, 12.3, True, False, 123, '22']\n",
        "List_Example.remove(123)\n",
        "removed_val1 = List_Example.pop(2) # Removes specific index value. pop() method also returns values.\n",
        "removed_val2 = List_Example.pop() # Removes last item\n",
        "del List_Example[0] # This also removes specified indexes\n",
        "\n",
        "print(List_Example)\n",
        "print(removed_val1, removed_val2)\n",
        "\n",
        "del List_Example[:] # This will make the list empty\n",
        "print(List_Example)\n",
        "# del List_Example # This will delete the list completely\n",
        "\n",
        "List_Example = [1, 2, 3]\n",
        "del List_Example[0:2]\n",
        "print(List_Example)\n",
        "\n",
        "List_Example.clear() # This also empties the list.\n",
        "print(List_Example)"
      ],
      "metadata": {
        "colab": {
          "base_uri": "https://localhost:8080/"
        },
        "id": "JH3ub7kKyrvh",
        "outputId": "bd84f184-2ad9-4cce-e597-a18bc4ccf480"
      },
      "execution_count": null,
      "outputs": [
        {
          "output_type": "stream",
          "name": "stdout",
          "text": [
            "[12.3, False, 123]\n",
            "True 22\n",
            "[]\n",
            "[3]\n",
            "[]\n"
          ]
        }
      ]
    },
    {
      "cell_type": "code",
      "source": [
        "# To remove items while iterating, you shouldn't use the list directly to loop.\n",
        "li = [123, 123, 123]\n",
        "print(len(li[:]))\n",
        "\n",
        "for i in li[:]: # li[:] / li.copy() / list(li) / reversed(li) / range(len(li)) --> all these ways work for not iterating over the main list.\n",
        "  li.remove(123)\n",
        "print(li)\n",
        "\n",
        "# li[:] / li.copy() / list(li) creates a shallow copy of the list.\n",
        "# reversed(li) goes right to left. Thus, it works.\n",
        "# range(len(li)); once a range is set, it is set permanently. If used in this case, range will be set to 3. So, it iterated 3 times over.\n",
        "# But if you used pop method using range:\n",
        "'''\n",
        "li = [123, 123, 123]\n",
        "for i in range(len(li)):\n",
        "  li.pop(i)  # you must know what the mistake is here. IndexError: pop index out of range\n",
        "print(li)\n",
        "'''\n",
        "print()\n",
        "# Every time you remove an item, the next item's index becomes the previous index, and it goes on."
      ],
      "metadata": {
        "colab": {
          "base_uri": "https://localhost:8080/"
        },
        "id": "PrxTw0CC3Iye",
        "outputId": "9af62501-a222-4798-e4a1-a6e450c76182"
      },
      "execution_count": null,
      "outputs": [
        {
          "output_type": "stream",
          "name": "stdout",
          "text": [
            "3\n",
            "[]\n",
            "\n"
          ]
        }
      ]
    },
    {
      "cell_type": "code",
      "source": [
        "li = [123, 123, 123]\n",
        "while True:\n",
        "  li.remove(123)\n",
        "  if 123 not in li:\n",
        "    break\n",
        "print(li)"
      ],
      "metadata": {
        "colab": {
          "base_uri": "https://localhost:8080/"
        },
        "id": "VxV7F8_B6gJY",
        "outputId": "78eb9bf6-f3de-46b1-93ea-6f988a5ffd36"
      },
      "execution_count": null,
      "outputs": [
        {
          "output_type": "stream",
          "name": "stdout",
          "text": [
            "[]\n"
          ]
        }
      ]
    },
    {
      "cell_type": "code",
      "source": [
        "li = [123, 123, 123]\n",
        "i = 0\n",
        "while i < len(li):\n",
        "  li.remove(123)\n",
        "print(li)"
      ],
      "metadata": {
        "colab": {
          "base_uri": "https://localhost:8080/"
        },
        "id": "JPoxQ74n6mmL",
        "outputId": "c9061432-9e1c-4870-954c-9d7b0c083611"
      },
      "execution_count": null,
      "outputs": [
        {
          "output_type": "stream",
          "name": "stdout",
          "text": [
            "[]\n"
          ]
        }
      ]
    },
    {
      "cell_type": "code",
      "source": [
        "# Looping through lists\n",
        "List_Example = ['abc', 123, 12.3, True, False, 123]\n",
        "for x in List_Example:\n",
        "  print(x, end = '. ')\n",
        "for f in range(0, len(List_Example), 2):\n",
        "  print(List_Example[f], end = '. ')\n",
        "l = 0\n",
        "while l<len(List_Example):\n",
        "  print(List_Example[l], end = '. ')\n",
        "  l += 1"
      ],
      "metadata": {
        "id": "Zp1jgu4H1GpB",
        "colab": {
          "base_uri": "https://localhost:8080/"
        },
        "outputId": "1c8ba28d-93fa-4c8b-f7f8-b564077b078c"
      },
      "execution_count": null,
      "outputs": [
        {
          "output_type": "stream",
          "name": "stdout",
          "text": [
            "abc. 123. 12.3. True. False. 123. abc. 12.3. False. abc. 123. 12.3. True. False. 123. "
          ]
        }
      ]
    },
    {
      "cell_type": "code",
      "source": [
        "# Now explaining List comprehension:\n",
        "print('List comprehension examples:')\n",
        "\n",
        "List_Example = ['abc', 123, 12.3, True, False, 123]\n",
        "\n",
        "# 1st example:\n",
        "[print(x, end = ' ') for x in List_Example]; print() # This will iterate and print.\n",
        "print('------------------------------------------------')\n",
        "# 2nd example of the same thing. But this will iterate differently.\n",
        "x = [x for x in List_Example]\n",
        "print(x) # This basically shows the list normally.\n",
        "print('------------------------------------------------')\n",
        "print(x == List_Example)"
      ],
      "metadata": {
        "id": "jKCLMhSHZtCg",
        "colab": {
          "base_uri": "https://localhost:8080/"
        },
        "outputId": "19987cbc-df53-4ac5-f3e0-bacb0a1e09a4"
      },
      "execution_count": null,
      "outputs": [
        {
          "output_type": "stream",
          "name": "stdout",
          "text": [
            "List comprehension examples:\n",
            "abc 123 12.3 True False 123 \n",
            "------------------------------------------------\n",
            "['abc', 123, 12.3, True, False, 123]\n",
            "------------------------------------------------\n",
            "True\n"
          ]
        }
      ]
    },
    {
      "cell_type": "code",
      "source": [
        "# List comprehension with range():\n",
        "[print(y*y, end = ' ') for y in range(1,11)]\n",
        "print()\n",
        "\n",
        "# You can also do this:\n",
        "y = range(1,11)\n",
        "t = [v*v for v in y]\n",
        "print(t) # But remember that printing like this will give a list.\n",
        "\n",
        "rr = [x for x in range(10) if x<5] # Using if.\n",
        "print(rr)"
      ],
      "metadata": {
        "colab": {
          "base_uri": "https://localhost:8080/"
        },
        "id": "qMutjrjwtwUk",
        "outputId": "3ec02795-a538-4ce4-8a76-8f7685e452d1"
      },
      "execution_count": null,
      "outputs": [
        {
          "output_type": "stream",
          "name": "stdout",
          "text": [
            "1 4 9 16 25 36 49 64 81 100 \n",
            "[1, 4, 9, 16, 25, 36, 49, 64, 81, 100]\n",
            "[0, 1, 2, 3, 4]\n"
          ]
        }
      ]
    },
    {
      "cell_type": "code",
      "source": [
        "# Now, let's see more uses of if here:\n",
        "'''\n",
        "List_Example = ['abc', 123, 12.3, True, False, 123]\n",
        "v = [x for x in List_Example if 'a' in x]\n",
        "print(v)\n",
        "This won't work because List_Example has non-iterable data types in it.\n",
        "To make it work, we need a list with iterable data types.\n",
        "'''\n",
        "\n",
        "value = ['b', 'abc', '54rh', 'kakaTrue', (12,)]\n",
        "v = [x for x in value if 'a' in x]\n",
        "print(v)\n",
        "\n",
        "c = [x for x in value if x != \"b\"] # This means only show the values except b.\n",
        "print(c)\n",
        "\n",
        "s = [y if y != \"b\" else \"ball\" for y in value] # This will replace b with ball.\n",
        "print(s)\n",
        "\n",
        "u = ['Hi' for x in value] # You can choose to print anything.\n",
        "print(u)\n",
        "\n",
        "o = [x.upper() for x in value[:len(value)-1]] # All outcome will be in uppercase.\n",
        "print(o)"
      ],
      "metadata": {
        "colab": {
          "base_uri": "https://localhost:8080/"
        },
        "id": "g4Oi5i4cuq1L",
        "outputId": "7e32c0ec-407a-4952-ed0e-6b762dad7393"
      },
      "execution_count": null,
      "outputs": [
        {
          "output_type": "stream",
          "name": "stdout",
          "text": [
            "['abc', 'kakaTrue']\n",
            "['abc', '54rh', 'kakaTrue', (12,)]\n",
            "['ball', 'abc', '54rh', 'kakaTrue', (12,)]\n",
            "['Hi', 'Hi', 'Hi', 'Hi', 'Hi']\n",
            "['B', 'ABC', '54RH', 'KAKATRUE']\n"
          ]
        }
      ]
    },
    {
      "cell_type": "code",
      "source": [
        "# Now we will see sorting lists:\n",
        "print('Sorting list examples:')\n",
        "\n",
        "abc = ['b', 'd', 'cat', 'abc']\n",
        "abc.sort() # This will sort alphabetically.\n",
        "print(abc)\n",
        "print(abc.sort()) # returns None to the .sort() method.\n",
        "\n",
        "a12 = [2, 13, 212, 1, 0, 0.9, -21]\n",
        "a12.sort() # Numerical sorting.\n",
        "print(a12)\n",
        "print('------------------------------------------------')\n",
        "\n",
        "# Now if you want them reversed:\n",
        "abc.sort(reverse= True); a12.sort(reverse= True)\n",
        "print(abc); print(a12)\n",
        "print('------------------------------------------------')\n",
        "\n",
        "# Now if you simply want to reverse the order (without sorting it and reversing it after sorting):\n",
        "abc.reverse(); print(abc)\n",
        "a12.reverse(); print(a12)\n",
        "print(a12.reverse())\n",
        "print('------------------------------------------------')\n",
        "\n",
        "# Capital letters sort before smaller letters.\n",
        "ab = ['B', 'a', 'C', 'b']; ab.sort(); print(ab)\n",
        "\n",
        "# To avoid this and sort alphabetically and have capital and small letters at the same time:\n",
        "ab.sort(key= str.lower) # You can also customize your own function by using the keyword argument key = function.\n",
        "print(ab)"
      ],
      "metadata": {
        "id": "XYXYizqxaM6A",
        "colab": {
          "base_uri": "https://localhost:8080/"
        },
        "outputId": "3f466915-94aa-4eaa-d84c-e7612235efe0"
      },
      "execution_count": null,
      "outputs": [
        {
          "output_type": "stream",
          "name": "stdout",
          "text": [
            "Sorting list examples:\n",
            "['abc', 'b', 'cat', 'd']\n",
            "None\n",
            "[-21, 0, 0.9, 1, 2, 13, 212]\n",
            "------------------------------------------------\n",
            "['d', 'cat', 'b', 'abc']\n",
            "[212, 13, 2, 1, 0.9, 0, -21]\n",
            "------------------------------------------------\n",
            "['abc', 'b', 'cat', 'd']\n",
            "[-21, 0, 0.9, 1, 2, 13, 212]\n",
            "None\n",
            "------------------------------------------------\n",
            "['B', 'C', 'a', 'b']\n",
            "['a', 'B', 'b', 'C']\n"
          ]
        }
      ]
    },
    {
      "cell_type": "code",
      "source": [
        "# Sorting (using key) and working with a function\n",
        "def exm(n): # Here exm(n) is a function.\n",
        "  return n*n\n",
        "print(exm(10))\n",
        "\n",
        "a12 = [2, 13, 212, 1, 0, 0.9, -21]\n",
        "# Now using a different type of function with key argument:\n",
        "def ex(x):\n",
        "  return abs(x - 10) # Here abs = absolute. This means absolute value. e.g. abs(-50)= 50.\n",
        "\n",
        "a12.sort(key= ex) # ex function will be used to sort here. The numbers closest to 10 will appear first and so on.\n",
        "print(a12) # Remember you aren't subtracting here."
      ],
      "metadata": {
        "colab": {
          "base_uri": "https://localhost:8080/"
        },
        "id": "8Z1htp-12Gp9",
        "outputId": "d96fbe19-bbf5-40b5-b2a3-3aa432926f59"
      },
      "execution_count": null,
      "outputs": [
        {
          "output_type": "stream",
          "name": "stdout",
          "text": [
            "100\n",
            "[13, 2, 1, 0.9, 0, -21, 212]\n"
          ]
        }
      ]
    },
    {
      "cell_type": "code",
      "source": [
        "# Now we will see Copying lists:\n",
        "print('Copying lists examples:')\n",
        "\n",
        "copy1 = abc.copy(); print(copy1) # This is one way of copying. Another is:\n",
        "\n",
        "copy2 = list(abc); print(copy2) # There are other ways too."
      ],
      "metadata": {
        "id": "iIcx209KaX5R",
        "colab": {
          "base_uri": "https://localhost:8080/"
        },
        "outputId": "836dbfda-f7f3-4bbb-dd5c-cd6522bc6c67"
      },
      "execution_count": null,
      "outputs": [
        {
          "output_type": "stream",
          "name": "stdout",
          "text": [
            "Copying lists examples:\n",
            "['abc', 'b', 'cat', 'd']\n",
            "['abc', 'b', 'cat', 'd']\n"
          ]
        }
      ]
    },
    {
      "cell_type": "code",
      "source": [
        "# Now we will see joining lists:\n",
        "\n",
        "joined = copy1 + a12\n",
        "print(joined)\n",
        "\n",
        "copy1 += a12\n",
        "print(copy1)\n",
        "\n",
        "# Another way of joining:\n",
        "for x in a12:\n",
        "  ab.append(x)\n",
        "print(ab)\n",
        "\n",
        "# One more way of joining:\n",
        "abc.extend(a12)\n",
        "print(abc)"
      ],
      "metadata": {
        "id": "VUUk8q0aafwQ",
        "colab": {
          "base_uri": "https://localhost:8080/"
        },
        "outputId": "17b1e076-b5c1-4a65-ff16-457a49f81985"
      },
      "execution_count": null,
      "outputs": [
        {
          "output_type": "stream",
          "name": "stdout",
          "text": [
            "['abc', 'b', 'cat', 'd', 13, 2, 1, 0.9, 0, -21, 212]\n",
            "['abc', 'b', 'cat', 'd', 13, 2, 1, 0.9, 0, -21, 212]\n",
            "['a', 'B', 'b', 'C', 13, 2, 1, 0.9, 0, -21, 212]\n",
            "['abc', 'b', 'cat', 'd', 13, 2, 1, 0.9, 0, -21, 212]\n"
          ]
        }
      ]
    }
  ]
}