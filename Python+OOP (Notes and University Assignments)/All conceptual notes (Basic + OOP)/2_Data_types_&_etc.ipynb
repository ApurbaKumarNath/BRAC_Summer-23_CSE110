{
  "nbformat": 4,
  "nbformat_minor": 0,
  "metadata": {
    "colab": {
      "provenance": [],
      "authorship_tag": "ABX9TyNm4AjsxJ04gmrneSef8qP5",
      "include_colab_link": true
    },
    "kernelspec": {
      "name": "python3",
      "display_name": "Python 3"
    },
    "language_info": {
      "name": "python"
    }
  },
  "cells": [
    {
      "cell_type": "markdown",
      "metadata": {
        "id": "view-in-github",
        "colab_type": "text"
      },
      "source": [
        "<a href=\"https://colab.research.google.com/github/ApurbaKumarNath/python-oop/blob/main/Python%2BOOP%20(Notes%20and%20University%20Assignments)/All%20conceptual%20notes%20(Basic%20%2B%20OOP)/2_Data_types_%26_etc.ipynb\" target=\"_parent\"><img src=\"https://colab.research.google.com/assets/colab-badge.svg\" alt=\"Open In Colab\"/></a>"
      ]
    },
    {
      "cell_type": "markdown",
      "source": [
        "Check this page: https://www.w3schools.com/python/python_operators.asp"
      ],
      "metadata": {
        "id": "PrhfAn3rW8PW"
      }
    },
    {
      "cell_type": "markdown",
      "source": [
        "Variable naming conventions\n",
        "\n",
        "* **Can have letters (A-Z and a-z), digits(0-9), and underscores (_)**\n",
        "\n",
        "* Should maintain snake_casing. That means each word should be separated by underscores(_)\n",
        "\n",
        "* **Cannot begin with digits**\n",
        "\n",
        "* Cannot have whitespace and special signs (e.g.: +, -, !, @, $, #, %.)\n",
        "\n",
        "* **Are case sensitive meaning ABC, Abc, abc are three different variables.**\n",
        "\n",
        "* Have to be meaningful with the data stored in it\n",
        "\n",
        "* Cannot be too lengthy and too general, need to have a balance\n",
        "\n",
        "* Should not be written with single alphabets. Minimum length should be 3.\n",
        "\n",
        "* **Cannot be a reserved keyword for Python. There are a total of 35 keywords. (For example: True, del, def, for, if, is, in etc.)**"
      ],
      "metadata": {
        "id": "o0-FnOQc180b"
      }
    },
    {
      "cell_type": "code",
      "source": [
        "x = None; print(type(x))"
      ],
      "metadata": {
        "colab": {
          "base_uri": "https://localhost:8080/"
        },
        "id": "n2Y1KIaa2Yg5",
        "outputId": "8656e633-4553-411c-f831-7a72f87a7e19"
      },
      "execution_count": null,
      "outputs": [
        {
          "output_type": "stream",
          "name": "stdout",
          "text": [
            "<class 'NoneType'>\n"
          ]
        }
      ]
    },
    {
      "cell_type": "markdown",
      "source": [
        "Data types\\\n",
        "--> Category of the data\\\n",
        "--> 5 groups of main data types\\\n",
        "--> Various other types of data available in python"
      ],
      "metadata": {
        "id": "1O0hdLbLwQZ9"
      }
    },
    {
      "cell_type": "code",
      "source": [
        "# 1. Numeric type: int & float\n",
        "print(20, 20.56)\n",
        "\n",
        "# 2. Boolean type (bool): True = 1, False = 0\n",
        "print(25 >= 26, end = ' '); print((6 == 6*2//2 - 2**(2-1)) and True or False)\n",
        "\n",
        "# 3. Sequence type: str, list, tuple\n",
        "print('Good' + ' or', 'bad', ['IDK'], ('but', 'my', 'life\\'s chill!'))\n",
        "\n",
        "# 4. Mapping Type: Will be discussed later\n",
        "\n",
        "# 5. NoneType(None):\n",
        "print(None, end = ' '); x = None; print(f'--> Nothingness is something. Therefore, {x} exists.')"
      ],
      "metadata": {
        "colab": {
          "base_uri": "https://localhost:8080/"
        },
        "id": "Cze4RjohwjNF",
        "outputId": "3d888afb-df05-47fa-c559-850e9ae85545"
      },
      "execution_count": null,
      "outputs": [
        {
          "output_type": "stream",
          "name": "stdout",
          "text": [
            "20 20.56\n",
            "False False\n",
            "Good or bad ['IDK'] ('but', 'my', \"life's chill!\")\n",
            "None --> Nothingness is something. Therefore, None exists.\n"
          ]
        }
      ]
    },
    {
      "cell_type": "markdown",
      "source": [
        "Type Conversion:"
      ],
      "metadata": {
        "id": "HSIl61T8C0gi"
      }
    },
    {
      "cell_type": "code",
      "source": [
        "# 1. Implicit Type Conversion:\n",
        "x = y = 1; print(x + y)\n",
        "\n",
        "# 2. Explicit Type Conversion:\n",
        "x = float(x); y = str(y); print(x, y, sep = '')\n",
        "print(complex(x))\n",
        "\n",
        "s = '5.8'\n",
        "# print(int(s)) # ValueError: invalid literal for int() with base 10: '5.8'\n",
        "print(float(s))\n",
        "\n",
        "tup = (1, 2)\n",
        "print(str(tup), '-->', str(tup)[1:-1])\n",
        "\n",
        "lis = [(\"1\", 2), 'str']\n",
        "print(str(lis)[1:-1])"
      ],
      "metadata": {
        "colab": {
          "base_uri": "https://localhost:8080/"
        },
        "id": "zd3ez0UbC0Mi",
        "outputId": "e4157a44-2c15-47a8-d842-8efe11406ce5"
      },
      "execution_count": null,
      "outputs": [
        {
          "output_type": "stream",
          "name": "stdout",
          "text": [
            "2\n",
            "1.01\n",
            "(1+0j)\n",
            "5.8\n",
            "(1, 2) --> 1, 2\n",
            "('1', 2), 'str'\n"
          ]
        }
      ]
    },
    {
      "cell_type": "markdown",
      "source": [
        "Input Taking:"
      ],
      "metadata": {
        "id": "T0vMseI1DjKW"
      }
    },
    {
      "cell_type": "code",
      "source": [
        "l, t= input(\"Enter 1st number: \"), input(\"Enter 2nd number: \")\n",
        "print(\"The numbers you gave are strings:\", l+ ', ' +t)\n",
        "print(\"The sum of your given numbers is:\", int(l)+int(t))\n",
        "another_way = float(input('Enter a number: '))\n",
        "print(\"Your number:\", another_way)"
      ],
      "metadata": {
        "colab": {
          "base_uri": "https://localhost:8080/"
        },
        "id": "SB_Pge8NDk9O",
        "outputId": "8fd20715-8810-43e4-ba7a-c16d1273662f"
      },
      "execution_count": null,
      "outputs": [
        {
          "output_type": "stream",
          "name": "stdout",
          "text": [
            "Enter 1st number: 123\n",
            "Enter 2nd number: 234\n",
            "The numbers you gave are strings: 123, 234\n",
            "The sum of your given numbers is: 357\n",
            "Enter a number: 21\n",
            "Your number: 21.0\n"
          ]
        }
      ]
    },
    {
      "cell_type": "markdown",
      "source": [
        "Random number:"
      ],
      "metadata": {
        "id": "Ueg3qHReKKWg"
      }
    },
    {
      "cell_type": "code",
      "source": [
        "import random\n",
        "print(random.randrange(995,999))"
      ],
      "metadata": {
        "colab": {
          "base_uri": "https://localhost:8080/"
        },
        "id": "bgOcrwjQKDBw",
        "outputId": "815eb24a-dce2-452a-fac8-74eb5306f962"
      },
      "execution_count": null,
      "outputs": [
        {
          "output_type": "stream",
          "name": "stdout",
          "text": [
            "997\n"
          ]
        }
      ]
    },
    {
      "cell_type": "markdown",
      "source": [
        "# Basic operations"
      ],
      "metadata": {
        "id": "YiUxh8vM21dM"
      }
    },
    {
      "cell_type": "markdown",
      "source": [
        "i. Unary operations: +(plus),   -(minus),   ~(invert)[a bitwise inverse defined as -(x+1)]"
      ],
      "metadata": {
        "id": "Usu_RQXoG2VM"
      }
    },
    {
      "cell_type": "code",
      "source": [
        "var = -10; print(+var, end = ' '); print(-var, end = ' '); print(~var)"
      ],
      "metadata": {
        "id": "cdS-9l0fGjky",
        "colab": {
          "base_uri": "https://localhost:8080/"
        },
        "outputId": "bf4ca7a2-ee4d-4f20-b06e-49803b132a8e"
      },
      "execution_count": null,
      "outputs": [
        {
          "output_type": "stream",
          "name": "stdout",
          "text": [
            "-10 10 9\n"
          ]
        }
      ]
    },
    {
      "cell_type": "markdown",
      "source": [
        "ii. Binary operation: Arithmetic operation: \\(+, -, \\*, /, //, %, \\**)"
      ],
      "metadata": {
        "id": "1_Hv4Gp4GouV"
      }
    },
    {
      "cell_type": "code",
      "source": [
        "print(5 + -3)"
      ],
      "metadata": {
        "id": "avT82xy-G7q7"
      },
      "execution_count": null,
      "outputs": []
    },
    {
      "cell_type": "code",
      "source": [
        "# Negative modulo:\n",
        "'''\n",
        "Rule number 1:\n",
        "If divisor is -, output is also -.\n",
        "If divisor is +, output is also +.\n",
        "'''\n",
        "\n",
        "'''\n",
        "When both sides are negative:\n",
        "Example: -5 % -4\n",
        "Think of it like 5%4 = 1. Output = -1.\n",
        "\n",
        "For -3 % -4\n",
        "Do the same: 3%4 = 3. Output = -3.\n",
        "Always follow rule number 1.\n",
        "'''\n",
        "print(-5 % -4)\n",
        "print(-3 % -4)\n",
        "\n",
        "'''\n",
        "When only one side is negative, find the closest divisible number.\n",
        "But remember:\n",
        "If the dividend is negative, go to the negative side of the number line to find the divisible number.\n",
        "If the divident is positive, go to the positive side of the number line to find the divisible number.\n",
        "\n",
        "Then the distance between the divisible number and the dividend is the answer. Distance is always +.\n",
        "But don't forget to follow rule number 1.\n",
        "'''\n",
        "print(5 % -1)\n",
        "print(5 % -4)\n",
        "print(-5 % 4)\n",
        "print(5 % -2)\n",
        "\n",
        "'''\n",
        "And it works like:\n",
        "-8%4 = 0 and 8%-4 = 0. Because 8 is divisible by 4.\n",
        "Basic Rule:\n",
        "-5%4 = (-2*4 + 3) % 4 = 3  => This means: -8%4 + 3%4 = 3.\n",
        "5%-4 = (2*4 - 3) % -4 = -3\n",
        "'''\n",
        "print()"
      ],
      "metadata": {
        "colab": {
          "base_uri": "https://localhost:8080/"
        },
        "id": "WZ4-QSeg2OtZ",
        "outputId": "fbb60141-3dd4-4dce-bc7b-733058f497e5"
      },
      "execution_count": null,
      "outputs": [
        {
          "output_type": "stream",
          "name": "stdout",
          "text": [
            "-1\n",
            "-3\n",
            "0\n",
            "-3\n",
            "3\n",
            "-1\n",
            "\n"
          ]
        }
      ]
    },
    {
      "cell_type": "code",
      "source": [
        "k= 2E10 # Here E or e is used to indicate power of 10. This makes the number float.\n",
        "print(type(k))\n",
        "o= 2J # Here J or j is used to indicate complex or imaginary number.\n",
        "print(type(o))\n",
        "print(pow(o,2), k*5) # Here pow() = 'To the power of any number'.\n",
        "# Another way of using power is:\n",
        "print(2J**2)\n",
        "print(f'{123:e}') # e format specifier. Shows mantissa and an exponent. Similar to ENG option in scientific calcs.\n",
        "                                        # Here, mantissa = 1.230000, exponent = +02 (which means ^2)\n",
        "                                        # It basically formats the number in scientific notation\n",
        "print(f'{1234567.89765:10.4f}')\n",
        "print('{:f}'.format(1234567.89765)) # This doesn't work properly sometimes.\n",
        "\n",
        "print(round(1234567.89765, 3))\n",
        "print(\"%.3f\" % 1234567.89765)"
      ],
      "metadata": {
        "id": "FHUMTaI6JAq2",
        "colab": {
          "base_uri": "https://localhost:8080/"
        },
        "outputId": "ecd57d40-d8bd-4e44-d4ee-6b531564160c"
      },
      "execution_count": null,
      "outputs": [
        {
          "output_type": "stream",
          "name": "stdout",
          "text": [
            "<class 'float'>\n",
            "<class 'complex'>\n",
            "(-4+0j) 100000000000.0\n",
            "(-4+0j)\n",
            "1.230000e+02\n",
            "1234567.8976\n",
            "1234567.897650\n",
            "1234567.898\n",
            "1234567.898\n"
          ]
        }
      ]
    },
    {
      "cell_type": "markdown",
      "source": [
        "iii. Assignment operator: # (=, +=, -=, *=, /=, %=, **=, //=)"
      ],
      "metadata": {
        "id": "n51hDZV4HG9Q"
      }
    },
    {
      "cell_type": "code",
      "source": [
        "var = -10; var -= 10; print(var)\n",
        "print(int(11.99), 11.99//1, type(11.99//1))"
      ],
      "metadata": {
        "id": "G9YUlHunHIKr",
        "colab": {
          "base_uri": "https://localhost:8080/"
        },
        "outputId": "5d9ebb80-3b49-4834-efb0-2fb7583cdd26"
      },
      "execution_count": 3,
      "outputs": [
        {
          "output_type": "stream",
          "name": "stdout",
          "text": [
            "-20\n",
            "11 11.0 <class 'float'>\n"
          ]
        }
      ]
    },
    {
      "cell_type": "markdown",
      "source": [
        "iv. Logical operator (and, or, not):"
      ],
      "metadata": {
        "id": "dlryf3DrHQTS"
      }
    },
    {
      "cell_type": "code",
      "source": [
        "print(not(6>5 and True) or True)"
      ],
      "metadata": {
        "id": "0kKWsVBlHdcC",
        "colab": {
          "base_uri": "https://localhost:8080/"
        },
        "outputId": "264efd9b-c0df-4197-c0d5-c2862c5a2680"
      },
      "execution_count": null,
      "outputs": [
        {
          "output_type": "stream",
          "name": "stdout",
          "text": [
            "True\n"
          ]
        }
      ]
    },
    {
      "cell_type": "markdown",
      "source": [
        "v. Comparison or Relational operator (==, !=, >, <, >=, <=):"
      ],
      "metadata": {
        "id": "NYnOSjumHUxm"
      }
    },
    {
      "cell_type": "code",
      "source": [
        "print(6 >= 5)"
      ],
      "metadata": {
        "id": "kqDB7ZxAHecm",
        "colab": {
          "base_uri": "https://localhost:8080/"
        },
        "outputId": "065f5a12-56ef-49d7-83f2-8781c65e779c"
      },
      "execution_count": null,
      "outputs": [
        {
          "output_type": "stream",
          "name": "stdout",
          "text": [
            "True\n"
          ]
        }
      ]
    },
    {
      "cell_type": "markdown",
      "source": [
        "vi. Membership operator (in, not in):"
      ],
      "metadata": {
        "id": "IiY9Pkn4Hag2"
      }
    },
    {
      "cell_type": "code",
      "source": [
        "print('c' in 'Cat', '\\n')"
      ],
      "metadata": {
        "id": "KJ7mJ67SHbP2",
        "colab": {
          "base_uri": "https://localhost:8080/"
        },
        "outputId": "6055b287-92c5-48ff-a627-3412e70ad48d"
      },
      "execution_count": null,
      "outputs": [
        {
          "output_type": "stream",
          "name": "stdout",
          "text": [
            "False \n",
            "\n"
          ]
        }
      ]
    },
    {
      "cell_type": "markdown",
      "source": [
        "vii. Identity operators (is, is not):"
      ],
      "metadata": {
        "id": "fEP913irHkjV"
      }
    },
    {
      "cell_type": "code",
      "source": [
        "var = -20; print(var is -20, '\\n') # returns False because var is not the same object as -20, even if they have the same content"
      ],
      "metadata": {
        "id": "JlghB8KAHlC4",
        "colab": {
          "base_uri": "https://localhost:8080/"
        },
        "outputId": "a0edcba2-d8ab-4f83-e716-aa0ca25d801d"
      },
      "execution_count": null,
      "outputs": [
        {
          "output_type": "stream",
          "name": "stdout",
          "text": [
            "False \n",
            "\n"
          ]
        },
        {
          "output_type": "stream",
          "name": "stderr",
          "text": [
            "<>:1: SyntaxWarning: \"is\" with a literal. Did you mean \"==\"?\n",
            "<>:1: SyntaxWarning: \"is\" with a literal. Did you mean \"==\"?\n",
            "<ipython-input-12-a9b1196bedf5>:1: SyntaxWarning: \"is\" with a literal. Did you mean \"==\"?\n",
            "  var = -20; print(var is -20, '\\n') # returns False because var is not the same object as -20, even if they have the same content\n"
          ]
        }
      ]
    },
    {
      "cell_type": "markdown",
      "source": [
        "vii. Bitwise operators: [Examples: & (Bitwise and), |(Bitwise or) etc.]"
      ],
      "metadata": {
        "id": "SX5tlhf_H2v3"
      }
    },
    {
      "cell_type": "code",
      "source": [
        "# Bitwise AND (&)\n",
        "# Example: 5 & 3\n",
        "# 5 in binary is 101\n",
        "# 3 in binary is 011\n",
        "# Performing bitwise AND:\n",
        "# 1 & 0 = 0\n",
        "# 0 & 1 = 0\n",
        "# 1 & 1 = 1\n",
        "# Result in binary: 001\n",
        "# Result in decimal: 1\n",
        "\n",
        "print(5 & 3)  # Output: 1\n",
        "\n",
        "\n",
        "# Bitwise OR (|)\n",
        "# Example: 5 | 3\n",
        "# 5 in binary is 101\n",
        "# 3 in binary is 011\n",
        "# Performing bitwise OR:\n",
        "# 1 | 0 = 1\n",
        "# 0 | 1 = 1\n",
        "# 1 | 1 = 1\n",
        "# Result in binary: 111\n",
        "# Result in decimal: 7\n",
        "\n",
        "print(5 | 3)  # Output: 7\n",
        "\n",
        "\n",
        "# Bitwise XOR (^)\n",
        "# Example: 5 ^ 3\n",
        "# 5 in binary is 101\n",
        "# 3 in binary is 011\n",
        "# Performing bitwise XOR:\n",
        "# 1 ^ 0 = 1\n",
        "# 0 ^ 1 = 1\n",
        "# 1 ^ 1 = 0\n",
        "# Result in binary: 110\n",
        "# Result in decimal: 6\n",
        "\n",
        "print(5 ^ 3)  # Output: 6\n",
        "\n",
        "\n",
        "# Bitwise NOT (~)\n",
        "# Example: ~5\n",
        "# 5 in binary is 101\n",
        "# Performing bitwise NOT:\n",
        "# ~(101) = -(101 + 1) = -(110) = -6\n",
        "\n",
        "print(~5)  # Output: -6\n",
        "\n",
        "\n",
        "# Bitwise left shift (<<)\n",
        "# Example: 5 << 2\n",
        "# 5 in binary is 101\n",
        "# Left shift by 2 means moving the bits to the left 2 positions and adding 0s to the right.\n",
        "# 101 << 2 = 10100\n",
        "# Result in decimal: 20\n",
        "\n",
        "print(5 << 2)  # Output: 20\n",
        "\n",
        "\n",
        "# Bitwise right shift (>>)\n",
        "# Example: 5 >> 2\n",
        "# 5 in binary is 101\n",
        "# Right shift by 2 means moving the bits to the right 2 positions.\n",
        "# 101 >> 2 = 1\n",
        "# Result in decimal: 1\n",
        "\n",
        "print(5 >> 2)  # Output: 1\n"
      ],
      "metadata": {
        "id": "I86Q09YKH3WS"
      },
      "execution_count": null,
      "outputs": []
    },
    {
      "cell_type": "markdown",
      "source": [
        "# Boolean\n",
        "Check this link: https://www.w3schools.com/python/python_booleans.asp"
      ],
      "metadata": {
        "id": "8WI-yoBeeNLf"
      }
    },
    {
      "cell_type": "markdown",
      "source": [
        "The bool() function allows you to evaluate any value, and give you True or False in return:\n",
        "Almost any value is evaluated to True if it has some sort of content. Any string is True, except empty strings.\n",
        "Any number is True, except 0. Any list, tuple, set, and dictionary are True, except empty ones."
      ],
      "metadata": {
        "id": "wpCX2eKoeXW1"
      }
    },
    {
      "cell_type": "code",
      "source": [
        "print(bool(1))\n",
        "print(bool(\"Hello!\"))\n",
        "print(bool([\"apple\", 66, \"banana\"]))\n",
        "\n",
        "'''The following will return false:\n",
        "bool(False)\n",
        "bool(None)\n",
        "bool(0)\n",
        "bool(\"\")\n",
        "bool(())\n",
        "bool([])\n",
        "bool({})\n",
        "'''\n",
        "print()"
      ],
      "metadata": {
        "colab": {
          "base_uri": "https://localhost:8080/"
        },
        "id": "30Sdmt9reQm-",
        "outputId": "3fd6fee5-d987-4645-9dbb-5a169206c122"
      },
      "execution_count": null,
      "outputs": [
        {
          "output_type": "stream",
          "name": "stdout",
          "text": [
            "True\n",
            "True\n",
            "True\n",
            "\n"
          ]
        }
      ]
    },
    {
      "cell_type": "markdown",
      "source": [
        "If you have an object that is made from a class with a \\_\\_len\\_\\_ function that returns 0 or False:"
      ],
      "metadata": {
        "id": "TSKIAGm0epYG"
      }
    },
    {
      "cell_type": "code",
      "source": [
        "class myclass():\n",
        "  def __len__(self):\n",
        "    return 0\n",
        "\n",
        "myobj = myclass()\n",
        "print(bool(myobj))"
      ],
      "metadata": {
        "colab": {
          "base_uri": "https://localhost:8080/"
        },
        "id": "Ao-B-8Rzes04",
        "outputId": "6a2b17b7-d613-409a-e526-fb2d996482d6"
      },
      "execution_count": null,
      "outputs": [
        {
          "output_type": "stream",
          "name": "stdout",
          "text": [
            "False\n"
          ]
        }
      ]
    },
    {
      "cell_type": "markdown",
      "source": [
        "You can create functions that returns a Boolean Value:"
      ],
      "metadata": {
        "id": "8BmwLbjde58T"
      }
    },
    {
      "cell_type": "code",
      "source": [
        "def m() :\n",
        "  return 9==9\n",
        "print(m())"
      ],
      "metadata": {
        "colab": {
          "base_uri": "https://localhost:8080/"
        },
        "id": "bA4_th_je9Hk",
        "outputId": "fe080013-166e-4c46-f3ae-da3017ab8b52"
      },
      "execution_count": null,
      "outputs": [
        {
          "output_type": "stream",
          "name": "stdout",
          "text": [
            "True\n"
          ]
        }
      ]
    },
    {
      "cell_type": "markdown",
      "source": [
        "You can execute code based on the Boolean answer of a function. Print \"YES!\" if the function returns True, otherwise print \"NO!\":"
      ],
      "metadata": {
        "id": "ZKnidC2efGWi"
      }
    },
    {
      "cell_type": "code",
      "source": [
        "def j():\n",
        "    b=input(\"Enter any value: \") #Remember: the entered value is a str.\n",
        "    return b\n",
        "if j():\n",
        "    print(\"YES!\")\n",
        "else:\n",
        "    print(\"NO!\")"
      ],
      "metadata": {
        "colab": {
          "base_uri": "https://localhost:8080/"
        },
        "id": "ulAjExSYfHwk",
        "outputId": "a1ea14de-fb71-4144-c9fe-31e5d8fdae62"
      },
      "execution_count": null,
      "outputs": [
        {
          "output_type": "stream",
          "name": "stdout",
          "text": [
            "Enter any value: 1\n",
            "YES!\n"
          ]
        }
      ]
    },
    {
      "cell_type": "markdown",
      "source": [
        "Check if an object is of a certain data type:"
      ],
      "metadata": {
        "id": "W14cMgs6fR7m"
      }
    },
    {
      "cell_type": "code",
      "source": [
        "x= 21\n",
        "print(isinstance(x, float))"
      ],
      "metadata": {
        "colab": {
          "base_uri": "https://localhost:8080/"
        },
        "id": "7Wzr-98tfSzb",
        "outputId": "0eee432b-d7d5-4525-fe5b-dade14db7101"
      },
      "execution_count": null,
      "outputs": [
        {
          "output_type": "stream",
          "name": "stdout",
          "text": [
            "False\n"
          ]
        }
      ]
    }
  ]
}